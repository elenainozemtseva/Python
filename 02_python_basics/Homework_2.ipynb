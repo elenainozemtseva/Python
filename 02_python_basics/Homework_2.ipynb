{
 "cells": [
  {
   "cell_type": "markdown",
   "metadata": {},
   "source": [
    "Задание 1.\n",
    "Даны 2 строки: long_phrase и short_phrase.  Напишите код, который проверяет действительно ли длинная фраза long_phrase длиннее короткой short_phrase. И выводит True или False в зависимости от результата сравнения."
   ]
  },
  {
   "cell_type": "code",
   "execution_count": 1,
   "metadata": {},
   "outputs": [
    {
     "name": "stdout",
     "output_type": "stream",
     "text": [
      "True\n"
     ]
    }
   ],
   "source": [
    "long_phrase = 'Насколько проще было бы писать программы, если бы не заказчики'\n",
    "short_phrase = '640Кб должно хватить для любых задач. Билл Гейтс (по легенде)'\n",
    "print(len(long_phrase) > len(short_phrase))"
   ]
  },
  {
   "cell_type": "markdown",
   "metadata": {},
   "source": [
    "Задание 2. \n",
    "Дано значение объема файла в байтах (в мегабайте 2^20 байт). Напишите перевод этого значения в мегабайты в формате: \"Объем файла равен 213.68Mb\"."
   ]
  },
  {
   "cell_type": "code",
   "execution_count": 21,
   "metadata": {},
   "outputs": [
    {
     "name": "stdout",
     "output_type": "stream",
     "text": [
      "Объем файла равен 888.88Mb\n"
     ]
    }
   ],
   "source": [
    "x = 932058235\n",
    "m = 2 ** 20\n",
    "x = round(x / m,2)\n",
    "print('Объем файла равен ' + str(x) + 'Mb')"
   ]
  },
  {
   "cell_type": "markdown",
   "metadata": {},
   "source": [
    "Задание 3. \n",
    "Разработать приложение для определения знака зодиака по дате рождения. Пример:\n",
    "Введите месяц: март\n",
    "Введите число: 6\n",
    "Вывод: Рыбы"
   ]
  },
  {
   "cell_type": "code",
   "execution_count": 43,
   "metadata": {},
   "outputs": [
    {
     "name": "stdout",
     "output_type": "stream",
     "text": [
      "Введите месяц:Май\n",
      "Введите число:26\n",
      "Близнецы\n"
     ]
    }
   ],
   "source": [
    "month = input('Введите месяц:')\n",
    "day = int(input('Введите число:'))\n",
    "\n",
    "if ((month.lower() == 'март') and (21 <= day <= 31)) or ((month.lower() == 'апрель') and (1 <= day <= 19)):\n",
    "    print('Овен')\n",
    "elif ((month.lower() == 'апрель') and (20 <= day <= 30)) or ((month.lower() == 'май') and (1 <= day <= 20)):\n",
    "    print('Телец')\n",
    "elif ((month.lower() == 'май') and (21 <= day <= 31)) or ((month.lower() == 'июнь') and (1 <= day <= 20)):\n",
    "    print('Близнецы')\n",
    "elif ((month.lower() == 'июнь') and (21 <= day <= 30)) or ((month.lower() == 'июль') and (1 <= day <= 22)):\n",
    "    print('Рак')\n",
    "elif ((month.lower() == 'июль') and (23 <= day <= 31)) or ((month.lower() == 'август') and (1 <= day <= 22)):\n",
    "    print('Лев')\n",
    "elif ((month.lower() == 'август') and (23 <= day <= 31)) or ((month.lower() == 'сентябрь') and (1 <= day <= 22)):\n",
    "    print('Дева')\n",
    "elif ((month.lower() == 'сентябрь') and (23 <= day <= 30)) or ((month.lower() == 'октябрь') and (1 <= day <= 22)):\n",
    "    print('Весы')\n",
    "elif ((month.lower() == 'октябрь') and (23 <= day <= 31)) or ((month.lower() == 'ноябрь') and (1 <= day <= 21)):\n",
    "    print('Скорпион')\n",
    "elif ((month.lower() == 'ноябрь') and (22 <= day <= 30)) or ((month.lower() == 'декабрь') and (1 <= day <= 21)):\n",
    "      print('Стрелец')\n",
    "elif ((month.lower() == 'декабрь') and (22 <= day <= 31)) or ((month.lower() == 'январь') and (1 <= day <= 19)):\n",
    "    print('Козерог')\n",
    "elif ((month.lower() == 'январь') and (20 <= day <= 31)) or ((month.lower() == 'февраль') and (1 <= day <= 18)):\n",
    "    print('Водолей')\n",
    "elif ((month.lower() == 'февраль') and (19 <= day <= 28)) or ((month.lower() == 'март') and (1 <= day <= 20)):\n",
    "    print('Рыбы')\n",
    "else:\n",
    "    print('Введены некорректные данные')\n"
   ]
  },
  {
   "cell_type": "markdown",
   "metadata": {},
   "source": [
    "Задание 4. \n",
    "Нужно разработать приложение для финансового планирования. Приложение учитывает сколько уходит на ипотеку, \"на жизнь\" и сколько нужно отложить на пенсию. Пользователь вводит:"
   ]
  },
  {
   "cell_type": "code",
   "execution_count": 56,
   "metadata": {},
   "outputs": [
    {
     "name": "stdout",
     "output_type": "stream",
     "text": [
      "Введите заработанную плату в месяц:250000\n",
      "Введите сколько процентов уходит на ипотеку:35\n",
      "Введите сколько процентов уходит на жизнь:30\n",
      "Введите количество премий за год:3\n",
      "На ипотеку было потрачено: 1050000 рублей Было накоплено: 1800000\n"
     ]
    }
   ],
   "source": [
    "solary = int(input('Введите заработанную плату в месяц:'))\n",
    "mortgage_percent = int(input('Введите сколько процентов уходит на ипотеку:'))\n",
    "expense_percent = int(input('Введите сколько процентов уходит на жизнь:'))\n",
    "num_bonus = int(input('Введите количество премий за год:'))\n",
    "mortgage = mortgage_percent / 100 * solary * 12\n",
    "cash_savings = ((1-expense_percent / 100) * solary * 12 + num_bonus * solary) - mortgage\n",
    "print('На ипотеку было потрачено: ' + str(int(mortgage)) + ' рублей Было накоплено: ' + str(int(cash_savings)))\n",
    "\n"
   ]
  },
  {
   "cell_type": "code",
   "execution_count": null,
   "metadata": {},
   "outputs": [],
   "source": []
  }
 ],
 "metadata": {
  "kernelspec": {
   "display_name": "Python 3",
   "language": "python",
   "name": "python3"
  },
  "language_info": {
   "codemirror_mode": {
    "name": "ipython",
    "version": 3
   },
   "file_extension": ".py",
   "mimetype": "text/x-python",
   "name": "python",
   "nbconvert_exporter": "python",
   "pygments_lexer": "ipython3",
   "version": "3.7.6"
  }
 },
 "nbformat": 4,
 "nbformat_minor": 4
}
