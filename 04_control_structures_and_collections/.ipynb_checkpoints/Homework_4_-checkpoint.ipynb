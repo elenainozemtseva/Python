{
 "cells": [
  {
   "cell_type": "markdown",
   "metadata": {},
   "source": [
    "Задание 1. Дан список с визитами по городам и странам. Напишите код, который возвращает отфильтрованный список geo_logs, содержащий только визиты из России."
   ]
  },
  {
   "cell_type": "code",
   "execution_count": 208,
   "metadata": {},
   "outputs": [],
   "source": [
    "geo_logs = [\n",
    "    {'visit1': ['Москва', 'Россия']},\n",
    "    {'visit2': ['Дели', 'Индия']},\n",
    "    {'visit3': ['Владимир', 'Россия']},\n",
    "    {'visit4': ['Лиссабон', 'Португалия']},\n",
    "    {'visit5': ['Париж', 'Франция']},\n",
    "    {'visit6': ['Лиссабон', 'Португалия']},\n",
    "    {'visit7': ['Тула', 'Россия']},\n",
    "    {'visit8': ['Тула', 'Россия']},\n",
    "    {'visit9': ['Курск', 'Россия']},\n",
    "    {'visit10': ['Архангельск', 'Россия']}\n",
    "]"
   ]
  },
  {
   "cell_type": "code",
   "execution_count": 189,
   "metadata": {},
   "outputs": [
    {
     "name": "stdout",
     "output_type": "stream",
     "text": [
      "[{'visit1': ['Москва', 'Россия']}, {'visit3': ['Владимир', 'Россия']}, {'visit7': ['Тула', 'Россия']}, {'visit8': ['Тула', 'Россия']}, {'visit9': ['Курск', 'Россия']}, {'visit10': ['Архангельск', 'Россия']}]\n"
     ]
    }
   ],
   "source": [
    "city = 'Россия'\n",
    "filter_geo_logs = []\n",
    "for i,element in enumerate(geo_logs):\n",
    "    geo_place = list(element.values())\n",
    "    if city in  geo_place[0]:\n",
    "        filter_geo_logs.append(element)             \n",
    "print(filter_geo_logs)"
   ]
  },
  {
   "cell_type": "code",
   "execution_count": 194,
   "metadata": {},
   "outputs": [
    {
     "name": "stdout",
     "output_type": "stream",
     "text": [
      "61\n"
     ]
    }
   ],
   "source": [
    "b = len(geo_logs)\n",
    "a = 0\n",
    "k=0\n",
    "while a < b:\n",
    "    for i,element in enumerate(geo_logs):\n",
    "        k+=1\n",
    "        geo_place = list(element.values())\n",
    "        if 'Россия' not in  geo_place[0]:\n",
    "            del geo_logs[i]\n",
    "    a=a+1\n",
    "print(k)"
   ]
  },
  {
   "cell_type": "code",
   "execution_count": 192,
   "metadata": {},
   "outputs": [
    {
     "name": "stdout",
     "output_type": "stream",
     "text": [
      "[{'visit1': ['Москва', 'Россия']}, {'visit3': ['Владимир', 'Россия']}, {'visit7': ['Тула', 'Россия']}, {'visit8': ['Тула', 'Россия']}, {'visit9': ['Курск', 'Россия']}, {'visit10': ['Архангельск', 'Россия']}]\n"
     ]
    }
   ],
   "source": [
    "print(geo_logs)#Если условие возврата именно этого списка geo_logs, \n",
    "               #тогда только так, хотя число проходов очень большое. но если удалять\n",
    "               #элементы списка одновременно проходя по нему - сбивается индексация и получается ерунда"
   ]
  },
  {
   "cell_type": "markdown",
   "metadata": {},
   "source": [
    "Задание 2. Выведите на экран все уникальные гео-ID из значений словаря ids. Т. е. список вида [213, 15, 54, 119, 98, 35]"
   ]
  },
  {
   "cell_type": "code",
   "execution_count": 212,
   "metadata": {},
   "outputs": [],
   "source": [
    "ids = {'user1': [213, 213, 213, 15, 213], \n",
    "       'user2': [54, 54, 119, 119, 119], \n",
    "       'user3': [213, 98, 98, 35]}"
   ]
  },
  {
   "cell_type": "code",
   "execution_count": 221,
   "metadata": {},
   "outputs": [
    {
     "name": "stdout",
     "output_type": "stream",
     "text": [
      "[98, 35, 213, 54, 119, 15]\n"
     ]
    }
   ],
   "source": [
    "a = ()\n",
    "for key,val in ids.items():\n",
    "    a = set(val).union(a)\n",
    "print(list(a))"
   ]
  },
  {
   "cell_type": "markdown",
   "metadata": {},
   "source": [
    "Задание 3. Дан список поисковых запросов. Получить распределение количества слов в них. Т. е. поисковых запросов из одного - слова 5%, из двух - 7%, из трех - 3% и т.д."
   ]
  },
  {
   "cell_type": "code",
   "execution_count": 264,
   "metadata": {},
   "outputs": [
    {
     "name": "stdout",
     "output_type": "stream",
     "text": [
      "{3: [['смотреть', 'сериалы', 'онлайн'], ['сериалы', 'этим', 'летом'], ['курс', 'по', 'питону'], ['сериалы', 'про', 'спорт']], 2: [['новости', 'спорта'], ['афиша', 'кино'], ['курс', 'доллара']]}\n"
     ]
    }
   ],
   "source": [
    "queries = [\n",
    "    'смотреть сериалы онлайн',\n",
    "    'новости спорта',\n",
    "    'афиша кино',\n",
    "    'курс доллара',\n",
    "    'сериалы этим летом',\n",
    "    'курс по питону',\n",
    "    'сериалы про спорт',\n",
    "]\n",
    "#dict_queries = {0:[[],[]]}\n",
    "dict_queries = {}\n",
    "for element in queries: \n",
    "    list_element = list(element.split(' '))\n",
    "    n = len(list_element)\n",
    "    if n in dict_queries:\n",
    "        buffer  = dict_queries.get(n)\n",
    "        buffer.append(list_element)\n",
    "        #print(buffer)\n",
    "       # dict_queries[n] = list_element\n",
    "    else:\n",
    "        dict_queries[n] = [list_element]\n",
    "print(dict_queries)\n",
    "    "
   ]
  },
  {
   "cell_type": "code",
   "execution_count": 265,
   "metadata": {},
   "outputs": [
    {
     "name": "stdout",
     "output_type": "stream",
     "text": [
      "Запросов из трех слов - 57%\n",
      "Запросов из двух слов - 43%\n"
     ]
    }
   ],
   "source": [
    "copybook = {1:'одного слова',\n",
    "            2:'двух слов',\n",
    "            3:'трех слов'}\n",
    "for key, value in dict_queries.items():\n",
    "    percent = round(len(value)*100/len(queries))\n",
    "    print(f\"Запросов из {copybook.get(key)} - {percent}%\")"
   ]
  },
  {
   "cell_type": "code",
   "execution_count": 268,
   "metadata": {},
   "outputs": [
    {
     "name": "stdout",
     "output_type": "stream",
     "text": [
      "Запросов из двух слов - 43%\n",
      "Запросов из трех слов - 57%\n"
     ]
    }
   ],
   "source": [
    "#если выводить с сортировкой\n",
    "from collections import OrderedDict\n",
    "dict_queries_sort = sorted(dict_queries.items(), key=lambda t: t[0])\n",
    "for key, value in dict_queries_sort:\n",
    "    percent = round(len(value)*100/len(queries))\n",
    "    print(f\"Запросов из {copybook.get(int(key))} - {percent}%\")"
   ]
  },
  {
   "cell_type": "code",
   "execution_count": 267,
   "metadata": {},
   "outputs": [
    {
     "name": "stdout",
     "output_type": "stream",
     "text": [
      "{3: [['смотреть', 'сериалы', 'онлайн'], ['сериалы', 'этим', 'летом'], ['курс', 'по', 'питону'], ['сериалы', 'про', 'спорт']], 2: [['новости', 'спорта'], ['афиша', 'кино'], ['курс', 'доллара']]}\n"
     ]
    }
   ],
   "source": []
  },
  {
   "cell_type": "code",
   "execution_count": null,
   "metadata": {},
   "outputs": [],
   "source": []
  }
 ],
 "metadata": {
  "kernelspec": {
   "display_name": "Python 3",
   "language": "python",
   "name": "python3"
  },
  "language_info": {
   "codemirror_mode": {
    "name": "ipython",
    "version": 3
   },
   "file_extension": ".py",
   "mimetype": "text/x-python",
   "name": "python",
   "nbconvert_exporter": "python",
   "pygments_lexer": "ipython3",
   "version": "3.7.6"
  }
 },
 "nbformat": 4,
 "nbformat_minor": 4
}
