{
 "cells": [
  {
   "cell_type": "code",
   "execution_count": 1,
   "metadata": {},
   "outputs": [],
   "source": [
    "documents = [\n",
    "    {'type': 'passport', 'number': '2207 876234', 'name': 'Василий Гупкин'},\n",
    "    {'type': 'invoice', 'number': '11-2', 'name': 'Геннадий Покемонов'},\n",
    "    {'type': 'insurance', 'number': '10006', 'name': 'Аристарх Павлов'}\n",
    "]"
   ]
  },
  {
   "cell_type": "code",
   "execution_count": 2,
   "metadata": {},
   "outputs": [],
   "source": [
    "directories = {\n",
    "    '1': ['2207 876234', '11-2'],\n",
    "    '2': ['10006'],\n",
    "    '3': []\n",
    "}"
   ]
  },
  {
   "cell_type": "markdown",
   "metadata": {},
   "source": [
    "Необходимо реализовать пользовательские команды (внимание! это не название функций, которые должны быть выразительными, а команды, которые вводит пользователь, чтобы получить необходимый результат):\n",
    "\n",
    "p – people – команда, которая спросит номер документа и выведет имя человека, которому он принадлежит;\n",
    "s – shelf – команда, которая спросит номер документа и выведет номер полки, на которой он находится\n",
    "Правильно обработайте ситуации, когда пользователь будет вводить несуществующий документ.\n",
    "l – list – команда, которая выведет список всех документов в формате\n",
    "passport \"2207 876234\" \"Василий Гупкин\"\n",
    "as – add shelf – команда, которая спросит номер новой полки и добавит ее в перечень. Предусмотрите случай, когда пользователь добавляет полку, которая уже существует.\n",
    "d – delete – команда, которая спросит номер документа и удалит его из каталога и из перечня полок. Предусмотрите сценарий, когда пользователь вводит несуществующий документ;\n",
    "m – move – команда, которая спросит номер документа и целевую полку и переместит его с текущей полки на целевую. Корректно обработайте кейсы, когда пользователь пытается переместить несуществующий документ или переместить документ на несуществующую полку;\n",
    "a – add – команда, которая добавит новый документ в каталог и в перечень полок, спросив его номер, тип, имя владельца и номер полки, на котором он будет храниться. Корректно обработайте ситуацию, когда пользователь будет пытаться добавить документ на несуществующую полку."
   ]
  },
  {
   "cell_type": "code",
   "execution_count": 17,
   "metadata": {},
   "outputs": [],
   "source": [
    "def get_name(list_doc,):\n",
    "    \"\"\"\n",
    "    Получить имя по номеру документа\n",
    "    \"\"\"\n",
    "    doc_number = input('Enter docement number: ')\n",
    "    for document in list_doc:\n",
    "        if document['number'] == doc_number:\n",
    "            print(f\"Owner's name: {document['name']}\")\n",
    "            return\n",
    "    print('Number is not exist in database')\n"
   ]
  },
  {
   "cell_type": "code",
   "execution_count": 18,
   "metadata": {},
   "outputs": [
    {
     "name": "stdout",
     "output_type": "stream",
     "text": [
      "Help on function get_name in module __main__:\n",
      "\n",
      "get_name(list_doc)\n",
      "    Получить имя по номеру документа\n",
      "\n"
     ]
    }
   ],
   "source": [
    "help(get_name)"
   ]
  },
  {
   "cell_type": "code",
   "execution_count": 19,
   "metadata": {},
   "outputs": [
    {
     "name": "stdout",
     "output_type": "stream",
     "text": [
      "Enter docement number: 10006\n",
      "Owner's name: Аристарх Павлов\n"
     ]
    }
   ],
   "source": [
    "get_name(documents)"
   ]
  },
  {
   "cell_type": "code",
   "execution_count": 9,
   "metadata": {},
   "outputs": [
    {
     "name": "stdout",
     "output_type": "stream",
     "text": [
      "Введите номер документа: 10006\n",
      "2\n"
     ]
    }
   ],
   "source": [
    "per = input('Введите номер документа: ')\n",
    "for key,dir_el in directories.items():\n",
    "    for el in dir_el:\n",
    "        if el == per:\n",
    "            print(key)\n",
    "    #print(key,dir_el)"
   ]
  },
  {
   "cell_type": "code",
   "execution_count": 20,
   "metadata": {},
   "outputs": [],
   "source": [
    "def get_shelf_number(dic_shelf):\n",
    "    \"\"\"\n",
    "    Получить номер полки по введенному номеру документа\n",
    "    \"\"\"\n",
    "    doc_number = input('Enter document number: ')\n",
    "    for shelf,list_number in dic_shelf.items():\n",
    "        for number in list_number:\n",
    "            if number == doc_number:\n",
    "                print(f'Shelf number: {shelf}')\n",
    "                return\n",
    "    print('Number is not exist in database')"
   ]
  },
  {
   "cell_type": "code",
   "execution_count": 21,
   "metadata": {},
   "outputs": [
    {
     "name": "stdout",
     "output_type": "stream",
     "text": [
      "Enter document number: 11-2\n",
      "Shelf number: 1\n"
     ]
    }
   ],
   "source": [
    "get_shelf_number(directories)"
   ]
  },
  {
   "cell_type": "code",
   "execution_count": null,
   "metadata": {},
   "outputs": [],
   "source": []
  }
 ],
 "metadata": {
  "kernelspec": {
   "display_name": "Python 3",
   "language": "python",
   "name": "python3"
  },
  "language_info": {
   "codemirror_mode": {
    "name": "ipython",
    "version": 3
   },
   "file_extension": ".py",
   "mimetype": "text/x-python",
   "name": "python",
   "nbconvert_exporter": "python",
   "pygments_lexer": "ipython3",
   "version": "3.7.6"
  }
 },
 "nbformat": 4,
 "nbformat_minor": 4
}
