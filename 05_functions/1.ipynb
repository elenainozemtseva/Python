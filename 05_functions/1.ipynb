{
 "cells": [
  {
   "cell_type": "code",
   "execution_count": 96,
   "metadata": {},
   "outputs": [],
   "source": [
    "documents = [\n",
    "    {'type': 'passport', 'number': '2207 876234', 'name': 'Василий Гупкин'},\n",
    "    {'type': 'invoice', 'number': '11-2', 'name': 'Геннадий Покемонов'},\n",
    "    {'type': 'insurance', 'number': '10006', 'name': 'Аристарх Павлов'}\n",
    "]"
   ]
  },
  {
   "cell_type": "code",
   "execution_count": 97,
   "metadata": {},
   "outputs": [],
   "source": [
    "directories = {\n",
    "    '1': ['2207 876234', '11-2'],\n",
    "    '2': ['10006'],\n",
    "    '3': []\n",
    "}"
   ]
  },
  {
   "cell_type": "markdown",
   "metadata": {},
   "source": [
    "Необходимо реализовать пользовательские команды (внимание! это не название функций, которые должны быть выразительными, а команды, которые вводит пользователь, чтобы получить необходимый результат):\n",
    "\n",
    "p – people – команда, которая спросит номер документа и выведет имя человека, которому он принадлежит;\n",
    "s – shelf – команда, которая спросит номер документа и выведет номер полки, на которой он находится\n",
    "Правильно обработайте ситуации, когда пользователь будет вводить несуществующий документ.\n",
    "l – list – команда, которая выведет список всех документов в формате\n",
    "passport \"2207 876234\" \"Василий Гупкин\"\n",
    "as – add shelf – команда, которая спросит номер новой полки и добавит ее в перечень. Предусмотрите случай, когда пользователь добавляет полку, которая уже существует.\n",
    "d – delete – команда, которая спросит номер документа и удалит его из каталога и из перечня полок. Предусмотрите сценарий, когда пользователь вводит несуществующий документ;\n",
    "m – move – команда, которая спросит номер документа и целевую полку и переместит его с текущей полки на целевую. Корректно обработайте кейсы, когда пользователь пытается переместить несуществующий документ или переместить документ на несуществующую полку;\n",
    "a – add – команда, которая добавит новый документ в каталог и в перечень полок, спросив его номер, тип, имя владельца и номер полки, на котором он будет храниться. Корректно обработайте ситуацию, когда пользователь будет пытаться добавить документ на несуществующую полку."
   ]
  },
  {
   "cell_type": "code",
   "execution_count": 28,
   "metadata": {},
   "outputs": [],
   "source": [
    "def get_name(list_doc): # p\n",
    "    \"\"\"\n",
    "    Получить имя по номеру документа\n",
    "    \"\"\"\n",
    "    doc_number = input('Enter docement number: ')\n",
    "    for document in list_doc:\n",
    "        if document['number'] == doc_number:\n",
    "            print(f\"Owner's name: {document['name']}\")\n",
    "            return\n",
    "    print('Number is not exist in database')\n"
   ]
  },
  {
   "cell_type": "code",
   "execution_count": 29,
   "metadata": {},
   "outputs": [
    {
     "name": "stdout",
     "output_type": "stream",
     "text": [
      "Help on function get_name in module __main__:\n",
      "\n",
      "get_name(list_doc)\n",
      "    Получить имя по номеру документа\n",
      "\n"
     ]
    }
   ],
   "source": [
    "help(get_name)"
   ]
  },
  {
   "cell_type": "code",
   "execution_count": 30,
   "metadata": {},
   "outputs": [
    {
     "name": "stdout",
     "output_type": "stream",
     "text": [
      "Enter docement number: 1\n",
      "Number is not exist in database\n"
     ]
    }
   ],
   "source": [
    "get_name(documents)"
   ]
  },
  {
   "cell_type": "code",
   "execution_count": 31,
   "metadata": {},
   "outputs": [
    {
     "name": "stdout",
     "output_type": "stream",
     "text": [
      "Введите номер документа: 1\n"
     ]
    }
   ],
   "source": [
    "per = input('Введите номер документа: ')\n",
    "for key,dir_el in directories.items():\n",
    "    for el in dir_el:\n",
    "        if el == per:\n",
    "            print(key)\n",
    "    #print(key,dir_el)"
   ]
  },
  {
   "cell_type": "code",
   "execution_count": 48,
   "metadata": {},
   "outputs": [],
   "source": [
    "def get_shelf_number(dic_shelf):# s\n",
    "    \"\"\"\n",
    "    Получить номер полки по введенному номеру документа\n",
    "    \"\"\"\n",
    "    doc_number = input('Enter document number: ')\n",
    "    for shelf,list_number in dic_shelf.items():\n",
    "        for number in list_number:\n",
    "            if number == doc_number:\n",
    "                print(f'Shelf number: {shelf}')\n",
    "                return\n",
    "    print('Number is not exist in database!')"
   ]
  },
  {
   "cell_type": "code",
   "execution_count": 49,
   "metadata": {},
   "outputs": [
    {
     "name": "stdout",
     "output_type": "stream",
     "text": [
      "Enter document number: j\n",
      "Number is not exist in database\n"
     ]
    }
   ],
   "source": [
    "get_shelf_number(directories)"
   ]
  },
  {
   "cell_type": "code",
   "execution_count": 67,
   "metadata": {},
   "outputs": [],
   "source": [
    "def get_list_doc(list_doc): # l\n",
    "    \"\"\"\n",
    "    Вывести все элементы списка в заданном формате \n",
    "    \"\"\"\n",
    "    for doc in list_doc:\n",
    "        print(f\"{doc['type']} \\\"{doc['number']}\\\" \\\"{doc['name']}\\\" \")\n",
    "        #print(f'y {doc['type']} \"{doc['number']}\" \"{doc['name']}\" ')\n",
    "            #return"
   ]
  },
  {
   "cell_type": "code",
   "execution_count": 68,
   "metadata": {},
   "outputs": [
    {
     "name": "stdout",
     "output_type": "stream",
     "text": [
      "passport \"2207 876234\" \"Василий Гупкин\" \n",
      "invoice \"11-2\" \"Геннадий Покемонов\" \n",
      "insurance \"10006\" \"Аристарх Павлов\" \n"
     ]
    }
   ],
   "source": [
    "get_list_doc(documents)"
   ]
  },
  {
   "cell_type": "code",
   "execution_count": 80,
   "metadata": {},
   "outputs": [],
   "source": [
    "def create_new_shelf(dic_shelf): # as\n",
    "    \"\"\"\n",
    "    Создать новый номер полки в словаре, если такового не существует \n",
    "    \"\"\"\n",
    "    new_number = input('Enter new shelf number: ')\n",
    "    if new_number in dic_shelf:\n",
    "        print(f\"Shelf number {new_number} already exists!\")\n",
    "    else:\n",
    "        dic_shelf[new_number] = []\n",
    "        print(dic_shelf)"
   ]
  },
  {
   "cell_type": "code",
   "execution_count": 81,
   "metadata": {},
   "outputs": [
    {
     "name": "stdout",
     "output_type": "stream",
     "text": [
      "Enter new shelf number: 8\n",
      "Shelf number 8 already exists\n"
     ]
    }
   ],
   "source": [
    "create_new_shelf(directories)"
   ]
  },
  {
   "cell_type": "code",
   "execution_count": 84,
   "metadata": {},
   "outputs": [],
   "source": [
    "def delete_from_shelf(doc_number,dic_shelf): #Удалить номер из списка в полке\n",
    "    for shelf,list_number in dic_shelf.items():\n",
    "        for number in list_number:\n",
    "            if number == doc_number:\n",
    "               # print(f'Shelf number: {shelf}')\n",
    "                dic_shelf[shelf].remove(doc_number)\n",
    "                print(dic_shelf)\n",
    "                return\n",
    "    "
   ]
  },
  {
   "cell_type": "code",
   "execution_count": 85,
   "metadata": {},
   "outputs": [
    {
     "name": "stdout",
     "output_type": "stream",
     "text": [
      "{'1': ['2207 876234'], '2': ['10006'], '3': [], '4': '', '8': []}\n"
     ]
    }
   ],
   "source": [
    "#doc_number = '11-2'\n",
    "#delete_from_shelf(doc_number,directories)"
   ]
  },
  {
   "cell_type": "code",
   "execution_count": 92,
   "metadata": {},
   "outputs": [],
   "source": [
    "def delete_document(list_doc,dic_shelf): # d\n",
    "    \"\"\"\n",
    "    Удалить запись из списка документов и номер с полки по введенному номеру документа \n",
    "    \"\"\"\n",
    "    doc_number = input('Enter docement number: ')\n",
    "    for document in list_doc:\n",
    "        if document['number'] == doc_number:\n",
    "            delete_from_shelf(doc_number,dic_shelf) # функция, которая удаляем номер с полки\n",
    "            #print(list_doc.index(document))\n",
    "            list_doc.remove(document)\n",
    "            #print(list_doc)\n",
    "            return\n",
    "    print('Number is not exist in database')\n"
   ]
  },
  {
   "cell_type": "code",
   "execution_count": 93,
   "metadata": {},
   "outputs": [
    {
     "name": "stdout",
     "output_type": "stream",
     "text": [
      "Enter docement number: 10006\n",
      "[{'type': 'passport', 'number': '2207 876234', 'name': 'Василий Гупкин'}, {'type': 'invoice', 'number': '11-2', 'name': 'Геннадий Покемонов'}]\n"
     ]
    }
   ],
   "source": [
    "delete_document(documents,directories)"
   ]
  },
  {
   "cell_type": "code",
   "execution_count": 103,
   "metadata": {},
   "outputs": [],
   "source": [
    "def move_doc_on_shelf(dic_shelf):# m Переместить номер документа на другую полку\n",
    "    \"\"\"\n",
    "    Функция переносит номер документа на другую полку в каталоге\n",
    "    1.Пользователь вводит номер документа и номер полки\n",
    "    2.Программа проверяет существование полки, затем проходится по элементам списка каждого ключа,\n",
    "      если номер найден, он удаляется из списка и добавляется в список новой полки\n",
    "    3.Если номер не найден, тогда выводится сообщение, что данного номера документа в базе нет.\n",
    "    \"\"\"\n",
    "    doc_number = input('Enter document number: ')\n",
    "    shelf_number = input('Enter shelf number: ')\n",
    "    if shelf_number in dic_shelf: # Проверка на существование полки\n",
    "        for shelf,list_number in dic_shelf.items():\n",
    "            for number in list_number:\n",
    "                if number == doc_number:\n",
    "                   # print(f'Shelf number: {shelf}')\n",
    "                    dic_shelf[shelf].remove(doc_number) #Удаляем со старой полки\n",
    "                    dic_shelf[shelf_number].append(doc_number)\n",
    "                    print(dic_shelf) #Помещаем на новую полку\n",
    "                    return\n",
    "        print('Document number does not exist in database!')\n",
    "    else:\n",
    "        print(f\"Shelf number {shelf_number} does not exist in database!\")"
   ]
  },
  {
   "cell_type": "code",
   "execution_count": 105,
   "metadata": {},
   "outputs": [
    {
     "name": "stdout",
     "output_type": "stream",
     "text": [
      "Enter document number: 45\n",
      "Enter shelf number: 1\n",
      "Document number does not exist in database!\n"
     ]
    }
   ],
   "source": [
    "move_doc_on_shelf(directories)"
   ]
  },
  {
   "cell_type": "code",
   "execution_count": 110,
   "metadata": {},
   "outputs": [],
   "source": [
    "def add_new_document(list_doc,dic_shelf): # a Добавляем новый документ в список и помещаем номер документа в соответствующий список полки \n",
    "    shelf_number = input('Enter shelf number: ')\n",
    "    if shelf_number in dic_shelf:\n",
    "        new_doc_number = input('Enter new document_number: ')\n",
    "        new_doc_type = input('Enter document type: ')\n",
    "        new_doc_name = input('Enter owner name: ')\n",
    "        #Создаем новую запись\n",
    "        list_doc.append({'type': new_doc_type, 'number': new_doc_number, 'name': new_doc_name})\n",
    "        #Помещаем номер на полку\n",
    "        dic_shelf[shelf_number].append(new_doc_number)\n",
    "        print(list_doc)\n",
    "        print(dic_shelf)\n",
    "        return\n",
    "    else:\n",
    "        print(f\"Shelf number {shelf_number} does not exist in database!\")\n",
    "        \n",
    "    "
   ]
  },
  {
   "cell_type": "code",
   "execution_count": 111,
   "metadata": {},
   "outputs": [
    {
     "name": "stdout",
     "output_type": "stream",
     "text": [
      "Enter shelf number: 3\n",
      "Enter new document_number: 88-8\n",
      "Enter document type: invoice\n",
      "Enter owner name: Вася Пупкин\n",
      "[{'type': 'passport', 'number': '2207 876234', 'name': 'Василий Гупкин'}, {'type': 'invoice', 'number': '11-2', 'name': 'Геннадий Покемонов'}, {'type': 'insurance', 'number': '10006', 'name': 'Аристарх Павлов'}, {'type': 'invoice', 'number': '88-8', 'name': 'Вася Пупкин'}]\n",
      "{'1': ['2207 876234', '10006'], '2': [], '3': ['11-2', '88-8']}\n"
     ]
    }
   ],
   "source": [
    "add_new_document(documents,directories)"
   ]
  },
  {
   "cell_type": "code",
   "execution_count": 113,
   "metadata": {},
   "outputs": [],
   "source": [
    "def initialize_document_directory(chek):\n",
    "    if chek == 1:\n",
    "        doc = documents\n",
    "    else:\n",
    "        doc = directories\n",
    "    return doc"
   ]
  },
  {
   "cell_type": "code",
   "execution_count": 115,
   "metadata": {},
   "outputs": [],
   "source": [
    "def main():\n",
    "    \"\"\"\n",
    "    p  – вывести имя человека по номеру документа;\n",
    "    s  – вывести номер полки для номера документа;\n",
    "    l  – вывести список всех документов в формате\n",
    "          passport \"2207 876234\" \"Василий Гупкин\"\n",
    "    as – создать новый номер полки; \n",
    "    d  – удалить документ из каталога и из перечня полок;\n",
    "    m  – переместить номер документа на новую существующую полку;\n",
    "    a  – добавить новый документ в каталог и в перечень полок.\n",
    "    \"\"\"\n",
    "    list_doc = initialize_document_directory(1)\n",
    "    dic_shelf = initialize_document_directory(2)\n",
    "    command = input('Enter command: ')\n",
    "    if   command == 'p':\n",
    "        get_name(list_doc)\n",
    "    elif command == 's':\n",
    "        get_shelf_number(dic_shelf)\n",
    "    elif command == 'l':\n",
    "        get_list_doc(list_doc)\n",
    "    elif command == 'as':\n",
    "        create_new_shelf(dic_shelf)\n",
    "    elif command == 'd':\n",
    "        delete_document(list_doc,dic_shelf)\n",
    "    elif command == 'm':\n",
    "        move_doc_on_shelf(dic_shelf)\n",
    "    elif command == 'a':\n",
    "        add_new_document(list_doc,dic_shelf)\n",
    "    else:\n",
    "        print(\"Command not defined. Use help.\")\n",
    "        \n",
    "        \n",
    "        \n",
    "    "
   ]
  },
  {
   "cell_type": "code",
   "execution_count": null,
   "metadata": {},
   "outputs": [],
   "source": [
    "main()"
   ]
  },
  {
   "cell_type": "code",
   "execution_count": null,
   "metadata": {},
   "outputs": [],
   "source": []
  }
 ],
 "metadata": {
  "kernelspec": {
   "display_name": "Python 3",
   "language": "python",
   "name": "python3"
  },
  "language_info": {
   "codemirror_mode": {
    "name": "ipython",
    "version": 3
   },
   "file_extension": ".py",
   "mimetype": "text/x-python",
   "name": "python",
   "nbconvert_exporter": "python",
   "pygments_lexer": "ipython3",
   "version": "3.7.6"
  }
 },
 "nbformat": 4,
 "nbformat_minor": 4
}
