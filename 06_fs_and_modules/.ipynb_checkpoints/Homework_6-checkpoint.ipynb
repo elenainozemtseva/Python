{
 "cells": [
  {
   "cell_type": "markdown",
   "metadata": {},
   "source": [
    "Домашнее задание\n",
    "1. Переведите содержимое файла purchase_log.txt в словарь purchases вида:\n",
    "\n",
    "{'1840e0b9d4': 'Продукты', ...}\n",
    "2. Для каждого user_id в файле visit_log.csv определите третий столбец с категорией покупки (если покупка была, сам файл visit_log.csv изменять не надо). Запишите в файл funnel.csv визиты из файла visit_log.csv, в которых были покупки с указанием категории.\n",
    "\n",
    "Учтите условия на данные:\n",
    "\n",
    "содержимое purchase_log.txt помещается в оперативную память компьютера\n",
    "содержимое visit_log.csv - нет; используйте только построчную обработку этого файла"
   ]
  },
  {
   "cell_type": "code",
   "execution_count": 87,
   "metadata": {},
   "outputs": [],
   "source": [
    "def read_file_N (address,n):\n",
    "    f = open(address,'r')\n",
    "   # list_N = []\n",
    "    while n != 0:\n",
    "        #list_N.append(f.readline())\n",
    "        print(f.readline()) \n",
    "        n -= 1\n",
    "    f.close()\n",
    "    #return list_N"
   ]
  },
  {
   "cell_type": "code",
   "execution_count": 88,
   "metadata": {},
   "outputs": [],
   "source": [
    "def get_dict(file_name):\n",
    "    import json\n",
    "    dict_purchases = {}\n",
    "    with open (file_name, encoding = 'utf=8') as fp:   \n",
    "        for line in fp:\n",
    "            line = line.strip()  \n",
    "            dict_ = json.loads(line)\n",
    "            dict_purchases[ dict_['user_id']] = dict_['category']    \n",
    "    return dict_purchases   "
   ]
  },
  {
   "cell_type": "code",
   "execution_count": 89,
   "metadata": {},
   "outputs": [
    {
     "name": "stdout",
     "output_type": "stream",
     "text": [
      "user_id category\n",
      "1840e0b9d4 Продукты\n",
      "4e4f90fcfb Электроника\n",
      "afea8d72fc Электроника\n",
      "373a6055fe Бытовая техника\n",
      "9b2ab046f3 Электроника\n",
      "9f39d307c3 Электроника\n",
      "44edeffc91 Продукты\n",
      "704474fa2d Продукты\n",
      "1de31be403 Бытовая техника\n",
      "b71f36a5e4 Продукты\n",
      "99518\n"
     ]
    }
   ],
   "source": [
    "purchases = get_dict('purchase_log.txt')\n",
    "i = 0\n",
    "for key, value in purchases.items():\n",
    "    print(key, value)\n",
    "    i += 1\n",
    "    if i > 10:\n",
    "        break\n",
    "print(len(purchases))"
   ]
  },
  {
   "cell_type": "code",
   "execution_count": 90,
   "metadata": {},
   "outputs": [],
   "source": [
    "i = 0\n",
    "with open ('visit_log.csv','r') as f: \n",
    "    with open ('funnel.csv', 'w') as f_funnel: \n",
    "        for line in f:\n",
    "            line = line.strip().split(',')\n",
    "            if line[0] in purchases:\n",
    "                el = purchases.get(line[0])\n",
    "                f_funnel.write(line[0] +',' + line[1]+','+ el)\n",
    "                f_funnel.write('\\n')"
   ]
  },
  {
   "cell_type": "code",
   "execution_count": 91,
   "metadata": {},
   "outputs": [
    {
     "name": "stdout",
     "output_type": "stream",
     "text": [
      "user_id,source,category\n",
      "\n",
      "1840e0b9d4,other,Продукты\n",
      "\n",
      "4e4f90fcfb,context,Электроника\n",
      "\n",
      "afea8d72fc,other,Электроника\n",
      "\n",
      "2824221f38,email,Продукты\n",
      "\n",
      "373a6055fe,other,Бытовая техника\n",
      "\n",
      "9b2ab046f3,other,Электроника\n",
      "\n",
      "9f39d307c3,context,Электроника\n",
      "\n",
      "44edeffc91,context,Продукты\n",
      "\n",
      "704474fa2d,other,Продукты\n",
      "\n"
     ]
    }
   ],
   "source": [
    "read_file_N ('funnel.csv',10)\n",
    "#read_file_N ('visit_log.csv',10)"
   ]
  },
  {
   "cell_type": "code",
   "execution_count": null,
   "metadata": {},
   "outputs": [],
   "source": []
  }
 ],
 "metadata": {
  "kernelspec": {
   "display_name": "Python 3",
   "language": "python",
   "name": "python3"
  },
  "language_info": {
   "codemirror_mode": {
    "name": "ipython",
    "version": 3
   },
   "file_extension": ".py",
   "mimetype": "text/x-python",
   "name": "python",
   "nbconvert_exporter": "python",
   "pygments_lexer": "ipython3",
   "version": "3.7.6"
  }
 },
 "nbformat": 4,
 "nbformat_minor": 4
}
