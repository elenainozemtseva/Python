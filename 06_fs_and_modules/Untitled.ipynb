{
 "cells": [
  {
   "cell_type": "markdown",
   "metadata": {},
   "source": [
    "Домашнее задание\n",
    "1. Переведите содержимое файла purchase_log.txt в словарь purchases вида:\n",
    "\n",
    "{'1840e0b9d4': 'Продукты', ...}\n",
    "2. Для каждого user_id в файле visit_log.csv определите третий столбец с категорией покупки (если покупка была, сам файл visit_log.csv изменять не надо). Запишите в файл funnel.csv визиты из файла visit_log.csv, в которых были покупки с указанием категории.\n",
    "\n",
    "Учтите условия на данные:\n",
    "\n",
    "содержимое purchase_log.txt помещается в оперативную память компьютера\n",
    "содержимое visit_log.csv - нет; используйте только построчную обработку этого файла"
   ]
  },
  {
   "cell_type": "code",
   "execution_count": 6,
   "metadata": {},
   "outputs": [
    {
     "name": "stdout",
     "output_type": "stream",
     "text": [
      "[{'user_id': 'category'}, {'1840e0b9d4': 'Продукты'}, {'4e4f90fcfb': 'Электроника'}, {'afea8d72fc': 'Электроника'}, {'373a6055fe': 'Бытовая техника'}, {'9b2ab046f3': 'Электроника'}]\n"
     ]
    }
   ],
   "source": [
    "import json\n",
    "i = 0\n",
    "list_purchases = []\n",
    "dict_purchases = {}\n",
    "with open ('purchase_log.txt', encoding = 'utf=8') as fp:   \n",
    "    for line in fp:\n",
    "        line = line.strip()  \n",
    "        dict_ = json.loads(line)\n",
    "#         if dict_['user_id'] in dict_purchases:\n",
    "#             dict_purchases[ dict_['user_id']]\n",
    "#         else:\n",
    "#             dict_purchases[ dict_['user_id']] = dict_['category']\n",
    "        el = {dict_['user_id']:dict_['category']}\n",
    "        list_purchases.append(el) \n",
    "            #         for key, value in dict_.items(): \n",
    "#             print(key, value)\n",
    "#         print(dict_)\n",
    "        #dict_purchases[]\n",
    "        i += 1\n",
    "        if i > 5:\n",
    "            break\n",
    "print(list_purchases)    "
   ]
  },
  {
   "cell_type": "code",
   "execution_count": 9,
   "metadata": {},
   "outputs": [
    {
     "name": "stdout",
     "output_type": "stream",
     "text": [
      "{'user_id': 'category'}\n",
      "{'1840e0b9d4': 'Продукты'}\n",
      "{'4e4f90fcfb': 'Электроника'}\n",
      "{'afea8d72fc': 'Электроника'}\n",
      "{'373a6055fe': 'Бытовая техника'}\n",
      "{'9b2ab046f3': 'Электроника'}\n"
     ]
    }
   ],
   "source": [
    "for elem in list_purchases:\n",
    "    print(elem)"
   ]
  },
  {
   "cell_type": "code",
   "execution_count": 10,
   "metadata": {},
   "outputs": [
    {
     "name": "stdout",
     "output_type": "stream",
     "text": [
      "{'user_id': 'category', '1840e0b9d4': 'Продукты', '4e4f90fcfb': 'Электроника', 'afea8d72fc': 'Электроника', '373a6055fe': 'Бытовая техника', '9b2ab046f3': 'Электроника'}\n"
     ]
    }
   ],
   "source": [
    "import json\n",
    "i = 0\n",
    "list_purchases = []\n",
    "dict_purchases = {}\n",
    "with open ('purchase_log.txt', encoding = 'utf=8') as fp:   \n",
    "    for line in fp:\n",
    "        line = line.strip()  \n",
    "        dict_ = json.loads(line)\n",
    "        if dict_['user_id'] in dict_purchases:\n",
    "             dict_purchases[ dict_['user_id']]= dict_['category']\n",
    "        else:\n",
    "             dict_purchases[ dict_['user_id']] = dict_['category']\n",
    "#         el = {dict_['user_id']:dict_['category']}\n",
    "#         list_purchases.append(el) \n",
    "            #         for key, value in dict_.items(): \n",
    "#             print(key, value)\n",
    "#         print(dict_)\n",
    "        #dict_purchases[]\n",
    "        i += 1\n",
    "        if i > 5:\n",
    "            break\n",
    "print(dict_purchases)    "
   ]
  },
  {
   "cell_type": "code",
   "execution_count": 72,
   "metadata": {},
   "outputs": [],
   "source": [
    "def read_file_N (address,n):\n",
    "    f = open(address,'r')\n",
    "   # list_N = []\n",
    "    while n != 0:\n",
    "        #list_N.append(f.readline())\n",
    "        print(f.readline()) \n",
    "        n -= 1\n",
    "    #return list_N"
   ]
  },
  {
   "cell_type": "code",
   "execution_count": null,
   "metadata": {},
   "outputs": [],
   "source": []
  },
  {
   "cell_type": "code",
   "execution_count": 21,
   "metadata": {},
   "outputs": [],
   "source": [
    "def get_dict(file_name):\n",
    "    import json\n",
    "    list_purchases = []\n",
    "    dict_purchases = {}\n",
    "    with open (file_name, encoding = 'utf=8') as fp:   \n",
    "        for line in fp:\n",
    "            line = line.strip()  \n",
    "            dict_ = json.loads(line)\n",
    "            dict_purchases[ dict_['user_id']] = dict_['category']\n",
    "    del(dict_purchases['user_id'])                \n",
    "    return dict_purchases   "
   ]
  },
  {
   "cell_type": "code",
   "execution_count": 28,
   "metadata": {},
   "outputs": [
    {
     "name": "stdout",
     "output_type": "stream",
     "text": [
      "1840e0b9d4 Продукты\n",
      "4e4f90fcfb Электроника\n",
      "afea8d72fc Электроника\n",
      "373a6055fe Бытовая техника\n",
      "9b2ab046f3 Электроника\n",
      "9f39d307c3 Электроника\n",
      "44edeffc91 Продукты\n",
      "704474fa2d Продукты\n",
      "1de31be403 Бытовая техника\n",
      "b71f36a5e4 Продукты\n",
      "79843a685a Продукты\n",
      "ff68cee0d6 Бытовая техника\n",
      "e8447c40e2 Досуг\n",
      "98d290be27 Электроника\n",
      "fa0079a5a8 Досуг\n",
      "22d2f03a17 Досуг\n",
      "3f8e1ccd3f Электроника\n",
      "81a9988b83 Электроника\n",
      "65f44a2eb7 Досуг\n",
      "5f8fbb0149 Бытовая техника\n",
      "3ecff691fd Электроника\n",
      "dd0e912251 Электроника\n",
      "9250593d55 Электроника\n",
      "37c4e090e4 Электроника\n",
      "22fa3ea76f Электроника\n",
      "73b876b237 Электроника\n",
      "99517\n"
     ]
    }
   ],
   "source": [
    "purchases = get_dict('purchase_log.txt')\n",
    "i = 0\n",
    "for key, value in purchases.items():\n",
    "    print(key, value)\n",
    "    i += 1\n",
    "    if i > 25:\n",
    "        break\n",
    "print(len(purchases))"
   ]
  },
  {
   "cell_type": "code",
   "execution_count": 66,
   "metadata": {},
   "outputs": [
    {
     "name": "stdout",
     "output_type": "stream",
     "text": [
      "<class 'str'>\n",
      "\"user_id,source\\n\"\n",
      "<class 'str'>\n",
      "\"6450655ae8,other\\n\"\n",
      "<class 'str'>\n",
      "\"b4ea53e670,other\\n\"\n",
      "<class 'str'>\n",
      "\"0e37347152,other\\n\"\n",
      "<class 'str'>\n",
      "\"96064ae9e0,other\\n\"\n",
      "<class 'str'>\n",
      "\"e1bd168161,context\\n\"\n",
      "<class 'str'>\n",
      "\"71bcf169b4,other\\n\"\n",
      "<class 'str'>\n",
      "\"e0aee73c5d,other\\n\"\n",
      "<class 'str'>\n",
      "\"1f8845e157,context\\n\"\n",
      "<class 'str'>\n",
      "\"78d22c5c78,other\\n\"\n",
      "<class 'str'>\n",
      "\"dd85040770,other\\n\"\n"
     ]
    }
   ],
   "source": [
    "i = 0\n",
    "with open ('visit_log.csv','r') as f: \n",
    "    with open ('funnel.csv', 'w') as f_funnel: \n",
    "        for line in f:\n",
    "        #print([next(f) for x in range(30)])\n",
    "            #print(type(line))\n",
    "            #print(json.dumps(line))\n",
    "            line1 = line.strip().split(',')\n",
    "            print(line)\n",
    "            if line[0] in purchases:\n",
    "                el = purchases.get(line[0])\n",
    "                #el = purchases.get('65f44a2eb7') \n",
    "                #print(el)\n",
    "                f_funnel.write(line +','+ el)\n",
    "            i += 1\n",
    "            if i > 10:\n",
    "                break\n",
    "    #             dict_ = json.loads(line)\n",
    "    #             dict_purchases[ dict_['user_id']] = dict_['category']\n",
    "    #     del(dict_purchases['user_id'])                \n",
    "    #     return dict_purchases  \n"
   ]
  },
  {
   "cell_type": "code",
   "execution_count": 74,
   "metadata": {},
   "outputs": [],
   "source": [
    "i = 0\n",
    "list_funnel = []\n",
    "with open ('visit_log.csv','r') as f: \n",
    "    with open ('funnel.csv', 'w') as f_funnel: \n",
    "        for line in f:\n",
    "            line = line.strip().split(',')\n",
    "            if line[0] in purchases:\n",
    "                el = purchases.get(line[0])\n",
    "                #list_funnel.append(line[0] +',' + line[1]+','+ el)\n",
    "                f_funnel.write(line[0] +',' + line[1]+','+ el)\n",
    "                f_funnel.write('\\n')\n",
    "       # f_funnel.write(str(list_funnel))\n",
    "#f_funnel.write(line[0] +',' + line[1]+','+ el + '\\n')"
   ]
  },
  {
   "cell_type": "code",
   "execution_count": 78,
   "metadata": {},
   "outputs": [
    {
     "name": "stdout",
     "output_type": "stream",
     "text": [
      "1840e0b9d4,other,Продукты\n",
      "\n",
      "4e4f90fcfb,context,Электроника\n",
      "\n",
      "afea8d72fc,other,Электроника\n",
      "\n",
      "2824221f38,email,Продукты\n",
      "\n",
      "373a6055fe,other,Бытовая техника\n",
      "\n",
      "9b2ab046f3,other,Электроника\n",
      "\n",
      "9f39d307c3,context,Электроника\n",
      "\n",
      "44edeffc91,context,Продукты\n",
      "\n",
      "704474fa2d,other,Продукты\n",
      "\n",
      "1de31be403,other,Бытовая техника\n",
      "\n",
      "user_id,source\n",
      "\n",
      "6450655ae8,other\n",
      "\n",
      "b4ea53e670,other\n",
      "\n",
      "0e37347152,other\n",
      "\n",
      "96064ae9e0,other\n",
      "\n",
      "e1bd168161,context\n",
      "\n",
      "71bcf169b4,other\n",
      "\n",
      "e0aee73c5d,other\n",
      "\n",
      "1f8845e157,context\n",
      "\n",
      "78d22c5c78,other\n",
      "\n"
     ]
    }
   ],
   "source": [
    "read_file_N ('funnel.csv',10)\n",
    "read_file_N ('visit_log.csv',10)"
   ]
  },
  {
   "cell_type": "code",
   "execution_count": null,
   "metadata": {},
   "outputs": [],
   "source": []
  }
 ],
 "metadata": {
  "kernelspec": {
   "display_name": "Python 3",
   "language": "python",
   "name": "python3"
  },
  "language_info": {
   "codemirror_mode": {
    "name": "ipython",
    "version": 3
   },
   "file_extension": ".py",
   "mimetype": "text/x-python",
   "name": "python",
   "nbconvert_exporter": "python",
   "pygments_lexer": "ipython3",
   "version": "3.7.6"
  }
 },
 "nbformat": 4,
 "nbformat_minor": 4
}
