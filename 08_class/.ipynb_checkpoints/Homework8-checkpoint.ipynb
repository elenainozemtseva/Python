{
 "cells": [
  {
   "cell_type": "code",
   "execution_count": 52,
   "metadata": {},
   "outputs": [],
   "source": [
    "#Решение упражнения из лекции\n",
    "class Employee1:\n",
    "    def __init__(self,name,salary):\n",
    "        self.name_ = name\n",
    "        self.salary_ = salary\n",
    "    def up_(self):\n",
    "        self.salary_ += 100\n",
    "    def print_(self):\n",
    "        return print(f'Сотрудник {self.name_}, зарплата {self.salary_}')"
   ]
  },
  {
   "cell_type": "code",
   "execution_count": 53,
   "metadata": {},
   "outputs": [],
   "source": [
    "e = Employee1(name = 'Irina', salary = 700)"
   ]
  },
  {
   "cell_type": "code",
   "execution_count": 56,
   "metadata": {},
   "outputs": [
    {
     "data": {
      "text/plain": [
       "900"
      ]
     },
     "execution_count": 56,
     "metadata": {},
     "output_type": "execute_result"
    }
   ],
   "source": [
    "e.up_()\n",
    "e.salary_"
   ]
  },
  {
   "cell_type": "code",
   "execution_count": 57,
   "metadata": {},
   "outputs": [
    {
     "name": "stdout",
     "output_type": "stream",
     "text": [
      "Сотрудник Irina, зарплата 900\n"
     ]
    }
   ],
   "source": [
    "e.print_()"
   ]
  },
  {
   "cell_type": "markdown",
   "metadata": {},
   "source": [
    "## Задача №1\n",
    "Написать функцию, которая возвращает название валюты (поле Name), с максимальным значением курса с помощью сервиса https://www.cbf-xml-daily.ru/daily_json.js"
   ]
  },
  {
   "cell_type": "code",
   "execution_count": 66,
   "metadata": {},
   "outputs": [],
   "source": [
    "#РЕШЕНИЕ ЗАДАЧИ 1\n",
    "import requests\n",
    "def return_name_exchange_rate():\n",
    "    #import requests\n",
    "    r = requests.get('https://www.cbr-xml-daily.ru/daily_json.js')\n",
    "    response = r.json()['Valute']\n",
    "    max_value = 0 \n",
    "    max_currency = ''\n",
    "    for currency,currency_values in response.items():\n",
    "        if currency_values['Value'] > max_value:\n",
    "            max_value  = currency_values['Value']\n",
    "            max_currency = currency_values['Name']    \n",
    "    print(f\"Валюта {max_currency} с максимальным курсом {max_value}\")       "
   ]
  },
  {
   "cell_type": "code",
   "execution_count": 67,
   "metadata": {},
   "outputs": [
    {
     "name": "stdout",
     "output_type": "stream",
     "text": [
      "Валюта СДР (специальные права заимствования) с максимальным курсом 100.5442\n"
     ]
    }
   ],
   "source": [
    "return_name_exchange_rate()"
   ]
  },
  {
   "cell_type": "code",
   "execution_count": 41,
   "metadata": {},
   "outputs": [],
   "source": [
    "#Решение 2 дополнительно Функция вывода одной валюты или всего списка валют - было выполнено при изначальном недопонимании условия задачи\n",
    "import requests\n",
    "def return_name_exchange_rate(currency):\n",
    "    #import requests\n",
    "    r = requests.get('https://www.cbr-xml-daily.ru/daily_json.js')\n",
    "    response = r.json()['Valute']\n",
    "    if currency in response:\n",
    "        print(f\"Валюта {response[currency]['Name']} максимальный курс {response[currency]['Value']}\")\n",
    "    else:\n",
    "        for i in response:\n",
    "            print(f\"Валюта {response[i]['Name']} максимальный курс {response[i]['Value']}\")          \n",
    "        "
   ]
  },
  {
   "cell_type": "code",
   "execution_count": 42,
   "metadata": {},
   "outputs": [
    {
     "name": "stdout",
     "output_type": "stream",
     "text": [
      "Валюта Доллар США максимальный курс 73.8725\n"
     ]
    }
   ],
   "source": [
    "return_name_exchange_rate('USD')"
   ]
  },
  {
   "cell_type": "code",
   "execution_count": 39,
   "metadata": {},
   "outputs": [
    {
     "name": "stdout",
     "output_type": "stream",
     "text": [
      "Валюта Австралийский доллар максимальный курс 48.0984\n",
      "Валюта Азербайджанский манат максимальный курс 43.5441\n",
      "Валюта Фунт стерлингов Соединенного королевства максимальный курс 91.5059\n",
      "Валюта Армянских драмов максимальный курс 15.2377\n",
      "Валюта Белорусский рубль максимальный курс 30.2607\n",
      "Валюта Болгарский лев максимальный курс 40.8836\n",
      "Валюта Бразильский реал максимальный курс 12.6659\n",
      "Валюта Венгерских форинтов максимальный курс 22.8842\n",
      "Валюта Гонконгских долларов максимальный курс 95.3046\n",
      "Валюта Датская крона максимальный курс 10.7191\n",
      "Валюта Доллар США максимальный курс 73.8725\n",
      "Валюта Евро максимальный курс 80.0039\n",
      "Валюта Индийских рупий максимальный курс 97.7829\n",
      "Валюта Казахстанских тенге максимальный курс 17.507\n",
      "Валюта Канадский доллар максимальный курс 52.9248\n",
      "Валюта Киргизских сомов максимальный курс 93.5934\n",
      "Валюта Китайский юань максимальный курс 10.4346\n",
      "Валюта Молдавских леев максимальный курс 41.4316\n",
      "Валюта Норвежских крон максимальный курс 72.0237\n",
      "Валюта Польский злотый максимальный курс 17.5598\n",
      "Валюта Румынский лей максимальный курс 16.5652\n",
      "Валюта СДР (специальные права заимствования) максимальный курс 100.5442\n",
      "Валюта Сингапурский доллар максимальный курс 52.2547\n",
      "Валюта Таджикских сомони максимальный курс 71.9654\n",
      "Валюта Турецкая лира максимальный курс 10.3937\n",
      "Валюта Новый туркменский манат максимальный курс 21.1366\n",
      "Валюта Узбекских сумов максимальный курс 72.8238\n",
      "Валюта Украинских гривен максимальный курс 27.5448\n",
      "Валюта Чешских крон максимальный курс 29.3424\n",
      "Валюта Шведских крон максимальный курс 75.3724\n",
      "Валюта Швейцарский франк максимальный курс 75.938\n",
      "Валюта Южноафриканских рэндов максимальный курс 39.9535\n",
      "Валюта Вон Республики Корея максимальный курс 60.5314\n",
      "Валюта Японских иен максимальный курс 69.4813\n"
     ]
    }
   ],
   "source": [
    "return_name_exchange_rate('')"
   ]
  },
  {
   "cell_type": "markdown",
   "metadata": {},
   "source": [
    "## Задача № 2\n",
    "Добавить в класс Rate параметр diff со значениями True False, которые в случае True в методах EUR или USD будет возвращать не курс валюты, а изменение по сравнению с прошлым значением. Считайте self.diff будет принимать значение True только при возврате значения курса. При отображении всей информации он не используется."
   ]
  },
  {
   "cell_type": "code",
   "execution_count": 105,
   "metadata": {},
   "outputs": [],
   "source": [
    "class Rate:\n",
    "    \"\"\"\n",
    "    \n",
    "    \"\"\"\n",
    "    def __init__(self, format_='value',diff = False):\n",
    "        self.format = format_\n",
    "        self.diff = diff\n",
    "    def exchange_rates(self):\n",
    "        \"\"\"\n",
    "        Возвращает ответ сервиса с информацией о валютах в виде:\n",
    "        \n",
    "        {\n",
    "            'AMD': {\n",
    "                'CharCode': 'AMD',\n",
    "                'ID': 'R01060',\n",
    "                'Name': 'Армянских драмов',\n",
    "                'Nominal': 100,\n",
    "                'NumCode': '051',\n",
    "                'Previous': 14.103,\n",
    "                'Value': 14.0879\n",
    "                },\n",
    "            ...\n",
    "        }\n",
    "        \"\"\"\n",
    "        self.r = requests.get('https://www.cbr-xml-daily.ru/daily_json.js')\n",
    "        return self.r.json()['Valute']\n",
    "    \n",
    "    def make_format(self, currency):\n",
    "        \"\"\"\n",
    "        Возвращает информацию о валюте currency в двух вариантах:\n",
    "        - полная информация о валюте при self.format = 'full':\n",
    "        Rate('full').make_format('EUR')\n",
    "        {\n",
    "            'CharCode': 'EUR',\n",
    "            'ID': 'R01239',\n",
    "            'Name': 'Евро',\n",
    "            'Nominal': 1,\n",
    "            'NumCode': '978',\n",
    "            'Previous': 79.6765,\n",
    "            'Value': 79.4966\n",
    "        }\n",
    "        \n",
    "        Rate('value').make_format('EUR')\n",
    "        79.4966\n",
    "        \"\"\"\n",
    "        response = self.exchange_rates()\n",
    "        \n",
    "        if currency in response:\n",
    "            if self.format == 'full':\n",
    "                return response[currency]\n",
    "            \n",
    "            if self.format == 'value':\n",
    "                if self.diff: \n",
    "                    diff_value = response[currency]['Value'] - response[currency]['Previous']\n",
    "                    if diff_value > 0:\n",
    "                        print(f'Курс валюты увеличился на {round(diff_value,4)}')\n",
    "                    elif diff_value < 0:\n",
    "                        print(f'Курс валюты уменьшился на {round(abs(diff_value),4)}')\n",
    "                    else:\n",
    "                        print(f'Курс валюты не изменился')\n",
    "                else:\n",
    "                    return response[currency]['Value']        \n",
    "            else:\n",
    "                return 'Error'\n",
    "    \n",
    "    def eur(self,diff = False):\n",
    "        \"\"\"\n",
    "        Возвращает курс евро на сегодня в формате self.format\n",
    "        eur()\n",
    "        79,4966\n",
    "        или изменение курсa по сравнению с прошлым при diff = True\n",
    "        eur(diff = True)\n",
    "        Курс валюты уменьшился на 0,5788\n",
    "        \"\"\"\n",
    "        self.diff = diff\n",
    "        return self.make_format('EUR')\n",
    "    \n",
    "    def usd(self,diff = False):\n",
    "        \"\"\"\n",
    "        Возвращает курс доллара на сегодня в формате self.format\n",
    "        usd()\n",
    "        79,4966\n",
    "        или изменение курсa по сравнению с прошлым при diff = True\n",
    "        usd(diff = True)\n",
    "        Курс валюты уменьшился на 0,5788\n",
    "        \"\"\"\n",
    "        return self.make_format('USD')\n",
    "    \n",
    "    def brl(self):\n",
    "        \"\"\"Возвращает курс бразильского реала на сегодня в формате self.format\"\"\"\n",
    "        return self.make_format('BRL')"
   ]
  },
  {
   "cell_type": "code",
   "execution_count": 106,
   "metadata": {},
   "outputs": [],
   "source": [
    "r = Rate('full')"
   ]
  },
  {
   "cell_type": "code",
   "execution_count": 107,
   "metadata": {},
   "outputs": [
    {
     "data": {
      "text/plain": [
       "{'ID': 'R01239',\n",
       " 'NumCode': '978',\n",
       " 'CharCode': 'EUR',\n",
       " 'Nominal': 1,\n",
       " 'Name': 'Евро',\n",
       " 'Value': 80.0039,\n",
       " 'Previous': 80.0611}"
      ]
     },
     "execution_count": 107,
     "metadata": {},
     "output_type": "execute_result"
    }
   ],
   "source": [
    "r.eur(True)"
   ]
  },
  {
   "cell_type": "code",
   "execution_count": 108,
   "metadata": {},
   "outputs": [
    {
     "name": "stdout",
     "output_type": "stream",
     "text": [
      "Курс валюты уменьшился на 0.0572\n"
     ]
    }
   ],
   "source": [
    "r.format = 'value'\n",
    "r.eur(True)"
   ]
  },
  {
   "cell_type": "code",
   "execution_count": 115,
   "metadata": {},
   "outputs": [],
   "source": [
    "#Второй вариант решения, упрощенный(добавлено описание в help, \n",
    "#здесь пользователю самому нужно понимать по знаку вернувшегося числа уменьшился курс или увеличился)\n",
    "class Rate_2:\n",
    "    \"\"\"\n",
    "    \n",
    "    \"\"\"\n",
    "    def __init__(self, format_='value',diff = False):\n",
    "        self.format = format_\n",
    "        self.diff = diff\n",
    "    def exchange_rates(self):\n",
    "        \"\"\"\n",
    "        Возвращает ответ сервиса с информацией о валютах в виде:\n",
    "        \n",
    "        {\n",
    "            'AMD': {\n",
    "                'CharCode': 'AMD',\n",
    "                'ID': 'R01060',\n",
    "                'Name': 'Армянских драмов',\n",
    "                'Nominal': 100,\n",
    "                'NumCode': '051',\n",
    "                'Previous': 14.103,\n",
    "                'Value': 14.0879\n",
    "                },\n",
    "            ...\n",
    "        }\n",
    "        \"\"\"\n",
    "        self.r = requests.get('https://www.cbr-xml-daily.ru/daily_json.js')\n",
    "        return self.r.json()['Valute']\n",
    "    \n",
    "    def make_format(self, currency):\n",
    "        \"\"\"\n",
    "        Возвращает информацию о валюте currency в двух вариантах:\n",
    "        - полная информация о валюте при self.format = 'full':\n",
    "        Rate('full').make_format('EUR')\n",
    "        {\n",
    "            'CharCode': 'EUR',\n",
    "            'ID': 'R01239',\n",
    "            'Name': 'Евро',\n",
    "            'Nominal': 1,\n",
    "            'NumCode': '978',\n",
    "            'Previous': 79.6765,\n",
    "            'Value': 79.4966\n",
    "        }\n",
    "        \n",
    "        Rate('value').make_format('EUR')\n",
    "        79.4966\n",
    "        \"\"\"\n",
    "        response = self.exchange_rates()\n",
    "        \n",
    "        if currency in response:\n",
    "            if self.format == 'full':\n",
    "                return response[currency]            \n",
    "            if self.format == 'value':\n",
    "                if self.diff: \n",
    "                    return round(response[currency]['Value'] - response[currency]['Previous'],4)\n",
    "                else:\n",
    "                    return response[currency]['Value']        \n",
    "            else:\n",
    "                return 'Error'\n",
    "    \n",
    "    def eur(self,diff = False):\n",
    "        \"\"\"\n",
    "        Возвращает курс евро на сегодня в формате self.format\n",
    "        eur()\n",
    "        79,4966\n",
    "        или изменение курсa по сравнению с прошлым при diff = True (знак \"-\" означает, что курс уменьшился)\n",
    "        eur(diff = True)\n",
    "        0,5788\n",
    "        \"\"\"\n",
    "        self.diff = diff\n",
    "        return self.make_format('EUR')\n",
    "    \n",
    "    def usd(self, diff = False):\n",
    "        \"\"\"\n",
    "        Возвращает курс доллара на сегодня в формате self.format\n",
    "        usd()\n",
    "        79,4966\n",
    "        или изменение курсa по сравнению с прошлым при diff = True (знак \"-\" означает, что курс уменьшился)\n",
    "        usd(diff = True)\n",
    "        0,5788\n",
    "        \"\"\"\n",
    "        self.diff = diff\n",
    "        return self.make_format('USD')\n",
    "    \n",
    "    def brl(self):\n",
    "        \"\"\"Возвращает курс бразильского реала на сегодня в формате self.format\"\"\"\n",
    "        return self.make_format('BRL')"
   ]
  },
  {
   "cell_type": "code",
   "execution_count": 118,
   "metadata": {},
   "outputs": [],
   "source": [
    "r_2 = Rate_2()"
   ]
  },
  {
   "cell_type": "code",
   "execution_count": 119,
   "metadata": {},
   "outputs": [
    {
     "data": {
      "text/plain": [
       "-0.2444"
      ]
     },
     "execution_count": 119,
     "metadata": {},
     "output_type": "execute_result"
    }
   ],
   "source": [
    "r_2.usd(diff = True)"
   ]
  },
  {
   "cell_type": "markdown",
   "metadata": {},
   "source": [
    "## Задача № 3\n",
    "Напишите класс Designer, который учитывает количество международных премий для дизайнеров (из презентации: \"Повышение на 1 грейд за каждые 7 баллов. Получение международной премии – это +2 балла\"). Считайте, что при выходе на работу сотрудник уже имеет две премии и их количество не меняется со стажем (конечно если хотите это можно вручную менять). Выполните проверку для 20 аккредитаций дизайнера Елены"
   ]
  },
  {
   "cell_type": "code",
   "execution_count": 2,
   "metadata": {},
   "outputs": [],
   "source": [
    "class Employee:\n",
    "    def __init__(self, name, seniority):\n",
    "        self.name = name\n",
    "        self.seniority = seniority\n",
    "        \n",
    "        self.grade = 1\n",
    "    \n",
    "    def grade_up(self):\n",
    "        \"\"\"Повышает уровень сотрудника\"\"\"\n",
    "        self.grade += 1\n",
    "    \n",
    "    def publish_grade(self):\n",
    "        \"\"\"Публикация результатов аккредитации сотрудников\"\"\"\n",
    "        print(self.name, self.grade)\n",
    "    \n",
    "    def check_if_it_is_time_for_upgrade(self):\n",
    "        pass"
   ]
  },
  {
   "cell_type": "code",
   "execution_count": 18,
   "metadata": {},
   "outputs": [],
   "source": [
    "class Designer(Employee):\n",
    "    def __init__(self,name,seniority,awards):\n",
    "        super().__init__(name,seniority)\n",
    "        if awards > 0:\n",
    "            self.seniority = awards * 2\n",
    "    def check_if_it_is_time_for_upgrade(self):\n",
    "        print(self.seniority)\n",
    "        self.seniority += 1\n",
    "        if self.seniority % 7 == 0:\n",
    "            self.grade_up()\n",
    "        return self.publish_grade()"
   ]
  },
  {
   "cell_type": "code",
   "execution_count": 21,
   "metadata": {},
   "outputs": [],
   "source": [
    "elena = Designer('Елена', seniority=0, awards=2)"
   ]
  },
  {
   "cell_type": "code",
   "execution_count": 22,
   "metadata": {},
   "outputs": [
    {
     "name": "stdout",
     "output_type": "stream",
     "text": [
      "4\n",
      "Елена 1\n",
      "5\n",
      "Елена 1\n",
      "6\n",
      "Елена 2\n",
      "7\n",
      "Елена 2\n",
      "8\n",
      "Елена 2\n",
      "9\n",
      "Елена 2\n",
      "10\n",
      "Елена 2\n",
      "11\n",
      "Елена 2\n",
      "12\n",
      "Елена 2\n",
      "13\n",
      "Елена 3\n",
      "14\n",
      "Елена 3\n",
      "15\n",
      "Елена 3\n",
      "16\n",
      "Елена 3\n",
      "17\n",
      "Елена 3\n",
      "18\n",
      "Елена 3\n",
      "19\n",
      "Елена 3\n",
      "20\n",
      "Елена 4\n",
      "21\n",
      "Елена 4\n",
      "22\n",
      "Елена 4\n",
      "23\n",
      "Елена 4\n"
     ]
    }
   ],
   "source": [
    "for i in range(20):\n",
    "    elena.check_if_it_is_time_for_upgrade()"
   ]
  },
  {
   "cell_type": "code",
   "execution_count": null,
   "metadata": {},
   "outputs": [],
   "source": []
  }
 ],
 "metadata": {
  "kernelspec": {
   "display_name": "Python 3",
   "language": "python",
   "name": "python3"
  },
  "language_info": {
   "codemirror_mode": {
    "name": "ipython",
    "version": 3
   },
   "file_extension": ".py",
   "mimetype": "text/x-python",
   "name": "python",
   "nbconvert_exporter": "python",
   "pygments_lexer": "ipython3",
   "version": "3.7.6"
  }
 },
 "nbformat": 4,
 "nbformat_minor": 4
}
