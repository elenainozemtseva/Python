{
 "cells": [
  {
   "cell_type": "markdown",
   "metadata": {},
   "source": [
    "##   Задание 1.\n",
    "Напишите функцию, которая принимает на вход строку и проверяет является ли она валидным транспортным номером. Если да, то функция должна возвращать отдельно номер и регион.\n",
    "\n",
    "## Задание 2.\n",
    "Постарайтесь написать (в крайнем случае найти) самый полный шаблон для проверки e-mail адресов через регулярное выражение, которая проверяет e-mail адрес на валидность. Можно руководствоваться следующими минимальными требованиями:\n",
    "• адрес должен содержать специальный символ “@”, который отделяет имя пользователя почтовой системы от доменного имени;\n",
    "• адрес не должен содержать следующие символы: “пробел”, “,”, “:”, “;”, “!”, “#”, “%”, “*”, “(”, “)”, “=”, “+”, “{”, “}”, \" \" \", \" ’ \", \" / \", \" \\ \" и “|”;\n",
    "• адрес должен состоять только из латинских символов;\n",
    "• после символа “@” должна быть как минимум одна “.”;\n",
    "• после последней точки должно быть не менее 2-х и не более 4-х символов, причем наличие цифр не допускается;\n",
    "• между последней точкой и символом “@” должно быть не менее 2-х символов\n",
    "• слева от “@” должно быть не менее четырех символов\n",
    "\n",
    "## **Задание 3. **\n",
    "Напишите функцию, которая будет удалять все последовательные повторы слов из заданной строки при помощи регулярных выражений.\n",
    "\n",
    "## Задание 4.\n",
    "Напишите функцию, которая будет проверять номер сотового телефона на валидность, если он валиден, то переводить его в формат:\n",
    "+7(xxx)-xxx-xx-xx\n",
    "\n",
    "Постарайтесь предусмотреть как можно больше адекватных форматов изначального ввода номера. Примеры валидных форматов:\n",
    "\n",
    "• +7 955 555-55-55;\n",
    "• 9555555555;\n",
    "• 8(955)555-55-55;\n",
    "• +7 955 555 55 55;\n",
    "• 7(955) 555-55-55;\n",
    "• +7 955+555+55+55."
   ]
  },
  {
   "cell_type": "code",
   "execution_count": 1,
   "metadata": {},
   "outputs": [],
   "source": [
    "import re"
   ]
  },
  {
   "cell_type": "code",
   "execution_count": 2,
   "metadata": {},
   "outputs": [],
   "source": [
    "#Задание 1\n",
    "def check_transport_number(line):\n",
    "    regex_ts_number = r'^([А-Я]{1})(\\d{3})([А-Я]{2})(\\d{2,3})$'\n",
    "    regex_ts_number_1 = r'^([А-Я]{2})(\\d{4})(\\d{2,3})$'\n",
    "    result = re.search(regex_ts_number,line)\n",
    "    if result:\n",
    "        print(f'Number: {result.group(2)} Region: {result.group(4)}')\n",
    "    else:\n",
    "        result = re.search(regex_ts_number_1,line)        \n",
    "        if result:\n",
    "             print(f'Number: {result.group(2)} Region: {result.group(3)}')\n",
    "        else:\n",
    "            print(f'Number is not correct!')"
   ]
  },
  {
   "cell_type": "code",
   "execution_count": 3,
   "metadata": {},
   "outputs": [
    {
     "name": "stdout",
     "output_type": "stream",
     "text": [
      "Number: 0250 Region: 65\n",
      "Number: 025 Region: 26\n",
      "Number is not correct!\n"
     ]
    }
   ],
   "source": [
    "line = 'КК025065'\n",
    "check_transport_number(line)\n",
    "line = 'Т025СТ26'\n",
    "check_transport_number(line)\n",
    "line = 'Т025СТ2605'\n",
    "check_transport_number(line)"
   ]
  },
  {
   "cell_type": "code",
   "execution_count": 86,
   "metadata": {},
   "outputs": [],
   "source": [
    "#Задание 2 два варианта шаблона. \n",
    "#Немного не поняла условия - исключая символы в имени можно все остальные? тогда второй шаблон\n",
    "#в доменном имени(после @)можно не только латинские буквы, а все символы, исключая цифры? тогда вторая группа (@[^0-9]{3,})\n",
    "#шаблон доменного имени и самого домена я составляла руководствуясь желательными общими правилами использования символов в доменных именах(статьи) \n",
    "#и длину адреса и доменного имени я бы ограничила, но в условии об этом не сказано\n",
    "#найдено в интернете(уже после выполнения задания, хотелось решить самостоятельно) preg_match('/^((([0-9A-Za-z]{1}[-0-9A-z\\.]{1,}[0-9A-Za-z]{1})|([0-9А-Яа-я]{1}[-0-9А-я\\.]{1,}[0-9А-Яа-я]{1}))@([-A-Za-z]{1,}\\.){1,2}[-A-Za-z]{2,})$/u', $item)\n",
    "# \"^[a-zA-Z0-9_.+-]+@[a-zA-Z0-9-]+\\.[a-zA-Z0-9-.]+$\"\n",
    "#^[A-Z0-9._%+-]+@[A-Z0-9-]+.+.[A-Z]{2,4}$/i\n",
    "#/^(|(([A-Za-z0-9]+_+)|([A-Za-z0-9]+\\-+)|([A-Za-z0-9]+\\.+)|([A-Za-z0-9]+\\++))*[A-Za-z0-9]+@((\\w+\\-+)|(\\w+\\.))*\\w{1,63}\\.[a-zA-Z]{2,6})$/i\n",
    "regex = r'^([-$?_0-9A-Za-z^]{4,})(@[a-z]{3,})(\\.[a-z]{3,4})$'\n",
    "regex_2 = r'^([^,:;!#%*”/(/)=+/{/}/\\|\"''\"а-аёА-ЯЁ]{4,})(@[a-z.-]{3,})(\\.[a-z]{3,4})$'\n"
   ]
  },
  {
   "cell_type": "code",
   "execution_count": 87,
   "metadata": {},
   "outputs": [
    {
     "data": {
      "text/plain": [
       "[('zz68965885-^585', '@azzzk', '.com')]"
      ]
     },
     "execution_count": 87,
     "metadata": {},
     "output_type": "execute_result"
    }
   ],
   "source": [
    "line = 'zz68965885-^585@azzzk.com'\n",
    "re.findall(regex,line)"
   ]
  },
  {
   "cell_type": "code",
   "execution_count": 88,
   "metadata": {},
   "outputs": [
    {
     "data": {
      "text/plain": [
       "[('zz68965885-^585', '@azzzk', '.com')]"
      ]
     },
     "execution_count": 88,
     "metadata": {},
     "output_type": "execute_result"
    }
   ],
   "source": [
    "re.findall(regex_2,line)"
   ]
  },
  {
   "cell_type": "code",
   "execution_count": 12,
   "metadata": {},
   "outputs": [],
   "source": [
    "#Задание 3\n",
    "def del_repeat_words(text):\n",
    "    text_list = text.split()\n",
    "    i = 0\n",
    "    while i < len(text_list):\n",
    "        reg_exp = r'({}\\s?)+'.format(text_list[i].lower()) \n",
    "        text = re.sub(reg_exp, r'\\1', text.lower())\n",
    "        i += 1\n",
    "    return text"
   ]
  },
  {
   "cell_type": "code",
   "execution_count": 13,
   "metadata": {},
   "outputs": [
    {
     "data": {
      "text/plain": [
       "'осень наступила. видимо невидимо грибов лесу.'"
      ]
     },
     "execution_count": 13,
     "metadata": {},
     "output_type": "execute_result"
    }
   ],
   "source": [
    "text = 'Осень осень наступила наступила. Видимо невидимо грибов грибов в лесу.'\n",
    "del_repeat_words(text)"
   ]
  },
  {
   "cell_type": "code",
   "execution_count": 14,
   "metadata": {},
   "outputs": [
    {
     "data": {
      "text/plain": [
       "'если жизнь тебя обманет, не печалься, не тужись - в день уныния смирись'"
      ]
     },
     "execution_count": 14,
     "metadata": {},
     "output_type": "execute_result"
    }
   ],
   "source": [
    "text = 'Если жизнь тебя тебя обманет обманет, не печалься, не тужись - в день день день уныния смирись смирись'\n",
    "del_repeat_words(text)"
   ]
  },
  {
   "cell_type": "code",
   "execution_count": 71,
   "metadata": {},
   "outputs": [],
   "source": [
    "#Задание 4\n",
    "def check_tel_number(tel):\n",
    "    regex_tel_number = r'^[+]?(\\d)?[\\s(-+]?(\\d{3}){1}[\\s)+-]?(\\d{3}){1}[-+\\s]?(\\d\\d){1}[-+\\s]?(\\d\\d){1}$'\n",
    "    tel_check = re.search(regex_tel_number,tel)\n",
    "    #print(tel_check)\n",
    "    if tel_check:\n",
    "        tel = re.sub(regex_tel_number, r'+7(\\2)-\\3-\\4-\\5', tel)\n",
    "        return tel\n",
    "    else:\n",
    "        print(f'Telephone number \"{tel}\" is not correct!')"
   ]
  },
  {
   "cell_type": "code",
   "execution_count": 84,
   "metadata": {},
   "outputs": [
    {
     "name": "stdout",
     "output_type": "stream",
     "text": [
      "Telephone number \"95555555555555\" is not correct!\n"
     ]
    },
    {
     "data": {
      "text/plain": [
       "'+7(955)-555-55-55'"
      ]
     },
     "execution_count": 84,
     "metadata": {},
     "output_type": "execute_result"
    }
   ],
   "source": [
    "tel_number = '+7 955 555-55-55,9555555555,8(955)555-55-55,+7 955 555 55 55,7(955)555-55-55,+7 955+555+55+55,89289589598958'\n",
    "tel = '95555555555555'\n",
    "tel_2 = '+7 955 555-55-55'\n",
    "check_tel_number(tel)\n",
    "check_tel_number(tel_2)"
   ]
  },
  {
   "cell_type": "code",
   "execution_count": 85,
   "metadata": {},
   "outputs": [
    {
     "name": "stdout",
     "output_type": "stream",
     "text": [
      "+7 955 555-55-55\n",
      "+7(955)-555-55-55\n",
      "9555555555\n",
      "+7(955)-555-55-55\n",
      "8(955)555-55-55\n",
      "+7(955)-555-55-55\n",
      "+7 955 555 55 55\n",
      "+7(955)-555-55-55\n",
      "7(955)555-55-55\n",
      "+7(955)-555-55-55\n",
      "+7 955+555+55+55\n",
      "+7(955)-555-55-55\n",
      "89289589598958\n",
      "Telephone number \"89289589598958\" is not correct!\n",
      "None\n"
     ]
    }
   ],
   "source": [
    "tel_number_list = tel_number.split(',')\n",
    "for tel in tel_number_list:\n",
    "    print(tel)\n",
    "    print(check_tel_number(tel))  "
   ]
  },
  {
   "cell_type": "code",
   "execution_count": null,
   "metadata": {},
   "outputs": [],
   "source": []
  },
  {
   "cell_type": "code",
   "execution_count": null,
   "metadata": {},
   "outputs": [],
   "source": []
  }
 ],
 "metadata": {
  "kernelspec": {
   "display_name": "Python 3",
   "language": "python",
   "name": "python3"
  },
  "language_info": {
   "codemirror_mode": {
    "name": "ipython",
    "version": 3
   },
   "file_extension": ".py",
   "mimetype": "text/x-python",
   "name": "python",
   "nbconvert_exporter": "python",
   "pygments_lexer": "ipython3",
   "version": "3.7.6"
  }
 },
 "nbformat": 4,
 "nbformat_minor": 4
}
