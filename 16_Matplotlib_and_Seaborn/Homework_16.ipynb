{
 "cells": [
  {
   "cell_type": "code",
   "execution_count": 94,
   "metadata": {},
   "outputs": [],
   "source": [
    "#увеличим дефолтный размер графиков\n",
    "from pylab import rcParams\n",
    "rcParams['figure.figsize'] = 10,7\n",
    "# импортируем нужные библиотеки\n",
    "import pandas as pd\n",
    "import matplotlib.pyplot as plt\n",
    "from ast import literal_eval\n",
    "\n"
   ]
  },
  {
   "cell_type": "code",
   "execution_count": 95,
   "metadata": {},
   "outputs": [
    {
     "data": {
      "text/html": [
       "<div>\n",
       "<style scoped>\n",
       "    .dataframe tbody tr th:only-of-type {\n",
       "        vertical-align: middle;\n",
       "    }\n",
       "\n",
       "    .dataframe tbody tr th {\n",
       "        vertical-align: top;\n",
       "    }\n",
       "\n",
       "    .dataframe thead th {\n",
       "        text-align: right;\n",
       "    }\n",
       "</style>\n",
       "<table border=\"1\" class=\"dataframe\">\n",
       "  <thead>\n",
       "    <tr style=\"text-align: right;\">\n",
       "      <th></th>\n",
       "      <th>Unnamed: 0</th>\n",
       "      <th>Player</th>\n",
       "      <th>height</th>\n",
       "      <th>weight</th>\n",
       "      <th>collage</th>\n",
       "      <th>born</th>\n",
       "      <th>birth_city</th>\n",
       "      <th>birth_state</th>\n",
       "    </tr>\n",
       "  </thead>\n",
       "  <tbody>\n",
       "    <tr>\n",
       "      <th>0</th>\n",
       "      <td>0</td>\n",
       "      <td>Curly Armstrong</td>\n",
       "      <td>180.0</td>\n",
       "      <td>77.0</td>\n",
       "      <td>Indiana University</td>\n",
       "      <td>1918.0</td>\n",
       "      <td>NaN</td>\n",
       "      <td>NaN</td>\n",
       "    </tr>\n",
       "    <tr>\n",
       "      <th>1</th>\n",
       "      <td>1</td>\n",
       "      <td>Cliff Barker</td>\n",
       "      <td>188.0</td>\n",
       "      <td>83.0</td>\n",
       "      <td>University of Kentucky</td>\n",
       "      <td>1921.0</td>\n",
       "      <td>Yorktown</td>\n",
       "      <td>Indiana</td>\n",
       "    </tr>\n",
       "    <tr>\n",
       "      <th>2</th>\n",
       "      <td>2</td>\n",
       "      <td>Leo Barnhorst</td>\n",
       "      <td>193.0</td>\n",
       "      <td>86.0</td>\n",
       "      <td>University of Notre Dame</td>\n",
       "      <td>1924.0</td>\n",
       "      <td>NaN</td>\n",
       "      <td>NaN</td>\n",
       "    </tr>\n",
       "    <tr>\n",
       "      <th>3</th>\n",
       "      <td>3</td>\n",
       "      <td>Ed Bartels</td>\n",
       "      <td>196.0</td>\n",
       "      <td>88.0</td>\n",
       "      <td>North Carolina State University</td>\n",
       "      <td>1925.0</td>\n",
       "      <td>NaN</td>\n",
       "      <td>NaN</td>\n",
       "    </tr>\n",
       "    <tr>\n",
       "      <th>4</th>\n",
       "      <td>4</td>\n",
       "      <td>Ralph Beard</td>\n",
       "      <td>178.0</td>\n",
       "      <td>79.0</td>\n",
       "      <td>University of Kentucky</td>\n",
       "      <td>1927.0</td>\n",
       "      <td>Hardinsburg</td>\n",
       "      <td>Kentucky</td>\n",
       "    </tr>\n",
       "    <tr>\n",
       "      <th>5</th>\n",
       "      <td>5</td>\n",
       "      <td>Gene Berce</td>\n",
       "      <td>180.0</td>\n",
       "      <td>79.0</td>\n",
       "      <td>Marquette University</td>\n",
       "      <td>1926.0</td>\n",
       "      <td>NaN</td>\n",
       "      <td>NaN</td>\n",
       "    </tr>\n",
       "    <tr>\n",
       "      <th>6</th>\n",
       "      <td>6</td>\n",
       "      <td>Charlie Black</td>\n",
       "      <td>196.0</td>\n",
       "      <td>90.0</td>\n",
       "      <td>University of Kansas</td>\n",
       "      <td>1921.0</td>\n",
       "      <td>Arco</td>\n",
       "      <td>Idaho</td>\n",
       "    </tr>\n",
       "    <tr>\n",
       "      <th>7</th>\n",
       "      <td>7</td>\n",
       "      <td>Nelson Bobb</td>\n",
       "      <td>183.0</td>\n",
       "      <td>77.0</td>\n",
       "      <td>Temple University</td>\n",
       "      <td>1924.0</td>\n",
       "      <td>Philadelphia</td>\n",
       "      <td>Pennsylvania</td>\n",
       "    </tr>\n",
       "    <tr>\n",
       "      <th>8</th>\n",
       "      <td>8</td>\n",
       "      <td>Jake Bornheimer</td>\n",
       "      <td>196.0</td>\n",
       "      <td>90.0</td>\n",
       "      <td>Muhlenberg College</td>\n",
       "      <td>1927.0</td>\n",
       "      <td>New Brunswick</td>\n",
       "      <td>New Jersey</td>\n",
       "    </tr>\n",
       "    <tr>\n",
       "      <th>9</th>\n",
       "      <td>9</td>\n",
       "      <td>Vince Boryla</td>\n",
       "      <td>196.0</td>\n",
       "      <td>95.0</td>\n",
       "      <td>University of Denver</td>\n",
       "      <td>1927.0</td>\n",
       "      <td>East Chicago</td>\n",
       "      <td>Indiana</td>\n",
       "    </tr>\n",
       "  </tbody>\n",
       "</table>\n",
       "</div>"
      ],
      "text/plain": [
       "   Unnamed: 0           Player  height  weight  \\\n",
       "0           0  Curly Armstrong   180.0    77.0   \n",
       "1           1     Cliff Barker   188.0    83.0   \n",
       "2           2    Leo Barnhorst   193.0    86.0   \n",
       "3           3       Ed Bartels   196.0    88.0   \n",
       "4           4      Ralph Beard   178.0    79.0   \n",
       "5           5       Gene Berce   180.0    79.0   \n",
       "6           6    Charlie Black   196.0    90.0   \n",
       "7           7      Nelson Bobb   183.0    77.0   \n",
       "8           8  Jake Bornheimer   196.0    90.0   \n",
       "9           9     Vince Boryla   196.0    95.0   \n",
       "\n",
       "                           collage    born     birth_city   birth_state  \n",
       "0               Indiana University  1918.0            NaN           NaN  \n",
       "1           University of Kentucky  1921.0       Yorktown       Indiana  \n",
       "2         University of Notre Dame  1924.0            NaN           NaN  \n",
       "3  North Carolina State University  1925.0            NaN           NaN  \n",
       "4           University of Kentucky  1927.0    Hardinsburg      Kentucky  \n",
       "5             Marquette University  1926.0            NaN           NaN  \n",
       "6             University of Kansas  1921.0           Arco         Idaho  \n",
       "7                Temple University  1924.0   Philadelphia  Pennsylvania  \n",
       "8               Muhlenberg College  1927.0  New Brunswick    New Jersey  \n",
       "9             University of Denver  1927.0   East Chicago       Indiana  "
      ]
     },
     "execution_count": 95,
     "metadata": {},
     "output_type": "execute_result"
    }
   ],
   "source": [
    "df = pd.read_csv('datasets_1358_30676_Players.csv')\n",
    "df.head(10)"
   ]
  },
  {
   "cell_type": "code",
   "execution_count": 96,
   "metadata": {},
   "outputs": [
    {
     "name": "stdout",
     "output_type": "stream",
     "text": [
      "<class 'pandas.core.frame.DataFrame'>\n",
      "RangeIndex: 3922 entries, 0 to 3921\n",
      "Data columns (total 8 columns):\n",
      " #   Column       Non-Null Count  Dtype  \n",
      "---  ------       --------------  -----  \n",
      " 0   Unnamed: 0   3922 non-null   int64  \n",
      " 1   Player       3921 non-null   object \n",
      " 2   height       3921 non-null   float64\n",
      " 3   weight       3921 non-null   float64\n",
      " 4   collage      3573 non-null   object \n",
      " 5   born         3921 non-null   float64\n",
      " 6   birth_city   3452 non-null   object \n",
      " 7   birth_state  3439 non-null   object \n",
      "dtypes: float64(3), int64(1), object(4)\n",
      "memory usage: 245.2+ KB\n"
     ]
    }
   ],
   "source": [
    "df.info()"
   ]
  },
  {
   "cell_type": "code",
   "execution_count": 97,
   "metadata": {},
   "outputs": [
    {
     "data": {
      "text/html": [
       "<div>\n",
       "<style scoped>\n",
       "    .dataframe tbody tr th:only-of-type {\n",
       "        vertical-align: middle;\n",
       "    }\n",
       "\n",
       "    .dataframe tbody tr th {\n",
       "        vertical-align: top;\n",
       "    }\n",
       "\n",
       "    .dataframe thead th {\n",
       "        text-align: right;\n",
       "    }\n",
       "</style>\n",
       "<table border=\"1\" class=\"dataframe\">\n",
       "  <thead>\n",
       "    <tr style=\"text-align: right;\">\n",
       "      <th></th>\n",
       "      <th>collage</th>\n",
       "      <th>Unnamed: 0</th>\n",
       "      <th>Player</th>\n",
       "      <th>height</th>\n",
       "      <th>weight</th>\n",
       "      <th>born</th>\n",
       "      <th>birth_city</th>\n",
       "      <th>birth_state</th>\n",
       "    </tr>\n",
       "  </thead>\n",
       "  <tbody>\n",
       "    <tr>\n",
       "      <th>0</th>\n",
       "      <td>University of Kentucky</td>\n",
       "      <td>89</td>\n",
       "      <td>89</td>\n",
       "      <td>89</td>\n",
       "      <td>89</td>\n",
       "      <td>89</td>\n",
       "      <td>84</td>\n",
       "      <td>84</td>\n",
       "    </tr>\n",
       "    <tr>\n",
       "      <th>1</th>\n",
       "      <td>University of California, Los Angeles</td>\n",
       "      <td>86</td>\n",
       "      <td>86</td>\n",
       "      <td>86</td>\n",
       "      <td>86</td>\n",
       "      <td>86</td>\n",
       "      <td>85</td>\n",
       "      <td>84</td>\n",
       "    </tr>\n",
       "    <tr>\n",
       "      <th>2</th>\n",
       "      <td>University of North Carolina</td>\n",
       "      <td>67</td>\n",
       "      <td>67</td>\n",
       "      <td>67</td>\n",
       "      <td>67</td>\n",
       "      <td>67</td>\n",
       "      <td>65</td>\n",
       "      <td>65</td>\n",
       "    </tr>\n",
       "    <tr>\n",
       "      <th>3</th>\n",
       "      <td>University of Kansas</td>\n",
       "      <td>59</td>\n",
       "      <td>59</td>\n",
       "      <td>59</td>\n",
       "      <td>59</td>\n",
       "      <td>59</td>\n",
       "      <td>58</td>\n",
       "      <td>58</td>\n",
       "    </tr>\n",
       "    <tr>\n",
       "      <th>4</th>\n",
       "      <td>Duke University</td>\n",
       "      <td>56</td>\n",
       "      <td>56</td>\n",
       "      <td>56</td>\n",
       "      <td>56</td>\n",
       "      <td>56</td>\n",
       "      <td>54</td>\n",
       "      <td>54</td>\n",
       "    </tr>\n",
       "  </tbody>\n",
       "</table>\n",
       "</div>"
      ],
      "text/plain": [
       "                                 collage  Unnamed: 0  Player  height  weight  \\\n",
       "0                 University of Kentucky          89      89      89      89   \n",
       "1  University of California, Los Angeles          86      86      86      86   \n",
       "2           University of North Carolina          67      67      67      67   \n",
       "3                   University of Kansas          59      59      59      59   \n",
       "4                        Duke University          56      56      56      56   \n",
       "\n",
       "   born  birth_city  birth_state  \n",
       "0    89          84           84  \n",
       "1    86          85           84  \n",
       "2    67          65           65  \n",
       "3    59          58           58  \n",
       "4    56          54           54  "
      ]
     },
     "execution_count": 97,
     "metadata": {},
     "output_type": "execute_result"
    }
   ],
   "source": [
    "df2 = df.groupby('collage').count()\n",
    "df3 = df2.sort_values('Player',ascending=False).reset_index().head(20)\n",
    "df3.head()"
   ]
  },
  {
   "cell_type": "markdown",
   "metadata": {},
   "source": [
    "## 1.Топ 20 колледжей, из которых чаще всего попадали в игроки "
   ]
  },
  {
   "cell_type": "code",
   "execution_count": 98,
   "metadata": {},
   "outputs": [
    {
     "data": {
      "text/plain": [
       "<BarContainer object of 20 artists>"
      ]
     },
     "execution_count": 98,
     "metadata": {},
     "output_type": "execute_result"
    },
    {
     "data": {
      "image/png": "[encoded data removed]",
      "text/plain": [
       "<Figure size 720x504 with 1 Axes>"
      ]
     },
     "metadata": {
      "needs_background": "light"
     },
     "output_type": "display_data"
    }
   ],
   "source": [
    "plt.barh(df3['collage'], df3['Player'])"
   ]
  },
  {
   "cell_type": "code",
   "execution_count": 99,
   "metadata": {},
   "outputs": [
    {
     "data": {
      "text/html": [
       "<div>\n",
       "<style scoped>\n",
       "    .dataframe tbody tr th:only-of-type {\n",
       "        vertical-align: middle;\n",
       "    }\n",
       "\n",
       "    .dataframe tbody tr th {\n",
       "        vertical-align: top;\n",
       "    }\n",
       "\n",
       "    .dataframe thead th {\n",
       "        text-align: right;\n",
       "    }\n",
       "</style>\n",
       "<table border=\"1\" class=\"dataframe\">\n",
       "  <thead>\n",
       "    <tr style=\"text-align: right;\">\n",
       "      <th></th>\n",
       "      <th>Player</th>\n",
       "    </tr>\n",
       "    <tr>\n",
       "      <th>collage</th>\n",
       "      <th></th>\n",
       "    </tr>\n",
       "  </thead>\n",
       "  <tbody>\n",
       "    <tr>\n",
       "      <th>University of Kentucky</th>\n",
       "      <td>89</td>\n",
       "    </tr>\n",
       "    <tr>\n",
       "      <th>University of California, Los Angeles</th>\n",
       "      <td>86</td>\n",
       "    </tr>\n",
       "    <tr>\n",
       "      <th>University of North Carolina</th>\n",
       "      <td>67</td>\n",
       "    </tr>\n",
       "    <tr>\n",
       "      <th>University of Kansas</th>\n",
       "      <td>59</td>\n",
       "    </tr>\n",
       "    <tr>\n",
       "      <th>Duke University</th>\n",
       "      <td>56</td>\n",
       "    </tr>\n",
       "  </tbody>\n",
       "</table>\n",
       "</div>"
      ],
      "text/plain": [
       "                                       Player\n",
       "collage                                      \n",
       "University of Kentucky                     89\n",
       "University of California, Los Angeles      86\n",
       "University of North Carolina               67\n",
       "University of Kansas                       59\n",
       "Duke University                            56"
      ]
     },
     "execution_count": 99,
     "metadata": {},
     "output_type": "execute_result"
    }
   ],
   "source": [
    "df2 = df.groupby('collage').count()[['Player']].sort_values('Player',ascending=False)\n",
    "df2.head()"
   ]
  },
  {
   "cell_type": "code",
   "execution_count": 100,
   "metadata": {},
   "outputs": [
    {
     "data": {
      "text/plain": [
       "<matplotlib.axes._subplots.AxesSubplot at 0x2153e4952c8>"
      ]
     },
     "execution_count": 100,
     "metadata": {},
     "output_type": "execute_result"
    },
    {
     "data": {
      "image/png": "[encoded data removed]",
      "text/plain": [
       "<Figure size 720x504 with 1 Axes>"
      ]
     },
     "metadata": {
      "needs_background": "light"
     },
     "output_type": "display_data"
    }
   ],
   "source": [
    "#Зависимость в виде линейного графика\n",
    "df2.plot()"
   ]
  },
  {
   "cell_type": "markdown",
   "metadata": {},
   "source": [
    "## 2. Зависимость роста от года рождения\n",
    "На линейном графике посмотрим увеличился или уменьшился рост игроков со временем"
   ]
  },
  {
   "cell_type": "code",
   "execution_count": 101,
   "metadata": {},
   "outputs": [
    {
     "data": {
      "text/html": [
       "<div>\n",
       "<style scoped>\n",
       "    .dataframe tbody tr th:only-of-type {\n",
       "        vertical-align: middle;\n",
       "    }\n",
       "\n",
       "    .dataframe tbody tr th {\n",
       "        vertical-align: top;\n",
       "    }\n",
       "\n",
       "    .dataframe thead th {\n",
       "        text-align: right;\n",
       "    }\n",
       "</style>\n",
       "<table border=\"1\" class=\"dataframe\">\n",
       "  <thead>\n",
       "    <tr style=\"text-align: right;\">\n",
       "      <th></th>\n",
       "      <th>mean</th>\n",
       "    </tr>\n",
       "    <tr>\n",
       "      <th>born</th>\n",
       "      <th></th>\n",
       "    </tr>\n",
       "  </thead>\n",
       "  <tbody>\n",
       "    <tr>\n",
       "      <th>1913.0</th>\n",
       "      <td>185.000000</td>\n",
       "    </tr>\n",
       "    <tr>\n",
       "      <th>1914.0</th>\n",
       "      <td>180.000000</td>\n",
       "    </tr>\n",
       "    <tr>\n",
       "      <th>1915.0</th>\n",
       "      <td>198.000000</td>\n",
       "    </tr>\n",
       "    <tr>\n",
       "      <th>1917.0</th>\n",
       "      <td>189.333333</td>\n",
       "    </tr>\n",
       "    <tr>\n",
       "      <th>1918.0</th>\n",
       "      <td>186.200000</td>\n",
       "    </tr>\n",
       "  </tbody>\n",
       "</table>\n",
       "</div>"
      ],
      "text/plain": [
       "              mean\n",
       "born              \n",
       "1913.0  185.000000\n",
       "1914.0  180.000000\n",
       "1915.0  198.000000\n",
       "1917.0  189.333333\n",
       "1918.0  186.200000"
      ]
     },
     "execution_count": 101,
     "metadata": {},
     "output_type": "execute_result"
    }
   ],
   "source": [
    "df_height = df.groupby('born').agg(['mean'])['height']\n",
    "df_height.head()\n"
   ]
  },
  {
   "cell_type": "code",
   "execution_count": 102,
   "metadata": {},
   "outputs": [
    {
     "data": {
      "text/plain": [
       "<matplotlib.axes._subplots.AxesSubplot at 0x2153e530288>"
      ]
     },
     "execution_count": 102,
     "metadata": {},
     "output_type": "execute_result"
    },
    {
     "data": {
      "image/png": "[encoded data removed]",
      "text/plain": [
       "<Figure size 720x504 with 1 Axes>"
      ]
     },
     "metadata": {
      "needs_background": "light"
     },
     "output_type": "display_data"
    }
   ],
   "source": [
    "df_height.plot()"
   ]
  },
  {
   "cell_type": "markdown",
   "metadata": {},
   "source": [
    "Рост игроков со  временем увеличился, но это необязательно, что стали рождаться с более высоким ростом, возможно критерии отбора стали жестче и в команду стали набирать игроков не ниже 198 см, а от 180 до 195 вообще не берут."
   ]
  },
  {
   "cell_type": "markdown",
   "metadata": {},
   "source": [
    "## 3. Из какой локации чаще всего попадают игроки, где родились самые высокие игроки"
   ]
  },
  {
   "cell_type": "code",
   "execution_count": 103,
   "metadata": {},
   "outputs": [
    {
     "data": {
      "text/html": [
       "<div>\n",
       "<style scoped>\n",
       "    .dataframe tbody tr th:only-of-type {\n",
       "        vertical-align: middle;\n",
       "    }\n",
       "\n",
       "    .dataframe tbody tr th {\n",
       "        vertical-align: top;\n",
       "    }\n",
       "\n",
       "    .dataframe thead th {\n",
       "        text-align: right;\n",
       "    }\n",
       "</style>\n",
       "<table border=\"1\" class=\"dataframe\">\n",
       "  <thead>\n",
       "    <tr style=\"text-align: right;\">\n",
       "      <th></th>\n",
       "      <th>Unnamed: 0</th>\n",
       "      <th>Player</th>\n",
       "      <th>height</th>\n",
       "      <th>weight</th>\n",
       "      <th>collage</th>\n",
       "      <th>born</th>\n",
       "      <th>birth_city</th>\n",
       "      <th>birth_state</th>\n",
       "    </tr>\n",
       "  </thead>\n",
       "  <tbody>\n",
       "    <tr>\n",
       "      <th>1</th>\n",
       "      <td>1</td>\n",
       "      <td>Cliff Barker</td>\n",
       "      <td>188.0</td>\n",
       "      <td>83.0</td>\n",
       "      <td>University of Kentucky</td>\n",
       "      <td>1921.0</td>\n",
       "      <td>Yorktown</td>\n",
       "      <td>Indiana</td>\n",
       "    </tr>\n",
       "    <tr>\n",
       "      <th>4</th>\n",
       "      <td>4</td>\n",
       "      <td>Ralph Beard</td>\n",
       "      <td>178.0</td>\n",
       "      <td>79.0</td>\n",
       "      <td>University of Kentucky</td>\n",
       "      <td>1927.0</td>\n",
       "      <td>Hardinsburg</td>\n",
       "      <td>Kentucky</td>\n",
       "    </tr>\n",
       "    <tr>\n",
       "      <th>6</th>\n",
       "      <td>6</td>\n",
       "      <td>Charlie Black</td>\n",
       "      <td>196.0</td>\n",
       "      <td>90.0</td>\n",
       "      <td>University of Kansas</td>\n",
       "      <td>1921.0</td>\n",
       "      <td>Arco</td>\n",
       "      <td>Idaho</td>\n",
       "    </tr>\n",
       "    <tr>\n",
       "      <th>7</th>\n",
       "      <td>7</td>\n",
       "      <td>Nelson Bobb</td>\n",
       "      <td>183.0</td>\n",
       "      <td>77.0</td>\n",
       "      <td>Temple University</td>\n",
       "      <td>1924.0</td>\n",
       "      <td>Philadelphia</td>\n",
       "      <td>Pennsylvania</td>\n",
       "    </tr>\n",
       "    <tr>\n",
       "      <th>8</th>\n",
       "      <td>8</td>\n",
       "      <td>Jake Bornheimer</td>\n",
       "      <td>196.0</td>\n",
       "      <td>90.0</td>\n",
       "      <td>Muhlenberg College</td>\n",
       "      <td>1927.0</td>\n",
       "      <td>New Brunswick</td>\n",
       "      <td>New Jersey</td>\n",
       "    </tr>\n",
       "  </tbody>\n",
       "</table>\n",
       "</div>"
      ],
      "text/plain": [
       "   Unnamed: 0           Player  height  weight                 collage  \\\n",
       "1           1     Cliff Barker   188.0    83.0  University of Kentucky   \n",
       "4           4      Ralph Beard   178.0    79.0  University of Kentucky   \n",
       "6           6    Charlie Black   196.0    90.0    University of Kansas   \n",
       "7           7      Nelson Bobb   183.0    77.0       Temple University   \n",
       "8           8  Jake Bornheimer   196.0    90.0      Muhlenberg College   \n",
       "\n",
       "     born     birth_city   birth_state  \n",
       "1  1921.0       Yorktown       Indiana  \n",
       "4  1927.0    Hardinsburg      Kentucky  \n",
       "6  1921.0           Arco         Idaho  \n",
       "7  1924.0   Philadelphia  Pennsylvania  \n",
       "8  1927.0  New Brunswick    New Jersey  "
      ]
     },
     "execution_count": 103,
     "metadata": {},
     "output_type": "execute_result"
    }
   ],
   "source": [
    "#Далее исследуем место рождения игроков. В этих столбцах есть нулевые значения, поэтому удалим их из датафрэйма\n",
    "df = df.dropna()\n",
    "df.head()"
   ]
  },
  {
   "cell_type": "code",
   "execution_count": 112,
   "metadata": {},
   "outputs": [
    {
     "data": {
      "text/html": [
       "<div>\n",
       "<style scoped>\n",
       "    .dataframe tbody tr th:only-of-type {\n",
       "        vertical-align: middle;\n",
       "    }\n",
       "\n",
       "    .dataframe tbody tr th {\n",
       "        vertical-align: top;\n",
       "    }\n",
       "\n",
       "    .dataframe thead tr th {\n",
       "        text-align: left;\n",
       "    }\n",
       "\n",
       "    .dataframe thead tr:last-of-type th {\n",
       "        text-align: right;\n",
       "    }\n",
       "</style>\n",
       "<table border=\"1\" class=\"dataframe\">\n",
       "  <thead>\n",
       "    <tr>\n",
       "      <th></th>\n",
       "      <th>Player</th>\n",
       "      <th>height</th>\n",
       "    </tr>\n",
       "    <tr>\n",
       "      <th></th>\n",
       "      <th>size</th>\n",
       "      <th>mean</th>\n",
       "    </tr>\n",
       "    <tr>\n",
       "      <th>birth_state</th>\n",
       "      <th></th>\n",
       "      <th></th>\n",
       "    </tr>\n",
       "  </thead>\n",
       "  <tbody>\n",
       "    <tr>\n",
       "      <th>Alabama</th>\n",
       "      <td>74</td>\n",
       "      <td>199.716216</td>\n",
       "    </tr>\n",
       "    <tr>\n",
       "      <th>Alaska</th>\n",
       "      <td>1</td>\n",
       "      <td>188.000000</td>\n",
       "    </tr>\n",
       "    <tr>\n",
       "      <th>Argentina</th>\n",
       "      <td>2</td>\n",
       "      <td>195.500000</td>\n",
       "    </tr>\n",
       "    <tr>\n",
       "      <th>Arizona</th>\n",
       "      <td>12</td>\n",
       "      <td>194.500000</td>\n",
       "    </tr>\n",
       "    <tr>\n",
       "      <th>Arkansas</th>\n",
       "      <td>47</td>\n",
       "      <td>198.297872</td>\n",
       "    </tr>\n",
       "    <tr>\n",
       "      <th>...</th>\n",
       "      <td>...</td>\n",
       "      <td>...</td>\n",
       "    </tr>\n",
       "    <tr>\n",
       "      <th>Virginia</th>\n",
       "      <td>60</td>\n",
       "      <td>197.833333</td>\n",
       "    </tr>\n",
       "    <tr>\n",
       "      <th>Washington</th>\n",
       "      <td>48</td>\n",
       "      <td>198.520833</td>\n",
       "    </tr>\n",
       "    <tr>\n",
       "      <th>West Virginia</th>\n",
       "      <td>19</td>\n",
       "      <td>194.526316</td>\n",
       "    </tr>\n",
       "    <tr>\n",
       "      <th>Wisconsin</th>\n",
       "      <td>44</td>\n",
       "      <td>197.522727</td>\n",
       "    </tr>\n",
       "    <tr>\n",
       "      <th>Wyoming</th>\n",
       "      <td>5</td>\n",
       "      <td>198.200000</td>\n",
       "    </tr>\n",
       "  </tbody>\n",
       "</table>\n",
       "<p>111 rows × 2 columns</p>\n",
       "</div>"
      ],
      "text/plain": [
       "              Player      height\n",
       "                size        mean\n",
       "birth_state                     \n",
       "Alabama           74  199.716216\n",
       "Alaska             1  188.000000\n",
       "Argentina          2  195.500000\n",
       "Arizona           12  194.500000\n",
       "Arkansas          47  198.297872\n",
       "...              ...         ...\n",
       "Virginia          60  197.833333\n",
       "Washington        48  198.520833\n",
       "West Virginia     19  194.526316\n",
       "Wisconsin         44  197.522727\n",
       "Wyoming            5  198.200000\n",
       "\n",
       "[111 rows x 2 columns]"
      ]
     },
     "execution_count": 112,
     "metadata": {},
     "output_type": "execute_result"
    }
   ],
   "source": [
    "# я не смогла отсортировать столбцы после таких отборов(с вложенными столбцами) - поэтому далее я отборами создала два датафрэйма, а потом сджойнила их.\n",
    "df4 = df.groupby('birth_state').agg({'Player':['size'], 'height':['mean']})\n",
    "df4"
   ]
  },
  {
   "cell_type": "code",
   "execution_count": 108,
   "metadata": {},
   "outputs": [],
   "source": [
    "birth_state_height = df.groupby('birth_state').agg(['mean'])['height'].sort_values('mean',ascending=False).head(20)"
   ]
  },
  {
   "cell_type": "code",
   "execution_count": 110,
   "metadata": {},
   "outputs": [
    {
     "data": {
      "text/plain": [
       "<matplotlib.axes._subplots.AxesSubplot at 0x2153e7cecc8>"
      ]
     },
     "execution_count": 110,
     "metadata": {},
     "output_type": "execute_result"
    },
    {
     "data": {
      "image/png": "[encoded data removed]",
      "text/plain": [
       "<Figure size 720x504 with 1 Axes>"
      ]
     },
     "metadata": {
      "needs_background": "light"
     },
     "output_type": "display_data"
    }
   ],
   "source": [
    "birth_state_height.plot()\n",
    "#Здесь более наглядно видно, что самые высокие игроки из Танзании."
   ]
  },
  {
   "cell_type": "code",
   "execution_count": 117,
   "metadata": {},
   "outputs": [
    {
     "data": {
      "text/html": [
       "<div>\n",
       "<style scoped>\n",
       "    .dataframe tbody tr th:only-of-type {\n",
       "        vertical-align: middle;\n",
       "    }\n",
       "\n",
       "    .dataframe tbody tr th {\n",
       "        vertical-align: top;\n",
       "    }\n",
       "\n",
       "    .dataframe thead th {\n",
       "        text-align: right;\n",
       "    }\n",
       "</style>\n",
       "<table border=\"1\" class=\"dataframe\">\n",
       "  <thead>\n",
       "    <tr style=\"text-align: right;\">\n",
       "      <th></th>\n",
       "      <th>size</th>\n",
       "    </tr>\n",
       "    <tr>\n",
       "      <th>birth_state</th>\n",
       "      <th></th>\n",
       "    </tr>\n",
       "  </thead>\n",
       "  <tbody>\n",
       "    <tr>\n",
       "      <th>California</th>\n",
       "      <td>337</td>\n",
       "    </tr>\n",
       "    <tr>\n",
       "      <th>New York</th>\n",
       "      <td>286</td>\n",
       "    </tr>\n",
       "    <tr>\n",
       "      <th>Illinois</th>\n",
       "      <td>203</td>\n",
       "    </tr>\n",
       "    <tr>\n",
       "      <th>Pennsylvania</th>\n",
       "      <td>162</td>\n",
       "    </tr>\n",
       "    <tr>\n",
       "      <th>Ohio</th>\n",
       "      <td>136</td>\n",
       "    </tr>\n",
       "    <tr>\n",
       "      <th>Michigan</th>\n",
       "      <td>131</td>\n",
       "    </tr>\n",
       "    <tr>\n",
       "      <th>Texas</th>\n",
       "      <td>127</td>\n",
       "    </tr>\n",
       "    <tr>\n",
       "      <th>Georgia</th>\n",
       "      <td>113</td>\n",
       "    </tr>\n",
       "    <tr>\n",
       "      <th>Louisiana</th>\n",
       "      <td>101</td>\n",
       "    </tr>\n",
       "    <tr>\n",
       "      <th>North Carolina</th>\n",
       "      <td>96</td>\n",
       "    </tr>\n",
       "    <tr>\n",
       "      <th>Indiana</th>\n",
       "      <td>94</td>\n",
       "    </tr>\n",
       "    <tr>\n",
       "      <th>Florida</th>\n",
       "      <td>93</td>\n",
       "    </tr>\n",
       "    <tr>\n",
       "      <th>New Jersey</th>\n",
       "      <td>91</td>\n",
       "    </tr>\n",
       "    <tr>\n",
       "      <th>Kentucky</th>\n",
       "      <td>82</td>\n",
       "    </tr>\n",
       "    <tr>\n",
       "      <th>Alabama</th>\n",
       "      <td>74</td>\n",
       "    </tr>\n",
       "    <tr>\n",
       "      <th>Tennessee</th>\n",
       "      <td>72</td>\n",
       "    </tr>\n",
       "    <tr>\n",
       "      <th>Mississippi</th>\n",
       "      <td>72</td>\n",
       "    </tr>\n",
       "    <tr>\n",
       "      <th>Maryland</th>\n",
       "      <td>61</td>\n",
       "    </tr>\n",
       "    <tr>\n",
       "      <th>Virginia</th>\n",
       "      <td>60</td>\n",
       "    </tr>\n",
       "    <tr>\n",
       "      <th>District of Columbia</th>\n",
       "      <td>57</td>\n",
       "    </tr>\n",
       "  </tbody>\n",
       "</table>\n",
       "</div>"
      ],
      "text/plain": [
       "                      size\n",
       "birth_state               \n",
       "California             337\n",
       "New York               286\n",
       "Illinois               203\n",
       "Pennsylvania           162\n",
       "Ohio                   136\n",
       "Michigan               131\n",
       "Texas                  127\n",
       "Georgia                113\n",
       "Louisiana              101\n",
       "North Carolina          96\n",
       "Indiana                 94\n",
       "Florida                 93\n",
       "New Jersey              91\n",
       "Kentucky                82\n",
       "Alabama                 74\n",
       "Tennessee               72\n",
       "Mississippi             72\n",
       "Maryland                61\n",
       "Virginia                60\n",
       "District of Columbia    57"
      ]
     },
     "execution_count": 117,
     "metadata": {},
     "output_type": "execute_result"
    }
   ],
   "source": [
    "birth_state_dynamics = df.groupby('birth_state').agg(['size'])['Player'].sort_values('size',ascending=False).head(20)\n",
    "birth_state_dynamics"
   ]
  },
  {
   "cell_type": "code",
   "execution_count": 118,
   "metadata": {},
   "outputs": [
    {
     "data": {
      "text/html": [
       "<div>\n",
       "<style scoped>\n",
       "    .dataframe tbody tr th:only-of-type {\n",
       "        vertical-align: middle;\n",
       "    }\n",
       "\n",
       "    .dataframe tbody tr th {\n",
       "        vertical-align: top;\n",
       "    }\n",
       "\n",
       "    .dataframe thead th {\n",
       "        text-align: right;\n",
       "    }\n",
       "</style>\n",
       "<table border=\"1\" class=\"dataframe\">\n",
       "  <thead>\n",
       "    <tr style=\"text-align: right;\">\n",
       "      <th></th>\n",
       "      <th>mean</th>\n",
       "    </tr>\n",
       "    <tr>\n",
       "      <th>birth_state</th>\n",
       "      <th></th>\n",
       "    </tr>\n",
       "  </thead>\n",
       "  <tbody>\n",
       "    <tr>\n",
       "      <th>United Republic of Tanzania</th>\n",
       "      <td>221.000000</td>\n",
       "    </tr>\n",
       "    <tr>\n",
       "      <th>Montenegro</th>\n",
       "      <td>221.000000</td>\n",
       "    </tr>\n",
       "    <tr>\n",
       "      <th>Dominica</th>\n",
       "      <td>218.000000</td>\n",
       "    </tr>\n",
       "    <tr>\n",
       "      <th>Democratic Republic of the Congo</th>\n",
       "      <td>218.000000</td>\n",
       "    </tr>\n",
       "    <tr>\n",
       "      <th>Iceland</th>\n",
       "      <td>218.000000</td>\n",
       "    </tr>\n",
       "    <tr>\n",
       "      <th>Netherlands</th>\n",
       "      <td>214.400000</td>\n",
       "    </tr>\n",
       "    <tr>\n",
       "      <th>South Sudan</th>\n",
       "      <td>214.333333</td>\n",
       "    </tr>\n",
       "    <tr>\n",
       "      <th>Brazil</th>\n",
       "      <td>213.333333</td>\n",
       "    </tr>\n",
       "    <tr>\n",
       "      <th>Serbia</th>\n",
       "      <td>213.000000</td>\n",
       "    </tr>\n",
       "    <tr>\n",
       "      <th>Spain</th>\n",
       "      <td>213.000000</td>\n",
       "    </tr>\n",
       "  </tbody>\n",
       "</table>\n",
       "</div>"
      ],
      "text/plain": [
       "                                        mean\n",
       "birth_state                                 \n",
       "United Republic of Tanzania       221.000000\n",
       "Montenegro                        221.000000\n",
       "Dominica                          218.000000\n",
       "Democratic Republic of the Congo  218.000000\n",
       "Iceland                           218.000000\n",
       "Netherlands                       214.400000\n",
       "South Sudan                       214.333333\n",
       "Brazil                            213.333333\n",
       "Serbia                            213.000000\n",
       "Spain                             213.000000"
      ]
     },
     "execution_count": 118,
     "metadata": {},
     "output_type": "execute_result"
    }
   ],
   "source": [
    "birth_state_height"
   ]
  },
  {
   "cell_type": "code",
   "execution_count": 120,
   "metadata": {},
   "outputs": [
    {
     "data": {
      "text/plain": [
       "<matplotlib.axes._subplots.AxesSubplot at 0x2153f0d1d08>"
      ]
     },
     "execution_count": 120,
     "metadata": {},
     "output_type": "execute_result"
    },
    {
     "data": {
      "image/png": "[encoded data removed]",
      "text/plain": [
       "<Figure size 720x504 with 1 Axes>"
      ]
     },
     "metadata": {
      "needs_background": "light"
     },
     "output_type": "display_data"
    }
   ],
   "source": [
    "birth_state_dynamics.plot(kind='bar')#Частота попадания игроков в сборную, чаще попадают из Калифорнии"
   ]
  },
  {
   "cell_type": "code",
   "execution_count": 127,
   "metadata": {},
   "outputs": [
    {
     "data": {
      "text/plain": [
       "<matplotlib.axes._subplots.AxesSubplot at 0x2153f27b108>"
      ]
     },
     "execution_count": 127,
     "metadata": {},
     "output_type": "execute_result"
    },
    {
     "data": {
      "image/png": "[encoded data removed]",
      "text/plain": [
       "<Figure size 720x504 with 1 Axes>"
      ]
     },
     "metadata": {
      "needs_background": "light"
     },
     "output_type": "display_data"
    }
   ],
   "source": [
    "birth_state_height = df.groupby('birth_state').agg(['mean'])['height'].sort_values('mean',ascending=False)\n",
    "birth_state_dynamics = df.groupby('birth_state').agg(['size'])['Player'].sort_values('size',ascending=False)\n",
    "df_join = birth_state_height.join(birth_state_dynamics)\n",
    "df_join_1 = df_join.sort_values(['size','mean'], ascending=[False,False]).head(10)\n",
    "df_join_1.plot()# Зависимости от места рождения, роста и частоты попадания игроков в сборную нет."
   ]
  },
  {
   "cell_type": "markdown",
   "metadata": {},
   "source": [
    "## 4. Распределение по росту игроков"
   ]
  },
  {
   "cell_type": "code",
   "execution_count": 132,
   "metadata": {},
   "outputs": [
    {
     "data": {
      "text/plain": [
       "Text(0, 0.5, 'players')"
      ]
     },
     "execution_count": 132,
     "metadata": {},
     "output_type": "execute_result"
    },
    {
     "data": {
      "image/png": "[encoded data removed]",
      "text/plain": [
       "<Figure size 720x504 with 1 Axes>"
      ]
     },
     "metadata": {
      "needs_background": "light"
     },
     "output_type": "display_data"
    }
   ],
   "source": [
    "ax = df.height.hist()\n",
    "ax.set_title('Growth distribution')\n",
    "ax.set_xlabel('height')\n",
    "ax.set_ylabel('players')\n",
    "#Больше 800 игроков ростом выше двух метров. \n",
    "#Возможно штат игроков стал больше после 1960 г, потому что с этого года принимают в основном игроков с таким ростом."
   ]
  },
  {
   "cell_type": "code",
   "execution_count": 133,
   "metadata": {},
   "outputs": [],
   "source": [
    "#Сравнение трех величин: роста, веса и года рождения. Видим зависимость веса от роста. Вес и рост не зависят от года рождения.\n",
    "import seaborn as sns"
   ]
  },
  {
   "cell_type": "code",
   "execution_count": 134,
   "metadata": {},
   "outputs": [
    {
     "data": {
      "text/plain": [
       "<seaborn.axisgrid.PairGrid at 0x21541d1e808>"
      ]
     },
     "execution_count": 134,
     "metadata": {},
     "output_type": "execute_result"
    },
    {
     "data": {
      "image/png": "[encoded data removed]",
      "text/plain": [
       "<Figure size 540x540 with 12 Axes>"
      ]
     },
     "metadata": {
      "needs_background": "light"
     },
     "output_type": "display_data"
    }
   ],
   "source": [
    "sns_df = sns.pairplot(\n",
    "    df[['born', 'height', 'weight']])\n",
    "sns_df"
   ]
  },
  {
   "cell_type": "code",
   "execution_count": 137,
   "metadata": {},
   "outputs": [
    {
     "data": {
      "text/plain": [
       "<seaborn.axisgrid.JointGrid at 0x215424db088>"
      ]
     },
     "execution_count": 137,
     "metadata": {},
     "output_type": "execute_result"
    },
    {
     "data": {
      "image/png": "[encoded data removed]",
      "text/plain": [
       "<Figure size 432x432 with 3 Axes>"
      ]
     },
     "metadata": {
      "needs_background": "light"
     },
     "output_type": "display_data"
    }
   ],
   "source": [
    "sns.jointplot(x='height', y='weight', \n",
    "              data=df, kind='scatter')"
   ]
  },
  {
   "cell_type": "markdown",
   "metadata": {},
   "source": [
    "## 5. boxplot топ 5 штатов чаще всего откуда родом игроки, распределения высоты роста игроков по данной пятерке мест."
   ]
  },
  {
   "cell_type": "code",
   "execution_count": 143,
   "metadata": {},
   "outputs": [
    {
     "data": {
      "image/png": "[encoded data removed]",
      "text/plain": [
       "<Figure size 720x504 with 1 Axes>"
      ]
     },
     "metadata": {
      "needs_background": "light"
     },
     "output_type": "display_data"
    }
   ],
   "source": [
    "top_birth_state = df.birth_state.value_counts().sort_values(ascending = False).head(5).index.values\n",
    "top_birth_state\n",
    "ax = sns.boxplot(x=\"birth_state\", y=\"height\", \n",
    "            data=df[df.birth_state.isin(top_birth_state)])\n",
    "#boxplot для топ 5 штатов, из которых чаще всего попадают игроки - распределение по росту.\n",
    "#Например самые высокие родом из  Калифорнии: 50% игроков около двух метров(201), 25% - 193 см, и 25% - 206 см, \n",
    "#самые низкие около 178 см и самые высокие около 224 см, выбросов нет\n",
    "#В среднем самые низкие В Нью-Йорке: верхний квартиль совпадает, но нижний квартиль 188 см, медиана  196 см,\n",
    "#из этого города игроки  ниже ростом - значит высоких игроков(если мы захотим их найти) следует искать в Калифорнии.\n"
   ]
  },
  {
   "cell_type": "code",
   "execution_count": 146,
   "metadata": {},
   "outputs": [
    {
     "data": {
      "text/html": [
       "        <script type=\"text/javascript\">\n",
       "        window.PlotlyConfig = {MathJaxConfig: 'local'};\n",
       "        if (window.MathJax) {MathJax.Hub.Config({SVG: {font: \"STIX-Web\"}});}\n",
       "        if (typeof require !== 'undefined') {\n",
       "        require.undef(\"plotly\");\n",
       "        requirejs.config({\n",
       "            paths: {\n",
       "                'plotly': ['https://cdn.plot.ly/plotly-latest.min']\n",
       "            }\n",
       "        });\n",
       "        require(['plotly'], function(Plotly) {\n",
       "            window._Plotly = Plotly;\n",
       "        });\n",
       "        }\n",
       "        </script>\n",
       "        "
      ]
     },
     "metadata": {},
     "output_type": "display_data"
    }
   ],
   "source": [
    "#Тот же самый график, но построенный с помощью библиотеки plotly, можно посмотреть более точные значения, а не предполагать.\n",
    "from plotly.offline import init_notebook_mode, iplot\n",
    "import plotly\n",
    "import plotly.graph_objs as go\n",
    "\n",
    "init_notebook_mode(connected=True)"
   ]
  },
  {
   "cell_type": "code",
   "execution_count": 147,
   "metadata": {},
   "outputs": [
    {
     "data": {
      "application/vnd.plotly.v1+json": {
       "config": {
        "linkText": "Export to plot.ly",
        "plotlyServerURL": "https://plot.ly",
        "showLink": false
       },
       "data": [
        {
         "name": "California",
         "type": "box",
         "y": [
          190,
          190,
          201,
          193,
          201,
          188,
          193,
          178,
          188,
          198,
          196,
          188,
          196,
          198,
          198,
          196,
          196,
          196,
          206,
          208,
          193,
          196,
          208,
          198,
          196,
          203,
          185,
          206,
          203,
          206,
          185,
          201,
          198,
          196,
          208,
          208,
          190,
          206,
          206,
          203,
          188,
          208,
          203,
          198,
          198,
          193,
          190,
          196,
          206,
          193,
          211,
          198,
          211,
          208,
          206,
          198,
          213,
          208,
          190,
          203,
          206,
          208,
          211,
          206,
          193,
          203,
          193,
          196,
          201,
          188,
          201,
          208,
          180,
          198,
          196,
          201,
          198,
          198,
          201,
          190,
          193,
          216,
          208,
          201,
          193,
          206,
          188,
          206,
          206,
          193,
          190,
          218,
          198,
          198,
          185,
          213,
          206,
          198,
          203,
          203,
          206,
          208,
          224,
          201,
          203,
          211,
          196,
          206,
          190,
          190,
          188,
          211,
          201,
          203,
          211,
          203,
          201,
          208,
          216,
          201,
          201,
          196,
          208,
          211,
          211,
          201,
          201,
          206,
          180,
          203,
          180,
          211,
          203,
          201,
          190,
          198,
          208,
          211,
          206,
          190,
          198,
          193,
          201,
          193,
          193,
          206,
          203,
          198,
          211,
          206,
          211,
          206,
          206,
          193,
          208,
          201,
          203,
          208,
          206,
          196,
          201,
          203,
          188,
          193,
          193,
          206,
          208,
          196,
          201,
          208,
          198,
          206,
          206,
          190,
          196,
          211,
          201,
          193,
          198,
          196,
          198,
          201,
          190,
          193,
          201,
          178,
          203,
          201,
          208,
          201,
          206,
          201,
          196,
          206,
          206,
          206,
          190,
          196,
          196,
          185,
          198,
          198,
          188,
          188,
          208,
          206,
          201,
          190,
          193,
          190,
          190,
          213,
          190,
          185,
          193,
          206,
          213,
          190,
          198,
          208,
          190,
          196,
          188,
          193,
          203,
          201,
          206,
          193,
          203,
          208,
          201,
          198,
          203,
          193,
          206,
          211,
          193,
          208,
          203,
          203,
          201,
          201,
          203,
          203,
          198,
          208,
          196,
          206,
          198,
          201,
          201,
          201,
          211,
          193,
          206,
          198,
          188,
          213,
          208,
          203,
          201,
          196,
          190,
          201,
          213,
          206,
          193,
          211,
          201,
          208,
          213,
          213,
          208,
          193,
          190,
          201,
          183,
          211,
          201,
          206,
          196,
          193,
          208,
          201,
          206,
          180,
          190,
          201,
          196,
          203,
          196,
          201,
          193,
          201,
          180,
          193,
          206,
          198,
          196,
          190,
          193,
          213,
          198,
          213,
          201,
          196,
          213,
          201,
          198,
          201,
          201,
          203,
          178,
          213,
          193,
          183,
          196,
          198,
          201,
          206,
          206,
          193,
          208,
          211,
          208,
          208,
          198,
          193,
          208,
          211,
          196,
          193,
          208,
          188,
          193,
          193,
          190
         ]
        },
        {
         "name": "New York",
         "type": "box",
         "y": [
          208,
          196,
          190,
          188,
          178,
          178,
          190,
          188,
          188,
          185,
          190,
          183,
          183,
          203,
          203,
          183,
          183,
          188,
          185,
          188,
          185,
          183,
          201,
          183,
          211,
          188,
          198,
          185,
          196,
          213,
          193,
          196,
          190,
          188,
          193,
          190,
          188,
          193,
          198,
          206,
          180,
          201,
          198,
          185,
          188,
          193,
          203,
          208,
          190,
          188,
          196,
          193,
          193,
          198,
          193,
          185,
          193,
          201,
          193,
          206,
          203,
          213,
          193,
          218,
          190,
          203,
          185,
          211,
          188,
          196,
          190,
          188,
          185,
          196,
          190,
          201,
          193,
          208,
          206,
          198,
          188,
          190,
          183,
          190,
          188,
          183,
          193,
          196,
          211,
          190,
          198,
          190,
          188,
          190,
          206,
          201,
          206,
          193,
          206,
          208,
          203,
          193,
          190,
          196,
          193,
          201,
          173,
          201,
          206,
          190,
          198,
          190,
          201,
          188,
          188,
          206,
          190,
          206,
          193,
          190,
          193,
          198,
          196,
          201,
          196,
          188,
          185,
          198,
          208,
          211,
          201,
          203,
          203,
          203,
          185,
          188,
          201,
          206,
          188,
          206,
          188,
          196,
          196,
          190,
          198,
          206,
          198,
          188,
          188,
          201,
          198,
          206,
          203,
          196,
          201,
          203,
          203,
          208,
          198,
          201,
          211,
          190,
          211,
          188,
          206,
          180,
          185,
          213,
          190,
          201,
          206,
          196,
          203,
          201,
          188,
          190,
          208,
          213,
          196,
          208,
          216,
          203,
          188,
          183,
          208,
          208,
          201,
          208,
          211,
          208,
          203,
          211,
          188,
          188,
          180,
          203,
          211,
          183,
          211,
          193,
          190,
          185,
          198,
          190,
          188,
          190,
          208,
          193,
          203,
          193,
          183,
          203,
          213,
          185,
          188,
          203,
          208,
          198,
          185,
          213,
          211,
          185,
          206,
          208,
          213,
          180,
          213,
          188,
          196,
          188,
          206,
          190,
          193,
          203,
          213,
          185,
          178,
          183,
          190,
          198,
          196,
          203,
          211,
          201,
          208,
          211,
          211,
          203,
          190,
          203,
          188,
          185,
          185,
          211,
          218,
          213,
          185,
          188,
          183,
          185,
          206,
          206,
          198,
          193,
          196,
          213,
          188,
          190,
          203,
          198,
          211,
          206,
          203,
          193,
          185,
          211,
          208,
          211,
          203,
          206,
          203,
          193,
          183,
          211,
          213,
          193
         ]
        },
        {
         "name": "Illinois",
         "type": "box",
         "y": [
          183,
          190,
          198,
          198,
          190,
          208,
          183,
          185,
          206,
          196,
          188,
          190,
          183,
          201,
          201,
          203,
          196,
          185,
          198,
          206,
          190,
          193,
          193,
          196,
          206,
          190,
          175,
          190,
          201,
          185,
          196,
          203,
          185,
          196,
          203,
          196,
          201,
          198,
          211,
          183,
          206,
          198,
          193,
          203,
          208,
          198,
          196,
          190,
          188,
          201,
          190,
          203,
          201,
          211,
          206,
          208,
          198,
          183,
          201,
          183,
          211,
          185,
          211,
          183,
          198,
          190,
          208,
          198,
          208,
          185,
          213,
          211,
          198,
          208,
          185,
          185,
          206,
          208,
          188,
          208,
          208,
          193,
          193,
          201,
          198,
          198,
          208,
          203,
          190,
          213,
          190,
          196,
          206,
          203,
          190,
          180,
          188,
          211,
          188,
          198,
          198,
          183,
          203,
          196,
          216,
          203,
          208,
          190,
          196,
          203,
          193,
          198,
          196,
          206,
          196,
          198,
          203,
          201,
          203,
          208,
          208,
          193,
          206,
          183,
          198,
          206,
          203,
          196,
          201,
          218,
          180,
          196,
          203,
          224,
          211,
          178,
          188,
          206,
          185,
          198,
          211,
          201,
          208,
          198,
          196,
          198,
          201,
          203,
          211,
          193,
          198,
          213,
          180,
          201,
          208,
          201,
          185,
          206,
          203,
          193,
          193,
          185,
          198,
          198,
          183,
          190,
          206,
          201,
          206,
          203,
          208,
          206,
          193,
          203,
          201,
          208,
          198,
          208,
          203,
          190,
          188,
          196,
          180,
          203,
          201,
          180,
          198,
          188,
          196,
          185,
          185,
          206,
          206,
          206,
          190,
          203,
          203,
          206,
          208,
          213,
          211,
          188,
          183
         ]
        },
        {
         "name": "Pennsylvania",
         "type": "box",
         "y": [
          183,
          185,
          185,
          180,
          178,
          196,
          188,
          193,
          193,
          203,
          193,
          180,
          188,
          193,
          188,
          193,
          188,
          196,
          188,
          196,
          196,
          198,
          201,
          201,
          198,
          183,
          183,
          216,
          196,
          180,
          185,
          206,
          190,
          203,
          203,
          173,
          198,
          188,
          201,
          185,
          190,
          190,
          196,
          190,
          216,
          206,
          196,
          206,
          193,
          201,
          188,
          188,
          198,
          206,
          193,
          190,
          213,
          206,
          201,
          201,
          206,
          201,
          193,
          203,
          188,
          190,
          198,
          206,
          190,
          198,
          185,
          201,
          190,
          198,
          190,
          180,
          196,
          198,
          201,
          206,
          201,
          185,
          201,
          193,
          203,
          198,
          188,
          216,
          206,
          216,
          211,
          203,
          208,
          196,
          193,
          206,
          188,
          206,
          198,
          180,
          208,
          188,
          185,
          198,
          193,
          201,
          190,
          198,
          178,
          203,
          203,
          190,
          178,
          190,
          196,
          206,
          196,
          193,
          206,
          196,
          208,
          193,
          201,
          201,
          211,
          213,
          198,
          193,
          198,
          206,
          198,
          183,
          208,
          206,
          208,
          201,
          193,
          201,
          198,
          183,
          198,
          206,
          198,
          188,
          183,
          198,
          206,
          183,
          201,
          193,
          198,
          190,
          206,
          201,
          193,
          188,
          196,
          208,
          198,
          201,
          203,
          196
         ]
        },
        {
         "name": "Ohio",
         "type": "box",
         "y": [
          193,
          188,
          201,
          193,
          208,
          201,
          196,
          185,
          206,
          196,
          203,
          201,
          198,
          196,
          203,
          196,
          178,
          196,
          198,
          203,
          190,
          211,
          203,
          188,
          185,
          198,
          203,
          196,
          185,
          203,
          213,
          208,
          196,
          203,
          193,
          201,
          208,
          203,
          196,
          201,
          198,
          213,
          183,
          201,
          196,
          190,
          185,
          201,
          208,
          201,
          201,
          198,
          203,
          193,
          203,
          208,
          196,
          201,
          201,
          203,
          185,
          193,
          206,
          208,
          206,
          190,
          201,
          208,
          188,
          211,
          190,
          203,
          198,
          213,
          198,
          196,
          206,
          218,
          203,
          190,
          190,
          198,
          201,
          198,
          206,
          218,
          193,
          190,
          198,
          193,
          203,
          213,
          206,
          201,
          190,
          206,
          203,
          206,
          183,
          196,
          206,
          193,
          206,
          185,
          165,
          201,
          196,
          211,
          211,
          211,
          203,
          198,
          201,
          201,
          188,
          203,
          213,
          201,
          188,
          203,
          193,
          213,
          190,
          213,
          206,
          188,
          203,
          185,
          206,
          185,
          180,
          201,
          208,
          188,
          190,
          201
         ]
        }
       ],
       "layout": {
        "template": {
         "data": {
          "bar": [
           {
            "error_x": {
             "color": "#2a3f5f"
            },
            "error_y": {
             "color": "#2a3f5f"
            },
            "marker": {
             "line": {
              "color": "#E5ECF6",
              "width": 0.5
             }
            },
            "type": "bar"
           }
          ],
          "barpolar": [
           {
            "marker": {
             "line": {
              "color": "#E5ECF6",
              "width": 0.5
             }
            },
            "type": "barpolar"
           }
          ],
          "carpet": [
           {
            "aaxis": {
             "endlinecolor": "#2a3f5f",
             "gridcolor": "white",
             "linecolor": "white",
             "minorgridcolor": "white",
             "startlinecolor": "#2a3f5f"
            },
            "baxis": {
             "endlinecolor": "#2a3f5f",
             "gridcolor": "white",
             "linecolor": "white",
             "minorgridcolor": "white",
             "startlinecolor": "#2a3f5f"
            },
            "type": "carpet"
           }
          ],
          "choropleth": [
           {
            "colorbar": {
             "outlinewidth": 0,
             "ticks": ""
            },
            "type": "choropleth"
           }
          ],
          "contour": [
           {
            "colorbar": {
             "outlinewidth": 0,
             "ticks": ""
            },
            "colorscale": [
             [
              0,
              "#0d0887"
             ],
             [
              0.1111111111111111,
              "#46039f"
             ],
             [
              0.2222222222222222,
              "#7201a8"
             ],
             [
              0.3333333333333333,
              "#9c179e"
             ],
             [
              0.4444444444444444,
              "#bd3786"
             ],
             [
              0.5555555555555556,
              "#d8576b"
             ],
             [
              0.6666666666666666,
              "#ed7953"
             ],
             [
              0.7777777777777778,
              "#fb9f3a"
             ],
             [
              0.8888888888888888,
              "#fdca26"
             ],
             [
              1,
              "#f0f921"
             ]
            ],
            "type": "contour"
           }
          ],
          "contourcarpet": [
           {
            "colorbar": {
             "outlinewidth": 0,
             "ticks": ""
            },
            "type": "contourcarpet"
           }
          ],
          "heatmap": [
           {
            "colorbar": {
             "outlinewidth": 0,
             "ticks": ""
            },
            "colorscale": [
             [
              0,
              "#0d0887"
             ],
             [
              0.1111111111111111,
              "#46039f"
             ],
             [
              0.2222222222222222,
              "#7201a8"
             ],
             [
              0.3333333333333333,
              "#9c179e"
             ],
             [
              0.4444444444444444,
              "#bd3786"
             ],
             [
              0.5555555555555556,
              "#d8576b"
             ],
             [
              0.6666666666666666,
              "#ed7953"
             ],
             [
              0.7777777777777778,
              "#fb9f3a"
             ],
             [
              0.8888888888888888,
              "#fdca26"
             ],
             [
              1,
              "#f0f921"
             ]
            ],
            "type": "heatmap"
           }
          ],
          "heatmapgl": [
           {
            "colorbar": {
             "outlinewidth": 0,
             "ticks": ""
            },
            "colorscale": [
             [
              0,
              "#0d0887"
             ],
             [
              0.1111111111111111,
              "#46039f"
             ],
             [
              0.2222222222222222,
              "#7201a8"
             ],
             [
              0.3333333333333333,
              "#9c179e"
             ],
             [
              0.4444444444444444,
              "#bd3786"
             ],
             [
              0.5555555555555556,
              "#d8576b"
             ],
             [
              0.6666666666666666,
              "#ed7953"
             ],
             [
              0.7777777777777778,
              "#fb9f3a"
             ],
             [
              0.8888888888888888,
              "#fdca26"
             ],
             [
              1,
              "#f0f921"
             ]
            ],
            "type": "heatmapgl"
           }
          ],
          "histogram": [
           {
            "marker": {
             "colorbar": {
              "outlinewidth": 0,
              "ticks": ""
             }
            },
            "type": "histogram"
           }
          ],
          "histogram2d": [
           {
            "colorbar": {
             "outlinewidth": 0,
             "ticks": ""
            },
            "colorscale": [
             [
              0,
              "#0d0887"
             ],
             [
              0.1111111111111111,
              "#46039f"
             ],
             [
              0.2222222222222222,
              "#7201a8"
             ],
             [
              0.3333333333333333,
              "#9c179e"
             ],
             [
              0.4444444444444444,
              "#bd3786"
             ],
             [
              0.5555555555555556,
              "#d8576b"
             ],
             [
              0.6666666666666666,
              "#ed7953"
             ],
             [
              0.7777777777777778,
              "#fb9f3a"
             ],
             [
              0.8888888888888888,
              "#fdca26"
             ],
             [
              1,
              "#f0f921"
             ]
            ],
            "type": "histogram2d"
           }
          ],
          "histogram2dcontour": [
           {
            "colorbar": {
             "outlinewidth": 0,
             "ticks": ""
            },
            "colorscale": [
             [
              0,
              "#0d0887"
             ],
             [
              0.1111111111111111,
              "#46039f"
             ],
             [
              0.2222222222222222,
              "#7201a8"
             ],
             [
              0.3333333333333333,
              "#9c179e"
             ],
             [
              0.4444444444444444,
              "#bd3786"
             ],
             [
              0.5555555555555556,
              "#d8576b"
             ],
             [
              0.6666666666666666,
              "#ed7953"
             ],
             [
              0.7777777777777778,
              "#fb9f3a"
             ],
             [
              0.8888888888888888,
              "#fdca26"
             ],
             [
              1,
              "#f0f921"
             ]
            ],
            "type": "histogram2dcontour"
           }
          ],
          "mesh3d": [
           {
            "colorbar": {
             "outlinewidth": 0,
             "ticks": ""
            },
            "type": "mesh3d"
           }
          ],
          "parcoords": [
           {
            "line": {
             "colorbar": {
              "outlinewidth": 0,
              "ticks": ""
             }
            },
            "type": "parcoords"
           }
          ],
          "pie": [
           {
            "automargin": true,
            "type": "pie"
           }
          ],
          "scatter": [
           {
            "marker": {
             "colorbar": {
              "outlinewidth": 0,
              "ticks": ""
             }
            },
            "type": "scatter"
           }
          ],
          "scatter3d": [
           {
            "line": {
             "colorbar": {
              "outlinewidth": 0,
              "ticks": ""
             }
            },
            "marker": {
             "colorbar": {
              "outlinewidth": 0,
              "ticks": ""
             }
            },
            "type": "scatter3d"
           }
          ],
          "scattercarpet": [
           {
            "marker": {
             "colorbar": {
              "outlinewidth": 0,
              "ticks": ""
             }
            },
            "type": "scattercarpet"
           }
          ],
          "scattergeo": [
           {
            "marker": {
             "colorbar": {
              "outlinewidth": 0,
              "ticks": ""
             }
            },
            "type": "scattergeo"
           }
          ],
          "scattergl": [
           {
            "marker": {
             "colorbar": {
              "outlinewidth": 0,
              "ticks": ""
             }
            },
            "type": "scattergl"
           }
          ],
          "scattermapbox": [
           {
            "marker": {
             "colorbar": {
              "outlinewidth": 0,
              "ticks": ""
             }
            },
            "type": "scattermapbox"
           }
          ],
          "scatterpolar": [
           {
            "marker": {
             "colorbar": {
              "outlinewidth": 0,
              "ticks": ""
             }
            },
            "type": "scatterpolar"
           }
          ],
          "scatterpolargl": [
           {
            "marker": {
             "colorbar": {
              "outlinewidth": 0,
              "ticks": ""
             }
            },
            "type": "scatterpolargl"
           }
          ],
          "scatterternary": [
           {
            "marker": {
             "colorbar": {
              "outlinewidth": 0,
              "ticks": ""
             }
            },
            "type": "scatterternary"
           }
          ],
          "surface": [
           {
            "colorbar": {
             "outlinewidth": 0,
             "ticks": ""
            },
            "colorscale": [
             [
              0,
              "#0d0887"
             ],
             [
              0.1111111111111111,
              "#46039f"
             ],
             [
              0.2222222222222222,
              "#7201a8"
             ],
             [
              0.3333333333333333,
              "#9c179e"
             ],
             [
              0.4444444444444444,
              "#bd3786"
             ],
             [
              0.5555555555555556,
              "#d8576b"
             ],
             [
              0.6666666666666666,
              "#ed7953"
             ],
             [
              0.7777777777777778,
              "#fb9f3a"
             ],
             [
              0.8888888888888888,
              "#fdca26"
             ],
             [
              1,
              "#f0f921"
             ]
            ],
            "type": "surface"
           }
          ],
          "table": [
           {
            "cells": {
             "fill": {
              "color": "#EBF0F8"
             },
             "line": {
              "color": "white"
             }
            },
            "header": {
             "fill": {
              "color": "#C8D4E3"
             },
             "line": {
              "color": "white"
             }
            },
            "type": "table"
           }
          ]
         },
         "layout": {
          "annotationdefaults": {
           "arrowcolor": "#2a3f5f",
           "arrowhead": 0,
           "arrowwidth": 1
          },
          "coloraxis": {
           "colorbar": {
            "outlinewidth": 0,
            "ticks": ""
           }
          },
          "colorscale": {
           "diverging": [
            [
             0,
             "#8e0152"
            ],
            [
             0.1,
             "#c51b7d"
            ],
            [
             0.2,
             "#de77ae"
            ],
            [
             0.3,
             "#f1b6da"
            ],
            [
             0.4,
             "#fde0ef"
            ],
            [
             0.5,
             "#f7f7f7"
            ],
            [
             0.6,
             "#e6f5d0"
            ],
            [
             0.7,
             "#b8e186"
            ],
            [
             0.8,
             "#7fbc41"
            ],
            [
             0.9,
             "#4d9221"
            ],
            [
             1,
             "#276419"
            ]
           ],
           "sequential": [
            [
             0,
             "#0d0887"
            ],
            [
             0.1111111111111111,
             "#46039f"
            ],
            [
             0.2222222222222222,
             "#7201a8"
            ],
            [
             0.3333333333333333,
             "#9c179e"
            ],
            [
             0.4444444444444444,
             "#bd3786"
            ],
            [
             0.5555555555555556,
             "#d8576b"
            ],
            [
             0.6666666666666666,
             "#ed7953"
            ],
            [
             0.7777777777777778,
             "#fb9f3a"
            ],
            [
             0.8888888888888888,
             "#fdca26"
            ],
            [
             1,
             "#f0f921"
            ]
           ],
           "sequentialminus": [
            [
             0,
             "#0d0887"
            ],
            [
             0.1111111111111111,
             "#46039f"
            ],
            [
             0.2222222222222222,
             "#7201a8"
            ],
            [
             0.3333333333333333,
             "#9c179e"
            ],
            [
             0.4444444444444444,
             "#bd3786"
            ],
            [
             0.5555555555555556,
             "#d8576b"
            ],
            [
             0.6666666666666666,
             "#ed7953"
            ],
            [
             0.7777777777777778,
             "#fb9f3a"
            ],
            [
             0.8888888888888888,
             "#fdca26"
            ],
            [
             1,
             "#f0f921"
            ]
           ]
          },
          "colorway": [
           "#636efa",
           "#EF553B",
           "#00cc96",
           "#ab63fa",
           "#FFA15A",
           "#19d3f3",
           "#FF6692",
           "#B6E880",
           "#FF97FF",
           "#FECB52"
          ],
          "font": {
           "color": "#2a3f5f"
          },
          "geo": {
           "bgcolor": "white",
           "lakecolor": "white",
           "landcolor": "#E5ECF6",
           "showlakes": true,
           "showland": true,
           "subunitcolor": "white"
          },
          "hoverlabel": {
           "align": "left"
          },
          "hovermode": "closest",
          "mapbox": {
           "style": "light"
          },
          "paper_bgcolor": "white",
          "plot_bgcolor": "#E5ECF6",
          "polar": {
           "angularaxis": {
            "gridcolor": "white",
            "linecolor": "white",
            "ticks": ""
           },
           "bgcolor": "#E5ECF6",
           "radialaxis": {
            "gridcolor": "white",
            "linecolor": "white",
            "ticks": ""
           }
          },
          "scene": {
           "xaxis": {
            "backgroundcolor": "#E5ECF6",
            "gridcolor": "white",
            "gridwidth": 2,
            "linecolor": "white",
            "showbackground": true,
            "ticks": "",
            "zerolinecolor": "white"
           },
           "yaxis": {
            "backgroundcolor": "#E5ECF6",
            "gridcolor": "white",
            "gridwidth": 2,
            "linecolor": "white",
            "showbackground": true,
            "ticks": "",
            "zerolinecolor": "white"
           },
           "zaxis": {
            "backgroundcolor": "#E5ECF6",
            "gridcolor": "white",
            "gridwidth": 2,
            "linecolor": "white",
            "showbackground": true,
            "ticks": "",
            "zerolinecolor": "white"
           }
          },
          "shapedefaults": {
           "line": {
            "color": "#2a3f5f"
           }
          },
          "ternary": {
           "aaxis": {
            "gridcolor": "white",
            "linecolor": "white",
            "ticks": ""
           },
           "baxis": {
            "gridcolor": "white",
            "linecolor": "white",
            "ticks": ""
           },
           "bgcolor": "#E5ECF6",
           "caxis": {
            "gridcolor": "white",
            "linecolor": "white",
            "ticks": ""
           }
          },
          "title": {
           "x": 0.05
          },
          "xaxis": {
           "automargin": true,
           "gridcolor": "white",
           "linecolor": "white",
           "ticks": "",
           "title": {
            "standoff": 15
           },
           "zerolinecolor": "white",
           "zerolinewidth": 2
          },
          "yaxis": {
           "automargin": true,
           "gridcolor": "white",
           "linecolor": "white",
           "ticks": "",
           "title": {
            "standoff": 15
           },
           "zerolinecolor": "white",
           "zerolinewidth": 2
          }
         }
        }
       }
      },
      "text/html": [
       "<div>\n",
       "        \n",
       "        \n",
       "            <div id=\"4f7bcbb1-5872-46dc-b629-40c936011c5e\" class=\"plotly-graph-div\" style=\"height:525px; width:100%;\"></div>\n",
       "            <script type=\"text/javascript\">\n",
       "                require([\"plotly\"], function(Plotly) {\n",
       "                    window.PLOTLYENV=window.PLOTLYENV || {};\n",
       "                    \n",
       "                if (document.getElementById(\"4f7bcbb1-5872-46dc-b629-40c936011c5e\")) {\n",
       "                    Plotly.newPlot(\n",
       "                        '4f7bcbb1-5872-46dc-b629-40c936011c5e',\n",
       "                        [{\"name\": \"California\", \"type\": \"box\", \"y\": [190.0, 190.0, 201.0, 193.0, 201.0, 188.0, 193.0, 178.0, 188.0, 198.0, 196.0, 188.0, 196.0, 198.0, 198.0, 196.0, 196.0, 196.0, 206.0, 208.0, 193.0, 196.0, 208.0, 198.0, 196.0, 203.0, 185.0, 206.0, 203.0, 206.0, 185.0, 201.0, 198.0, 196.0, 208.0, 208.0, 190.0, 206.0, 206.0, 203.0, 188.0, 208.0, 203.0, 198.0, 198.0, 193.0, 190.0, 196.0, 206.0, 193.0, 211.0, 198.0, 211.0, 208.0, 206.0, 198.0, 213.0, 208.0, 190.0, 203.0, 206.0, 208.0, 211.0, 206.0, 193.0, 203.0, 193.0, 196.0, 201.0, 188.0, 201.0, 208.0, 180.0, 198.0, 196.0, 201.0, 198.0, 198.0, 201.0, 190.0, 193.0, 216.0, 208.0, 201.0, 193.0, 206.0, 188.0, 206.0, 206.0, 193.0, 190.0, 218.0, 198.0, 198.0, 185.0, 213.0, 206.0, 198.0, 203.0, 203.0, 206.0, 208.0, 224.0, 201.0, 203.0, 211.0, 196.0, 206.0, 190.0, 190.0, 188.0, 211.0, 201.0, 203.0, 211.0, 203.0, 201.0, 208.0, 216.0, 201.0, 201.0, 196.0, 208.0, 211.0, 211.0, 201.0, 201.0, 206.0, 180.0, 203.0, 180.0, 211.0, 203.0, 201.0, 190.0, 198.0, 208.0, 211.0, 206.0, 190.0, 198.0, 193.0, 201.0, 193.0, 193.0, 206.0, 203.0, 198.0, 211.0, 206.0, 211.0, 206.0, 206.0, 193.0, 208.0, 201.0, 203.0, 208.0, 206.0, 196.0, 201.0, 203.0, 188.0, 193.0, 193.0, 206.0, 208.0, 196.0, 201.0, 208.0, 198.0, 206.0, 206.0, 190.0, 196.0, 211.0, 201.0, 193.0, 198.0, 196.0, 198.0, 201.0, 190.0, 193.0, 201.0, 178.0, 203.0, 201.0, 208.0, 201.0, 206.0, 201.0, 196.0, 206.0, 206.0, 206.0, 190.0, 196.0, 196.0, 185.0, 198.0, 198.0, 188.0, 188.0, 208.0, 206.0, 201.0, 190.0, 193.0, 190.0, 190.0, 213.0, 190.0, 185.0, 193.0, 206.0, 213.0, 190.0, 198.0, 208.0, 190.0, 196.0, 188.0, 193.0, 203.0, 201.0, 206.0, 193.0, 203.0, 208.0, 201.0, 198.0, 203.0, 193.0, 206.0, 211.0, 193.0, 208.0, 203.0, 203.0, 201.0, 201.0, 203.0, 203.0, 198.0, 208.0, 196.0, 206.0, 198.0, 201.0, 201.0, 201.0, 211.0, 193.0, 206.0, 198.0, 188.0, 213.0, 208.0, 203.0, 201.0, 196.0, 190.0, 201.0, 213.0, 206.0, 193.0, 211.0, 201.0, 208.0, 213.0, 213.0, 208.0, 193.0, 190.0, 201.0, 183.0, 211.0, 201.0, 206.0, 196.0, 193.0, 208.0, 201.0, 206.0, 180.0, 190.0, 201.0, 196.0, 203.0, 196.0, 201.0, 193.0, 201.0, 180.0, 193.0, 206.0, 198.0, 196.0, 190.0, 193.0, 213.0, 198.0, 213.0, 201.0, 196.0, 213.0, 201.0, 198.0, 201.0, 201.0, 203.0, 178.0, 213.0, 193.0, 183.0, 196.0, 198.0, 201.0, 206.0, 206.0, 193.0, 208.0, 211.0, 208.0, 208.0, 198.0, 193.0, 208.0, 211.0, 196.0, 193.0, 208.0, 188.0, 193.0, 193.0, 190.0]}, {\"name\": \"New York\", \"type\": \"box\", \"y\": [208.0, 196.0, 190.0, 188.0, 178.0, 178.0, 190.0, 188.0, 188.0, 185.0, 190.0, 183.0, 183.0, 203.0, 203.0, 183.0, 183.0, 188.0, 185.0, 188.0, 185.0, 183.0, 201.0, 183.0, 211.0, 188.0, 198.0, 185.0, 196.0, 213.0, 193.0, 196.0, 190.0, 188.0, 193.0, 190.0, 188.0, 193.0, 198.0, 206.0, 180.0, 201.0, 198.0, 185.0, 188.0, 193.0, 203.0, 208.0, 190.0, 188.0, 196.0, 193.0, 193.0, 198.0, 193.0, 185.0, 193.0, 201.0, 193.0, 206.0, 203.0, 213.0, 193.0, 218.0, 190.0, 203.0, 185.0, 211.0, 188.0, 196.0, 190.0, 188.0, 185.0, 196.0, 190.0, 201.0, 193.0, 208.0, 206.0, 198.0, 188.0, 190.0, 183.0, 190.0, 188.0, 183.0, 193.0, 196.0, 211.0, 190.0, 198.0, 190.0, 188.0, 190.0, 206.0, 201.0, 206.0, 193.0, 206.0, 208.0, 203.0, 193.0, 190.0, 196.0, 193.0, 201.0, 173.0, 201.0, 206.0, 190.0, 198.0, 190.0, 201.0, 188.0, 188.0, 206.0, 190.0, 206.0, 193.0, 190.0, 193.0, 198.0, 196.0, 201.0, 196.0, 188.0, 185.0, 198.0, 208.0, 211.0, 201.0, 203.0, 203.0, 203.0, 185.0, 188.0, 201.0, 206.0, 188.0, 206.0, 188.0, 196.0, 196.0, 190.0, 198.0, 206.0, 198.0, 188.0, 188.0, 201.0, 198.0, 206.0, 203.0, 196.0, 201.0, 203.0, 203.0, 208.0, 198.0, 201.0, 211.0, 190.0, 211.0, 188.0, 206.0, 180.0, 185.0, 213.0, 190.0, 201.0, 206.0, 196.0, 203.0, 201.0, 188.0, 190.0, 208.0, 213.0, 196.0, 208.0, 216.0, 203.0, 188.0, 183.0, 208.0, 208.0, 201.0, 208.0, 211.0, 208.0, 203.0, 211.0, 188.0, 188.0, 180.0, 203.0, 211.0, 183.0, 211.0, 193.0, 190.0, 185.0, 198.0, 190.0, 188.0, 190.0, 208.0, 193.0, 203.0, 193.0, 183.0, 203.0, 213.0, 185.0, 188.0, 203.0, 208.0, 198.0, 185.0, 213.0, 211.0, 185.0, 206.0, 208.0, 213.0, 180.0, 213.0, 188.0, 196.0, 188.0, 206.0, 190.0, 193.0, 203.0, 213.0, 185.0, 178.0, 183.0, 190.0, 198.0, 196.0, 203.0, 211.0, 201.0, 208.0, 211.0, 211.0, 203.0, 190.0, 203.0, 188.0, 185.0, 185.0, 211.0, 218.0, 213.0, 185.0, 188.0, 183.0, 185.0, 206.0, 206.0, 198.0, 193.0, 196.0, 213.0, 188.0, 190.0, 203.0, 198.0, 211.0, 206.0, 203.0, 193.0, 185.0, 211.0, 208.0, 211.0, 203.0, 206.0, 203.0, 193.0, 183.0, 211.0, 213.0, 193.0]}, {\"name\": \"Illinois\", \"type\": \"box\", \"y\": [183.0, 190.0, 198.0, 198.0, 190.0, 208.0, 183.0, 185.0, 206.0, 196.0, 188.0, 190.0, 183.0, 201.0, 201.0, 203.0, 196.0, 185.0, 198.0, 206.0, 190.0, 193.0, 193.0, 196.0, 206.0, 190.0, 175.0, 190.0, 201.0, 185.0, 196.0, 203.0, 185.0, 196.0, 203.0, 196.0, 201.0, 198.0, 211.0, 183.0, 206.0, 198.0, 193.0, 203.0, 208.0, 198.0, 196.0, 190.0, 188.0, 201.0, 190.0, 203.0, 201.0, 211.0, 206.0, 208.0, 198.0, 183.0, 201.0, 183.0, 211.0, 185.0, 211.0, 183.0, 198.0, 190.0, 208.0, 198.0, 208.0, 185.0, 213.0, 211.0, 198.0, 208.0, 185.0, 185.0, 206.0, 208.0, 188.0, 208.0, 208.0, 193.0, 193.0, 201.0, 198.0, 198.0, 208.0, 203.0, 190.0, 213.0, 190.0, 196.0, 206.0, 203.0, 190.0, 180.0, 188.0, 211.0, 188.0, 198.0, 198.0, 183.0, 203.0, 196.0, 216.0, 203.0, 208.0, 190.0, 196.0, 203.0, 193.0, 198.0, 196.0, 206.0, 196.0, 198.0, 203.0, 201.0, 203.0, 208.0, 208.0, 193.0, 206.0, 183.0, 198.0, 206.0, 203.0, 196.0, 201.0, 218.0, 180.0, 196.0, 203.0, 224.0, 211.0, 178.0, 188.0, 206.0, 185.0, 198.0, 211.0, 201.0, 208.0, 198.0, 196.0, 198.0, 201.0, 203.0, 211.0, 193.0, 198.0, 213.0, 180.0, 201.0, 208.0, 201.0, 185.0, 206.0, 203.0, 193.0, 193.0, 185.0, 198.0, 198.0, 183.0, 190.0, 206.0, 201.0, 206.0, 203.0, 208.0, 206.0, 193.0, 203.0, 201.0, 208.0, 198.0, 208.0, 203.0, 190.0, 188.0, 196.0, 180.0, 203.0, 201.0, 180.0, 198.0, 188.0, 196.0, 185.0, 185.0, 206.0, 206.0, 206.0, 190.0, 203.0, 203.0, 206.0, 208.0, 213.0, 211.0, 188.0, 183.0]}, {\"name\": \"Pennsylvania\", \"type\": \"box\", \"y\": [183.0, 185.0, 185.0, 180.0, 178.0, 196.0, 188.0, 193.0, 193.0, 203.0, 193.0, 180.0, 188.0, 193.0, 188.0, 193.0, 188.0, 196.0, 188.0, 196.0, 196.0, 198.0, 201.0, 201.0, 198.0, 183.0, 183.0, 216.0, 196.0, 180.0, 185.0, 206.0, 190.0, 203.0, 203.0, 173.0, 198.0, 188.0, 201.0, 185.0, 190.0, 190.0, 196.0, 190.0, 216.0, 206.0, 196.0, 206.0, 193.0, 201.0, 188.0, 188.0, 198.0, 206.0, 193.0, 190.0, 213.0, 206.0, 201.0, 201.0, 206.0, 201.0, 193.0, 203.0, 188.0, 190.0, 198.0, 206.0, 190.0, 198.0, 185.0, 201.0, 190.0, 198.0, 190.0, 180.0, 196.0, 198.0, 201.0, 206.0, 201.0, 185.0, 201.0, 193.0, 203.0, 198.0, 188.0, 216.0, 206.0, 216.0, 211.0, 203.0, 208.0, 196.0, 193.0, 206.0, 188.0, 206.0, 198.0, 180.0, 208.0, 188.0, 185.0, 198.0, 193.0, 201.0, 190.0, 198.0, 178.0, 203.0, 203.0, 190.0, 178.0, 190.0, 196.0, 206.0, 196.0, 193.0, 206.0, 196.0, 208.0, 193.0, 201.0, 201.0, 211.0, 213.0, 198.0, 193.0, 198.0, 206.0, 198.0, 183.0, 208.0, 206.0, 208.0, 201.0, 193.0, 201.0, 198.0, 183.0, 198.0, 206.0, 198.0, 188.0, 183.0, 198.0, 206.0, 183.0, 201.0, 193.0, 198.0, 190.0, 206.0, 201.0, 193.0, 188.0, 196.0, 208.0, 198.0, 201.0, 203.0, 196.0]}, {\"name\": \"Ohio\", \"type\": \"box\", \"y\": [193.0, 188.0, 201.0, 193.0, 208.0, 201.0, 196.0, 185.0, 206.0, 196.0, 203.0, 201.0, 198.0, 196.0, 203.0, 196.0, 178.0, 196.0, 198.0, 203.0, 190.0, 211.0, 203.0, 188.0, 185.0, 198.0, 203.0, 196.0, 185.0, 203.0, 213.0, 208.0, 196.0, 203.0, 193.0, 201.0, 208.0, 203.0, 196.0, 201.0, 198.0, 213.0, 183.0, 201.0, 196.0, 190.0, 185.0, 201.0, 208.0, 201.0, 201.0, 198.0, 203.0, 193.0, 203.0, 208.0, 196.0, 201.0, 201.0, 203.0, 185.0, 193.0, 206.0, 208.0, 206.0, 190.0, 201.0, 208.0, 188.0, 211.0, 190.0, 203.0, 198.0, 213.0, 198.0, 196.0, 206.0, 218.0, 203.0, 190.0, 190.0, 198.0, 201.0, 198.0, 206.0, 218.0, 193.0, 190.0, 198.0, 193.0, 203.0, 213.0, 206.0, 201.0, 190.0, 206.0, 203.0, 206.0, 183.0, 196.0, 206.0, 193.0, 206.0, 185.0, 165.0, 201.0, 196.0, 211.0, 211.0, 211.0, 203.0, 198.0, 201.0, 201.0, 188.0, 203.0, 213.0, 201.0, 188.0, 203.0, 193.0, 213.0, 190.0, 213.0, 206.0, 188.0, 203.0, 185.0, 206.0, 185.0, 180.0, 201.0, 208.0, 188.0, 190.0, 201.0]}],\n",
       "                        {\"template\": {\"data\": {\"bar\": [{\"error_x\": {\"color\": \"#2a3f5f\"}, \"error_y\": {\"color\": \"#2a3f5f\"}, \"marker\": {\"line\": {\"color\": \"#E5ECF6\", \"width\": 0.5}}, \"type\": \"bar\"}], \"barpolar\": [{\"marker\": {\"line\": {\"color\": \"#E5ECF6\", \"width\": 0.5}}, \"type\": \"barpolar\"}], \"carpet\": [{\"aaxis\": {\"endlinecolor\": \"#2a3f5f\", \"gridcolor\": \"white\", \"linecolor\": \"white\", \"minorgridcolor\": \"white\", \"startlinecolor\": \"#2a3f5f\"}, \"baxis\": {\"endlinecolor\": \"#2a3f5f\", \"gridcolor\": \"white\", \"linecolor\": \"white\", \"minorgridcolor\": \"white\", \"startlinecolor\": \"#2a3f5f\"}, \"type\": \"carpet\"}], \"choropleth\": [{\"colorbar\": {\"outlinewidth\": 0, \"ticks\": \"\"}, \"type\": \"choropleth\"}], \"contour\": [{\"colorbar\": {\"outlinewidth\": 0, \"ticks\": \"\"}, \"colorscale\": [[0.0, \"#0d0887\"], [0.1111111111111111, \"#46039f\"], [0.2222222222222222, \"#7201a8\"], [0.3333333333333333, \"#9c179e\"], [0.4444444444444444, \"#bd3786\"], [0.5555555555555556, \"#d8576b\"], [0.6666666666666666, \"#ed7953\"], [0.7777777777777778, \"#fb9f3a\"], [0.8888888888888888, \"#fdca26\"], [1.0, \"#f0f921\"]], \"type\": \"contour\"}], \"contourcarpet\": [{\"colorbar\": {\"outlinewidth\": 0, \"ticks\": \"\"}, \"type\": \"contourcarpet\"}], \"heatmap\": [{\"colorbar\": {\"outlinewidth\": 0, \"ticks\": \"\"}, \"colorscale\": [[0.0, \"#0d0887\"], [0.1111111111111111, \"#46039f\"], [0.2222222222222222, \"#7201a8\"], [0.3333333333333333, \"#9c179e\"], [0.4444444444444444, \"#bd3786\"], [0.5555555555555556, \"#d8576b\"], [0.6666666666666666, \"#ed7953\"], [0.7777777777777778, \"#fb9f3a\"], [0.8888888888888888, \"#fdca26\"], [1.0, \"#f0f921\"]], \"type\": \"heatmap\"}], \"heatmapgl\": [{\"colorbar\": {\"outlinewidth\": 0, \"ticks\": \"\"}, \"colorscale\": [[0.0, \"#0d0887\"], [0.1111111111111111, \"#46039f\"], [0.2222222222222222, \"#7201a8\"], [0.3333333333333333, \"#9c179e\"], [0.4444444444444444, \"#bd3786\"], [0.5555555555555556, \"#d8576b\"], [0.6666666666666666, \"#ed7953\"], [0.7777777777777778, \"#fb9f3a\"], [0.8888888888888888, \"#fdca26\"], [1.0, \"#f0f921\"]], \"type\": \"heatmapgl\"}], \"histogram\": [{\"marker\": {\"colorbar\": {\"outlinewidth\": 0, \"ticks\": \"\"}}, \"type\": \"histogram\"}], \"histogram2d\": [{\"colorbar\": {\"outlinewidth\": 0, \"ticks\": \"\"}, \"colorscale\": [[0.0, \"#0d0887\"], [0.1111111111111111, \"#46039f\"], [0.2222222222222222, \"#7201a8\"], [0.3333333333333333, \"#9c179e\"], [0.4444444444444444, \"#bd3786\"], [0.5555555555555556, \"#d8576b\"], [0.6666666666666666, \"#ed7953\"], [0.7777777777777778, \"#fb9f3a\"], [0.8888888888888888, \"#fdca26\"], [1.0, \"#f0f921\"]], \"type\": \"histogram2d\"}], \"histogram2dcontour\": [{\"colorbar\": {\"outlinewidth\": 0, \"ticks\": \"\"}, \"colorscale\": [[0.0, \"#0d0887\"], [0.1111111111111111, \"#46039f\"], [0.2222222222222222, \"#7201a8\"], [0.3333333333333333, \"#9c179e\"], [0.4444444444444444, \"#bd3786\"], [0.5555555555555556, \"#d8576b\"], [0.6666666666666666, \"#ed7953\"], [0.7777777777777778, \"#fb9f3a\"], [0.8888888888888888, \"#fdca26\"], [1.0, \"#f0f921\"]], \"type\": \"histogram2dcontour\"}], \"mesh3d\": [{\"colorbar\": {\"outlinewidth\": 0, \"ticks\": \"\"}, \"type\": \"mesh3d\"}], \"parcoords\": [{\"line\": {\"colorbar\": {\"outlinewidth\": 0, \"ticks\": \"\"}}, \"type\": \"parcoords\"}], \"pie\": [{\"automargin\": true, \"type\": \"pie\"}], \"scatter\": [{\"marker\": {\"colorbar\": {\"outlinewidth\": 0, \"ticks\": \"\"}}, \"type\": \"scatter\"}], \"scatter3d\": [{\"line\": {\"colorbar\": {\"outlinewidth\": 0, \"ticks\": \"\"}}, \"marker\": {\"colorbar\": {\"outlinewidth\": 0, \"ticks\": \"\"}}, \"type\": \"scatter3d\"}], \"scattercarpet\": [{\"marker\": {\"colorbar\": {\"outlinewidth\": 0, \"ticks\": \"\"}}, \"type\": \"scattercarpet\"}], \"scattergeo\": [{\"marker\": {\"colorbar\": {\"outlinewidth\": 0, \"ticks\": \"\"}}, \"type\": \"scattergeo\"}], \"scattergl\": [{\"marker\": {\"colorbar\": {\"outlinewidth\": 0, \"ticks\": \"\"}}, \"type\": \"scattergl\"}], \"scattermapbox\": [{\"marker\": {\"colorbar\": {\"outlinewidth\": 0, \"ticks\": \"\"}}, \"type\": \"scattermapbox\"}], \"scatterpolar\": [{\"marker\": {\"colorbar\": {\"outlinewidth\": 0, \"ticks\": \"\"}}, \"type\": \"scatterpolar\"}], \"scatterpolargl\": [{\"marker\": {\"colorbar\": {\"outlinewidth\": 0, \"ticks\": \"\"}}, \"type\": \"scatterpolargl\"}], \"scatterternary\": [{\"marker\": {\"colorbar\": {\"outlinewidth\": 0, \"ticks\": \"\"}}, \"type\": \"scatterternary\"}], \"surface\": [{\"colorbar\": {\"outlinewidth\": 0, \"ticks\": \"\"}, \"colorscale\": [[0.0, \"#0d0887\"], [0.1111111111111111, \"#46039f\"], [0.2222222222222222, \"#7201a8\"], [0.3333333333333333, \"#9c179e\"], [0.4444444444444444, \"#bd3786\"], [0.5555555555555556, \"#d8576b\"], [0.6666666666666666, \"#ed7953\"], [0.7777777777777778, \"#fb9f3a\"], [0.8888888888888888, \"#fdca26\"], [1.0, \"#f0f921\"]], \"type\": \"surface\"}], \"table\": [{\"cells\": {\"fill\": {\"color\": \"#EBF0F8\"}, \"line\": {\"color\": \"white\"}}, \"header\": {\"fill\": {\"color\": \"#C8D4E3\"}, \"line\": {\"color\": \"white\"}}, \"type\": \"table\"}]}, \"layout\": {\"annotationdefaults\": {\"arrowcolor\": \"#2a3f5f\", \"arrowhead\": 0, \"arrowwidth\": 1}, \"coloraxis\": {\"colorbar\": {\"outlinewidth\": 0, \"ticks\": \"\"}}, \"colorscale\": {\"diverging\": [[0, \"#8e0152\"], [0.1, \"#c51b7d\"], [0.2, \"#de77ae\"], [0.3, \"#f1b6da\"], [0.4, \"#fde0ef\"], [0.5, \"#f7f7f7\"], [0.6, \"#e6f5d0\"], [0.7, \"#b8e186\"], [0.8, \"#7fbc41\"], [0.9, \"#4d9221\"], [1, \"#276419\"]], \"sequential\": [[0.0, \"#0d0887\"], [0.1111111111111111, \"#46039f\"], [0.2222222222222222, \"#7201a8\"], [0.3333333333333333, \"#9c179e\"], [0.4444444444444444, \"#bd3786\"], [0.5555555555555556, \"#d8576b\"], [0.6666666666666666, \"#ed7953\"], [0.7777777777777778, \"#fb9f3a\"], [0.8888888888888888, \"#fdca26\"], [1.0, \"#f0f921\"]], \"sequentialminus\": [[0.0, \"#0d0887\"], [0.1111111111111111, \"#46039f\"], [0.2222222222222222, \"#7201a8\"], [0.3333333333333333, \"#9c179e\"], [0.4444444444444444, \"#bd3786\"], [0.5555555555555556, \"#d8576b\"], [0.6666666666666666, \"#ed7953\"], [0.7777777777777778, \"#fb9f3a\"], [0.8888888888888888, \"#fdca26\"], [1.0, \"#f0f921\"]]}, \"colorway\": [\"#636efa\", \"#EF553B\", \"#00cc96\", \"#ab63fa\", \"#FFA15A\", \"#19d3f3\", \"#FF6692\", \"#B6E880\", \"#FF97FF\", \"#FECB52\"], \"font\": {\"color\": \"#2a3f5f\"}, \"geo\": {\"bgcolor\": \"white\", \"lakecolor\": \"white\", \"landcolor\": \"#E5ECF6\", \"showlakes\": true, \"showland\": true, \"subunitcolor\": \"white\"}, \"hoverlabel\": {\"align\": \"left\"}, \"hovermode\": \"closest\", \"mapbox\": {\"style\": \"light\"}, \"paper_bgcolor\": \"white\", \"plot_bgcolor\": \"#E5ECF6\", \"polar\": {\"angularaxis\": {\"gridcolor\": \"white\", \"linecolor\": \"white\", \"ticks\": \"\"}, \"bgcolor\": \"#E5ECF6\", \"radialaxis\": {\"gridcolor\": \"white\", \"linecolor\": \"white\", \"ticks\": \"\"}}, \"scene\": {\"xaxis\": {\"backgroundcolor\": \"#E5ECF6\", \"gridcolor\": \"white\", \"gridwidth\": 2, \"linecolor\": \"white\", \"showbackground\": true, \"ticks\": \"\", \"zerolinecolor\": \"white\"}, \"yaxis\": {\"backgroundcolor\": \"#E5ECF6\", \"gridcolor\": \"white\", \"gridwidth\": 2, \"linecolor\": \"white\", \"showbackground\": true, \"ticks\": \"\", \"zerolinecolor\": \"white\"}, \"zaxis\": {\"backgroundcolor\": \"#E5ECF6\", \"gridcolor\": \"white\", \"gridwidth\": 2, \"linecolor\": \"white\", \"showbackground\": true, \"ticks\": \"\", \"zerolinecolor\": \"white\"}}, \"shapedefaults\": {\"line\": {\"color\": \"#2a3f5f\"}}, \"ternary\": {\"aaxis\": {\"gridcolor\": \"white\", \"linecolor\": \"white\", \"ticks\": \"\"}, \"baxis\": {\"gridcolor\": \"white\", \"linecolor\": \"white\", \"ticks\": \"\"}, \"bgcolor\": \"#E5ECF6\", \"caxis\": {\"gridcolor\": \"white\", \"linecolor\": \"white\", \"ticks\": \"\"}}, \"title\": {\"x\": 0.05}, \"xaxis\": {\"automargin\": true, \"gridcolor\": \"white\", \"linecolor\": \"white\", \"ticks\": \"\", \"title\": {\"standoff\": 15}, \"zerolinecolor\": \"white\", \"zerolinewidth\": 2}, \"yaxis\": {\"automargin\": true, \"gridcolor\": \"white\", \"linecolor\": \"white\", \"ticks\": \"\", \"title\": {\"standoff\": 15}, \"zerolinecolor\": \"white\", \"zerolinewidth\": 2}}}},\n",
       "                        {\"responsive\": true}\n",
       "                    ).then(function(){\n",
       "                            \n",
       "var gd = document.getElementById('4f7bcbb1-5872-46dc-b629-40c936011c5e');\n",
       "var x = new MutationObserver(function (mutations, observer) {{\n",
       "        var display = window.getComputedStyle(gd).display;\n",
       "        if (!display || display === 'none') {{\n",
       "            console.log([gd, 'removed!']);\n",
       "            Plotly.purge(gd);\n",
       "            observer.disconnect();\n",
       "        }}\n",
       "}});\n",
       "\n",
       "// Listen for the removal of the full notebook cells\n",
       "var notebookContainer = gd.closest('#notebook-container');\n",
       "if (notebookContainer) {{\n",
       "    x.observe(notebookContainer, {childList: true});\n",
       "}}\n",
       "\n",
       "// Listen for the clearing of the current output cell\n",
       "var outputEl = gd.closest('.output');\n",
       "if (outputEl) {{\n",
       "    x.observe(outputEl, {childList: true});\n",
       "}}\n",
       "\n",
       "                        })\n",
       "                };\n",
       "                });\n",
       "            </script>\n",
       "        </div>"
      ]
     },
     "metadata": {},
     "output_type": "display_data"
    }
   ],
   "source": [
    "data = []\n",
    "for state in top_birth_state:\n",
    "    data.append(\n",
    "        go.Box(y=df[df.birth_state==state].height, \n",
    "               name=state)\n",
    "    )\n",
    "iplot(data, show_link = False)"
   ]
  },
  {
   "cell_type": "code",
   "execution_count": null,
   "metadata": {},
   "outputs": [],
   "source": []
  }
 ],
 "metadata": {
  "kernelspec": {
   "display_name": "Python 3",
   "language": "python",
   "name": "python3"
  },
  "language_info": {
   "codemirror_mode": {
    "name": "ipython",
    "version": 3
   },
   "file_extension": ".py",
   "mimetype": "text/x-python",
   "name": "python",
   "nbconvert_exporter": "python",
   "pygments_lexer": "ipython3",
   "version": "3.7.6"
  }
 },
 "nbformat": 4,
 "nbformat_minor": 4
}
