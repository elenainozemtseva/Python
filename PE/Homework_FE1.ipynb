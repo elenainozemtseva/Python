{
 "cells": [
  {
   "cell_type": "code",
   "execution_count": 2,
   "metadata": {},
   "outputs": [],
   "source": [
    "import numpy as np\n",
    "import pandas as pd\n",
    "import seaborn as sns\n",
    "\n",
    "from sklearn.linear_model import LinearRegression"
   ]
  },
  {
   "cell_type": "code",
   "execution_count": 3,
   "metadata": {},
   "outputs": [
    {
     "data": {
      "text/html": [
       "<div>\n",
       "<style scoped>\n",
       "    .dataframe tbody tr th:only-of-type {\n",
       "        vertical-align: middle;\n",
       "    }\n",
       "\n",
       "    .dataframe tbody tr th {\n",
       "        vertical-align: top;\n",
       "    }\n",
       "\n",
       "    .dataframe thead th {\n",
       "        text-align: right;\n",
       "    }\n",
       "</style>\n",
       "<table border=\"1\" class=\"dataframe\">\n",
       "  <thead>\n",
       "    <tr style=\"text-align: right;\">\n",
       "      <th></th>\n",
       "      <th>age_owner</th>\n",
       "      <th>length</th>\n",
       "      <th>width</th>\n",
       "      <th>price</th>\n",
       "    </tr>\n",
       "  </thead>\n",
       "  <tbody>\n",
       "    <tr>\n",
       "      <th>0</th>\n",
       "      <td>62</td>\n",
       "      <td>128</td>\n",
       "      <td>68</td>\n",
       "      <td>870400</td>\n",
       "    </tr>\n",
       "    <tr>\n",
       "      <th>1</th>\n",
       "      <td>65</td>\n",
       "      <td>41</td>\n",
       "      <td>30</td>\n",
       "      <td>123000</td>\n",
       "    </tr>\n",
       "    <tr>\n",
       "      <th>2</th>\n",
       "      <td>89</td>\n",
       "      <td>82</td>\n",
       "      <td>67</td>\n",
       "      <td>549400</td>\n",
       "    </tr>\n",
       "    <tr>\n",
       "      <th>3</th>\n",
       "      <td>72</td>\n",
       "      <td>40</td>\n",
       "      <td>60</td>\n",
       "      <td>240000</td>\n",
       "    </tr>\n",
       "    <tr>\n",
       "      <th>4</th>\n",
       "      <td>49</td>\n",
       "      <td>121</td>\n",
       "      <td>45</td>\n",
       "      <td>544500</td>\n",
       "    </tr>\n",
       "  </tbody>\n",
       "</table>\n",
       "</div>"
      ],
      "text/plain": [
       "   age_owner  length  width   price\n",
       "0         62     128     68  870400\n",
       "1         65      41     30  123000\n",
       "2         89      82     67  549400\n",
       "3         72      40     60  240000\n",
       "4         49     121     45  544500"
      ]
     },
     "execution_count": 3,
     "metadata": {},
     "output_type": "execute_result"
    }
   ],
   "source": [
    "# Создаём сэмпл\n",
    "n_samples = 500\n",
    "\n",
    "age_owner = np.random.choice(90, n_samples) + 21\n",
    "length = np.random.choice(120, n_samples) + 15\n",
    "width = np.random.choice(80, n_samples) + 10\n",
    "\n",
    "price = length * width * 100\n",
    "\n",
    "data = pd.DataFrame({'age_owner': age_owner, 'length': length, 'width': width, 'price': price})\n",
    "data.head(5)"
   ]
  },
  {
   "cell_type": "code",
   "execution_count": 4,
   "metadata": {},
   "outputs": [
    {
     "name": "stdout",
     "output_type": "stream",
     "text": [
      "Weights: [ -49.80693623 5067.32969807 7390.51172433]\n",
      "Bias: -369766.74743760034\n",
      "Error: 54836.1029896329\n"
     ]
    }
   ],
   "source": [
    "from sklearn.metrics import mean_absolute_error\n",
    "\n",
    "X = data[['age_owner', 'length', 'width']]\n",
    "y = data['price']\n",
    "reg = LinearRegression().fit(X, y)\n",
    "print('Weights: {}'.format(reg.coef_))\n",
    "print('Bias: {}'.format(reg.intercept_))\n",
    "\n",
    "pred_values = reg.predict(data[['age_owner', 'length', 'width']])\n",
    "print('Error: {}'.format(mean_absolute_error(pred_values, y)))"
   ]
  },
  {
   "cell_type": "code",
   "execution_count": 5,
   "metadata": {},
   "outputs": [
    {
     "name": "stdout",
     "output_type": "stream",
     "text": [
      "Weights: [5067.64649917 7394.30972973]\n",
      "Bias: -373206.74817026086\n",
      "Error: 54849.36655323327\n"
     ]
    }
   ],
   "source": [
    "X = data[['length', 'width']]\n",
    "y = data['price']\n",
    "reg = LinearRegression().fit(X, y)\n",
    "print('Weights: {}'.format(reg.coef_))\n",
    "print('Bias: {}'.format(reg.intercept_))\n",
    "\n",
    "pred_values = reg.predict(data[['length', 'width']])\n",
    "print('Error: {}'.format(mean_absolute_error(pred_values, y)))"
   ]
  },
  {
   "cell_type": "code",
   "execution_count": 6,
   "metadata": {},
   "outputs": [
    {
     "data": {
      "text/html": [
       "<div>\n",
       "<style scoped>\n",
       "    .dataframe tbody tr th:only-of-type {\n",
       "        vertical-align: middle;\n",
       "    }\n",
       "\n",
       "    .dataframe tbody tr th {\n",
       "        vertical-align: top;\n",
       "    }\n",
       "\n",
       "    .dataframe thead th {\n",
       "        text-align: right;\n",
       "    }\n",
       "</style>\n",
       "<table border=\"1\" class=\"dataframe\">\n",
       "  <thead>\n",
       "    <tr style=\"text-align: right;\">\n",
       "      <th></th>\n",
       "      <th>age_owner</th>\n",
       "      <th>length</th>\n",
       "      <th>width</th>\n",
       "      <th>price</th>\n",
       "      <th>mult</th>\n",
       "    </tr>\n",
       "  </thead>\n",
       "  <tbody>\n",
       "    <tr>\n",
       "      <th>0</th>\n",
       "      <td>62</td>\n",
       "      <td>128</td>\n",
       "      <td>68</td>\n",
       "      <td>870400</td>\n",
       "      <td>8704</td>\n",
       "    </tr>\n",
       "    <tr>\n",
       "      <th>1</th>\n",
       "      <td>65</td>\n",
       "      <td>41</td>\n",
       "      <td>30</td>\n",
       "      <td>123000</td>\n",
       "      <td>1230</td>\n",
       "    </tr>\n",
       "    <tr>\n",
       "      <th>2</th>\n",
       "      <td>89</td>\n",
       "      <td>82</td>\n",
       "      <td>67</td>\n",
       "      <td>549400</td>\n",
       "      <td>5494</td>\n",
       "    </tr>\n",
       "    <tr>\n",
       "      <th>3</th>\n",
       "      <td>72</td>\n",
       "      <td>40</td>\n",
       "      <td>60</td>\n",
       "      <td>240000</td>\n",
       "      <td>2400</td>\n",
       "    </tr>\n",
       "    <tr>\n",
       "      <th>4</th>\n",
       "      <td>49</td>\n",
       "      <td>121</td>\n",
       "      <td>45</td>\n",
       "      <td>544500</td>\n",
       "      <td>5445</td>\n",
       "    </tr>\n",
       "  </tbody>\n",
       "</table>\n",
       "</div>"
      ],
      "text/plain": [
       "   age_owner  length  width   price  mult\n",
       "0         62     128     68  870400  8704\n",
       "1         65      41     30  123000  1230\n",
       "2         89      82     67  549400  5494\n",
       "3         72      40     60  240000  2400\n",
       "4         49     121     45  544500  5445"
      ]
     },
     "execution_count": 6,
     "metadata": {},
     "output_type": "execute_result"
    }
   ],
   "source": [
    "# Создаем новый признак\n",
    "data['mult'] = data['length'] * data['width']\n",
    "data.head(5)"
   ]
  },
  {
   "cell_type": "code",
   "execution_count": 7,
   "metadata": {},
   "outputs": [
    {
     "name": "stdout",
     "output_type": "stream",
     "text": [
      "Weights: [100.]\n",
      "Bias: 2.3283064365386963e-10\n",
      "Error: 1.2068630894646048e-10\n"
     ]
    }
   ],
   "source": [
    "X = data[['mult']]\n",
    "y = data['price']\n",
    "reg = LinearRegression().fit(X, y)\n",
    "print('Weights: {}'.format(reg.coef_))\n",
    "print('Bias: {}'.format(reg.intercept_))\n",
    "\n",
    "pred_values = reg.predict(data[['mult']])\n",
    "print('Error: {}'.format(mean_absolute_error(pred_values, y)))"
   ]
  },
  {
   "cell_type": "markdown",
   "metadata": {},
   "source": [
    "## Задание\n",
    "## Способ 1"
   ]
  },
  {
   "cell_type": "code",
   "execution_count": 8,
   "metadata": {},
   "outputs": [
    {
     "data": {
      "text/html": [
       "<div>\n",
       "<style scoped>\n",
       "    .dataframe tbody tr th:only-of-type {\n",
       "        vertical-align: middle;\n",
       "    }\n",
       "\n",
       "    .dataframe tbody tr th {\n",
       "        vertical-align: top;\n",
       "    }\n",
       "\n",
       "    .dataframe thead th {\n",
       "        text-align: right;\n",
       "    }\n",
       "</style>\n",
       "<table border=\"1\" class=\"dataframe\">\n",
       "  <thead>\n",
       "    <tr style=\"text-align: right;\">\n",
       "      <th></th>\n",
       "      <th>visits</th>\n",
       "      <th>year_of_birth</th>\n",
       "      <th>birth_number</th>\n",
       "    </tr>\n",
       "  </thead>\n",
       "  <tbody>\n",
       "    <tr>\n",
       "      <th>0</th>\n",
       "      <td>6564</td>\n",
       "      <td>1987</td>\n",
       "      <td>14</td>\n",
       "    </tr>\n",
       "    <tr>\n",
       "      <th>1</th>\n",
       "      <td>3798</td>\n",
       "      <td>1969</td>\n",
       "      <td>29</td>\n",
       "    </tr>\n",
       "    <tr>\n",
       "      <th>2</th>\n",
       "      <td>7973</td>\n",
       "      <td>2017</td>\n",
       "      <td>7</td>\n",
       "    </tr>\n",
       "    <tr>\n",
       "      <th>3</th>\n",
       "      <td>6478</td>\n",
       "      <td>2017</td>\n",
       "      <td>11</td>\n",
       "    </tr>\n",
       "    <tr>\n",
       "      <th>4</th>\n",
       "      <td>8638</td>\n",
       "      <td>1969</td>\n",
       "      <td>20</td>\n",
       "    </tr>\n",
       "  </tbody>\n",
       "</table>\n",
       "</div>"
      ],
      "text/plain": [
       "   visits  year_of_birth  birth_number\n",
       "0    6564           1987            14\n",
       "1    3798           1969            29\n",
       "2    7973           2017             7\n",
       "3    6478           2017            11\n",
       "4    8638           1969            20"
      ]
     },
     "execution_count": 8,
     "metadata": {},
     "output_type": "execute_result"
    }
   ],
   "source": [
    "# Создаём датасет число визитов, год рождения и дата рождения\n",
    "n_samples = 500\n",
    "population = range(1946,2019,1)\n",
    "number_of_visits = np.random.choice(10000, n_samples) + 100\n",
    "year_of_birth = np.random.choice(population,n_samples)\n",
    "birth_number = np.random.choice(28, n_samples) + 3\n",
    "\n",
    "##number = length * width * 100\n",
    "\n",
    "df = pd.DataFrame({'visits': number_of_visits, 'year_of_birth': year_of_birth, 'birth_number': birth_number})\n",
    "df.head(5)"
   ]
  },
  {
   "cell_type": "code",
   "execution_count": 9,
   "metadata": {},
   "outputs": [],
   "source": [
    "#функция по вычислению суммы цифр года рождения\n",
    "def calculate_sum(row):    \n",
    "    s = str(row.year_of_birth)\n",
    "    a = len(s)\n",
    "    res = 0\n",
    "    n = len(s)\n",
    "    for i in range(n):\n",
    "        res += int(s[i])\n",
    "    if res > 10:\n",
    "        res = res//10 + res %10  \n",
    "    return int(res)"
   ]
  },
  {
   "cell_type": "code",
   "execution_count": 10,
   "metadata": {},
   "outputs": [
    {
     "data": {
      "text/html": [
       "<div>\n",
       "<style scoped>\n",
       "    .dataframe tbody tr th:only-of-type {\n",
       "        vertical-align: middle;\n",
       "    }\n",
       "\n",
       "    .dataframe tbody tr th {\n",
       "        vertical-align: top;\n",
       "    }\n",
       "\n",
       "    .dataframe thead th {\n",
       "        text-align: right;\n",
       "    }\n",
       "</style>\n",
       "<table border=\"1\" class=\"dataframe\">\n",
       "  <thead>\n",
       "    <tr style=\"text-align: right;\">\n",
       "      <th></th>\n",
       "      <th>visits</th>\n",
       "      <th>year_of_birth</th>\n",
       "      <th>birth_number</th>\n",
       "      <th>sum_year</th>\n",
       "    </tr>\n",
       "  </thead>\n",
       "  <tbody>\n",
       "    <tr>\n",
       "      <th>0</th>\n",
       "      <td>6564</td>\n",
       "      <td>1987</td>\n",
       "      <td>14</td>\n",
       "      <td>7</td>\n",
       "    </tr>\n",
       "    <tr>\n",
       "      <th>1</th>\n",
       "      <td>3798</td>\n",
       "      <td>1969</td>\n",
       "      <td>29</td>\n",
       "      <td>7</td>\n",
       "    </tr>\n",
       "    <tr>\n",
       "      <th>2</th>\n",
       "      <td>7973</td>\n",
       "      <td>2017</td>\n",
       "      <td>7</td>\n",
       "      <td>10</td>\n",
       "    </tr>\n",
       "    <tr>\n",
       "      <th>3</th>\n",
       "      <td>6478</td>\n",
       "      <td>2017</td>\n",
       "      <td>11</td>\n",
       "      <td>10</td>\n",
       "    </tr>\n",
       "    <tr>\n",
       "      <th>4</th>\n",
       "      <td>8638</td>\n",
       "      <td>1969</td>\n",
       "      <td>20</td>\n",
       "      <td>7</td>\n",
       "    </tr>\n",
       "  </tbody>\n",
       "</table>\n",
       "</div>"
      ],
      "text/plain": [
       "   visits  year_of_birth  birth_number  sum_year\n",
       "0    6564           1987            14         7\n",
       "1    3798           1969            29         7\n",
       "2    7973           2017             7        10\n",
       "3    6478           2017            11        10\n",
       "4    8638           1969            20         7"
      ]
     },
     "execution_count": 10,
     "metadata": {},
     "output_type": "execute_result"
    }
   ],
   "source": [
    "#поместим вычисления в отдельный столбец\n",
    "df['sum_year'] = df.apply(calculate_sum,axis = 1)\n",
    "df.head()"
   ]
  },
  {
   "cell_type": "code",
   "execution_count": 11,
   "metadata": {},
   "outputs": [
    {
     "name": "stdout",
     "output_type": "stream",
     "text": [
      "Weights: [ 6.08251632e-06  7.22159975e-03 -2.01753198e-02]\n",
      "Bias: -8.134328681263632\n",
      "Error: 2.1756158099217218\n"
     ]
    }
   ],
   "source": [
    "#оставим все три признака\n",
    "X = df[['visits', 'year_of_birth' , 'birth_number']]\n",
    "y = df['sum_year']\n",
    "reg = LinearRegression().fit(X, y)\n",
    "print('Weights: {}'.format(reg.coef_))\n",
    "print('Bias: {}'.format(reg.intercept_))\n",
    "\n",
    "pred_values = reg.predict(df[['visits', 'year_of_birth', 'birth_number']])\n",
    "print('Error: {}'.format(mean_absolute_error(pred_values, y)))"
   ]
  },
  {
   "cell_type": "code",
   "execution_count": 12,
   "metadata": {},
   "outputs": [
    {
     "name": "stdout",
     "output_type": "stream",
     "text": [
      "Weights: [ 0.00715602 -0.01998621]\n",
      "Bias: -7.976380032180041\n",
      "Error: 2.1748455193644967\n"
     ]
    }
   ],
   "source": [
    "#оставим два признака\n",
    "X = df[['year_of_birth' , 'birth_number']]\n",
    "y = df['sum_year']\n",
    "reg = LinearRegression().fit(X, y)\n",
    "print('Weights: {}'.format(reg.coef_))\n",
    "print('Bias: {}'.format(reg.intercept_))\n",
    "\n",
    "pred_values = reg.predict(df[['year_of_birth', 'birth_number']])\n",
    "print('Error: {}'.format(mean_absolute_error(pred_values, y)))"
   ]
  },
  {
   "cell_type": "code",
   "execution_count": 13,
   "metadata": {},
   "outputs": [
    {
     "name": "stdout",
     "output_type": "stream",
     "text": [
      "Weights: [-0.02087922]\n",
      "Bias: 6.212548856578599\n",
      "Error: 2.1797315275198694\n"
     ]
    }
   ],
   "source": [
    "#Оставим дату рождения(не от которой считали)\n",
    "X = df[['birth_number']]\n",
    "y = df['sum_year']\n",
    "reg = LinearRegression().fit(X, y)\n",
    "print('Weights: {}'.format(reg.coef_))\n",
    "print('Bias: {}'.format(reg.intercept_))\n",
    "pred_values = reg.predict(df[['birth_number']])\n",
    "print('Error: {}'.format(mean_absolute_error(pred_values, y)))"
   ]
  },
  {
   "cell_type": "code",
   "execution_count": 14,
   "metadata": {},
   "outputs": [
    {
     "name": "stdout",
     "output_type": "stream",
     "text": [
      "Weights: [0.00752031]\n",
      "Bias: -9.027765874105668\n",
      "Error: 2.1820235523504823\n"
     ]
    }
   ],
   "source": [
    "#Оставим столбец (по которому вычисляли)\n",
    "X = df[['year_of_birth']]\n",
    "y = df['sum_year']\n",
    "reg = LinearRegression().fit(X, y)\n",
    "print('Weights: {}'.format(reg.coef_))\n",
    "print('Bias: {}'.format(reg.intercept_))\n",
    "\n",
    "pred_values = reg.predict(df[['year_of_birth']])\n",
    "print('Error: {}'.format(mean_absolute_error(pred_values, y)))"
   ]
  },
  {
   "cell_type": "markdown",
   "metadata": {},
   "source": [
    "## Вывод\n",
    "Для такой зависимости программа не может точно предсказать, сдвиг и ошибка практически одинаковы. Может быть не линейная модель, но хотелось попробовать"
   ]
  },
  {
   "cell_type": "markdown",
   "metadata": {},
   "source": [
    "## Способ 2"
   ]
  },
  {
   "cell_type": "code",
   "execution_count": 15,
   "metadata": {},
   "outputs": [],
   "source": [
    "#Перемножим дату и год  и прибавим  888\n",
    "def calculate_sum(row): \n",
    "    res = row.year_of_birth * row.birth_number + 888  \n",
    "    return res"
   ]
  },
  {
   "cell_type": "code",
   "execution_count": 16,
   "metadata": {},
   "outputs": [
    {
     "data": {
      "text/html": [
       "<div>\n",
       "<style scoped>\n",
       "    .dataframe tbody tr th:only-of-type {\n",
       "        vertical-align: middle;\n",
       "    }\n",
       "\n",
       "    .dataframe tbody tr th {\n",
       "        vertical-align: top;\n",
       "    }\n",
       "\n",
       "    .dataframe thead th {\n",
       "        text-align: right;\n",
       "    }\n",
       "</style>\n",
       "<table border=\"1\" class=\"dataframe\">\n",
       "  <thead>\n",
       "    <tr style=\"text-align: right;\">\n",
       "      <th></th>\n",
       "      <th>visits</th>\n",
       "      <th>year_of_birth</th>\n",
       "      <th>birth_number</th>\n",
       "      <th>sum_year</th>\n",
       "    </tr>\n",
       "  </thead>\n",
       "  <tbody>\n",
       "    <tr>\n",
       "      <th>0</th>\n",
       "      <td>6564</td>\n",
       "      <td>1987</td>\n",
       "      <td>14</td>\n",
       "      <td>28706</td>\n",
       "    </tr>\n",
       "    <tr>\n",
       "      <th>1</th>\n",
       "      <td>3798</td>\n",
       "      <td>1969</td>\n",
       "      <td>29</td>\n",
       "      <td>57989</td>\n",
       "    </tr>\n",
       "    <tr>\n",
       "      <th>2</th>\n",
       "      <td>7973</td>\n",
       "      <td>2017</td>\n",
       "      <td>7</td>\n",
       "      <td>15007</td>\n",
       "    </tr>\n",
       "    <tr>\n",
       "      <th>3</th>\n",
       "      <td>6478</td>\n",
       "      <td>2017</td>\n",
       "      <td>11</td>\n",
       "      <td>23075</td>\n",
       "    </tr>\n",
       "    <tr>\n",
       "      <th>4</th>\n",
       "      <td>8638</td>\n",
       "      <td>1969</td>\n",
       "      <td>20</td>\n",
       "      <td>40268</td>\n",
       "    </tr>\n",
       "  </tbody>\n",
       "</table>\n",
       "</div>"
      ],
      "text/plain": [
       "   visits  year_of_birth  birth_number  sum_year\n",
       "0    6564           1987            14     28706\n",
       "1    3798           1969            29     57989\n",
       "2    7973           2017             7     15007\n",
       "3    6478           2017            11     23075\n",
       "4    8638           1969            20     40268"
      ]
     },
     "execution_count": 16,
     "metadata": {},
     "output_type": "execute_result"
    }
   ],
   "source": [
    "df['sum_year'] = df.apply(calculate_sum,axis = 1)\n",
    "df.head()"
   ]
  },
  {
   "cell_type": "code",
   "execution_count": 17,
   "metadata": {},
   "outputs": [
    {
     "name": "stdout",
     "output_type": "stream",
     "text": [
      "Weights: [-2.59812633e-03  1.61856542e+01  1.98223371e+03]\n",
      "Bias: -31191.14506073566\n",
      "Error: 131.19416990597983\n"
     ]
    }
   ],
   "source": [
    "#оставим все три признака\n",
    "X = df[['visits', 'year_of_birth' , 'birth_number']]\n",
    "y = df['sum_year']\n",
    "reg = LinearRegression().fit(X, y)\n",
    "print('Weights: {}'.format(reg.coef_))\n",
    "print('Bias: {}'.format(reg.intercept_))\n",
    "\n",
    "pred_values = reg.predict(df[['visits', 'year_of_birth', 'birth_number']])\n",
    "print('Error: {}'.format(mean_absolute_error(pred_values, y)))"
   ]
  },
  {
   "cell_type": "markdown",
   "metadata": {},
   "source": [
    "Отклонение значительное"
   ]
  },
  {
   "cell_type": "code",
   "execution_count": 18,
   "metadata": {},
   "outputs": [
    {
     "name": "stdout",
     "output_type": "stream",
     "text": [
      "Weights: [  16.21366817 1982.15292914]\n",
      "Bias: -31258.612293384773\n",
      "Error: 131.11935607050523\n"
     ]
    }
   ],
   "source": [
    "#оставим два признака\n",
    "X = df[['year_of_birth' , 'birth_number']]\n",
    "y = df['sum_year']\n",
    "reg = LinearRegression().fit(X, y)\n",
    "print('Weights: {}'.format(reg.coef_))\n",
    "print('Bias: {}'.format(reg.intercept_))\n",
    "\n",
    "pred_values = reg.predict(df[['year_of_birth', 'birth_number']])\n",
    "print('Error: {}'.format(mean_absolute_error(pred_values, y)))"
   ]
  },
  {
   "cell_type": "markdown",
   "metadata": {},
   "source": [
    "Отклонение осталось почти такое же.\n",
    "Добавим новый столбец"
   ]
  },
  {
   "cell_type": "code",
   "execution_count": 19,
   "metadata": {},
   "outputs": [
    {
     "data": {
      "text/html": [
       "<div>\n",
       "<style scoped>\n",
       "    .dataframe tbody tr th:only-of-type {\n",
       "        vertical-align: middle;\n",
       "    }\n",
       "\n",
       "    .dataframe tbody tr th {\n",
       "        vertical-align: top;\n",
       "    }\n",
       "\n",
       "    .dataframe thead th {\n",
       "        text-align: right;\n",
       "    }\n",
       "</style>\n",
       "<table border=\"1\" class=\"dataframe\">\n",
       "  <thead>\n",
       "    <tr style=\"text-align: right;\">\n",
       "      <th></th>\n",
       "      <th>visits</th>\n",
       "      <th>year_of_birth</th>\n",
       "      <th>birth_number</th>\n",
       "      <th>sum_year</th>\n",
       "      <th>product</th>\n",
       "    </tr>\n",
       "  </thead>\n",
       "  <tbody>\n",
       "    <tr>\n",
       "      <th>0</th>\n",
       "      <td>6564</td>\n",
       "      <td>1987</td>\n",
       "      <td>14</td>\n",
       "      <td>28706</td>\n",
       "      <td>27818</td>\n",
       "    </tr>\n",
       "    <tr>\n",
       "      <th>1</th>\n",
       "      <td>3798</td>\n",
       "      <td>1969</td>\n",
       "      <td>29</td>\n",
       "      <td>57989</td>\n",
       "      <td>57101</td>\n",
       "    </tr>\n",
       "    <tr>\n",
       "      <th>2</th>\n",
       "      <td>7973</td>\n",
       "      <td>2017</td>\n",
       "      <td>7</td>\n",
       "      <td>15007</td>\n",
       "      <td>14119</td>\n",
       "    </tr>\n",
       "    <tr>\n",
       "      <th>3</th>\n",
       "      <td>6478</td>\n",
       "      <td>2017</td>\n",
       "      <td>11</td>\n",
       "      <td>23075</td>\n",
       "      <td>22187</td>\n",
       "    </tr>\n",
       "    <tr>\n",
       "      <th>4</th>\n",
       "      <td>8638</td>\n",
       "      <td>1969</td>\n",
       "      <td>20</td>\n",
       "      <td>40268</td>\n",
       "      <td>39380</td>\n",
       "    </tr>\n",
       "  </tbody>\n",
       "</table>\n",
       "</div>"
      ],
      "text/plain": [
       "   visits  year_of_birth  birth_number  sum_year  product\n",
       "0    6564           1987            14     28706    27818\n",
       "1    3798           1969            29     57989    57101\n",
       "2    7973           2017             7     15007    14119\n",
       "3    6478           2017            11     23075    22187\n",
       "4    8638           1969            20     40268    39380"
      ]
     },
     "execution_count": 19,
     "metadata": {},
     "output_type": "execute_result"
    }
   ],
   "source": [
    "df['product'] = df['year_of_birth'] * df['birth_number']\n",
    "df.head()"
   ]
  },
  {
   "cell_type": "code",
   "execution_count": 20,
   "metadata": {},
   "outputs": [
    {
     "name": "stdout",
     "output_type": "stream",
     "text": [
      "Weights: [ 1.00000000e+00 -4.20767783e-15  2.00528249e-13]\n",
      "Bias: 887.9999999999854\n",
      "Error: 1.1816155165433884e-11\n"
     ]
    }
   ],
   "source": [
    "#оставим  три признака\n",
    "X = df[['product', 'year_of_birth' , 'birth_number']]\n",
    "y = df['sum_year']\n",
    "reg = LinearRegression().fit(X, y)\n",
    "print('Weights: {}'.format(reg.coef_))\n",
    "print('Bias: {}'.format(reg.intercept_))\n",
    "\n",
    "pred_values = reg.predict(df[['product', 'year_of_birth', 'birth_number']])\n",
    "print('Error: {}'.format(mean_absolute_error(pred_values, y)))"
   ]
  },
  {
   "cell_type": "markdown",
   "metadata": {},
   "source": [
    "Отклонение уменьшилось"
   ]
  },
  {
   "cell_type": "code",
   "execution_count": 21,
   "metadata": {},
   "outputs": [
    {
     "name": "stdout",
     "output_type": "stream",
     "text": [
      "Weights: [1.]\n",
      "Bias: 887.9999999999891\n",
      "Error: 7.161361281760037e-12\n"
     ]
    }
   ],
   "source": [
    "#оставим  один\n",
    "X = df[['product']]\n",
    "y = df['sum_year']\n",
    "reg = LinearRegression().fit(X, y)\n",
    "print('Weights: {}'.format(reg.coef_))\n",
    "print('Bias: {}'.format(reg.intercept_))\n",
    "\n",
    "pred_values = reg.predict(df[['product']])\n",
    "print('Error: {}'.format(mean_absolute_error(pred_values, y)))"
   ]
  },
  {
   "cell_type": "markdown",
   "metadata": {},
   "source": [
    "Отклонение осталось прежним, хотя на оси х оставили только один признак"
   ]
  },
  {
   "cell_type": "code",
   "execution_count": 22,
   "metadata": {},
   "outputs": [
    {
     "data": {
      "text/html": [
       "<div>\n",
       "<style scoped>\n",
       "    .dataframe tbody tr th:only-of-type {\n",
       "        vertical-align: middle;\n",
       "    }\n",
       "\n",
       "    .dataframe tbody tr th {\n",
       "        vertical-align: top;\n",
       "    }\n",
       "\n",
       "    .dataframe thead th {\n",
       "        text-align: right;\n",
       "    }\n",
       "</style>\n",
       "<table border=\"1\" class=\"dataframe\">\n",
       "  <thead>\n",
       "    <tr style=\"text-align: right;\">\n",
       "      <th></th>\n",
       "      <th>visits</th>\n",
       "      <th>year_of_birth</th>\n",
       "      <th>birth_number</th>\n",
       "      <th>sum_year</th>\n",
       "      <th>product</th>\n",
       "    </tr>\n",
       "  </thead>\n",
       "  <tbody>\n",
       "    <tr>\n",
       "      <th>0</th>\n",
       "      <td>6564</td>\n",
       "      <td>1987</td>\n",
       "      <td>14</td>\n",
       "      <td>28706</td>\n",
       "      <td>28318</td>\n",
       "    </tr>\n",
       "    <tr>\n",
       "      <th>1</th>\n",
       "      <td>3798</td>\n",
       "      <td>1969</td>\n",
       "      <td>29</td>\n",
       "      <td>57989</td>\n",
       "      <td>57601</td>\n",
       "    </tr>\n",
       "    <tr>\n",
       "      <th>2</th>\n",
       "      <td>7973</td>\n",
       "      <td>2017</td>\n",
       "      <td>7</td>\n",
       "      <td>15007</td>\n",
       "      <td>14619</td>\n",
       "    </tr>\n",
       "    <tr>\n",
       "      <th>3</th>\n",
       "      <td>6478</td>\n",
       "      <td>2017</td>\n",
       "      <td>11</td>\n",
       "      <td>23075</td>\n",
       "      <td>22687</td>\n",
       "    </tr>\n",
       "    <tr>\n",
       "      <th>4</th>\n",
       "      <td>8638</td>\n",
       "      <td>1969</td>\n",
       "      <td>20</td>\n",
       "      <td>40268</td>\n",
       "      <td>39880</td>\n",
       "    </tr>\n",
       "  </tbody>\n",
       "</table>\n",
       "</div>"
      ],
      "text/plain": [
       "   visits  year_of_birth  birth_number  sum_year  product\n",
       "0    6564           1987            14     28706    28318\n",
       "1    3798           1969            29     57989    57601\n",
       "2    7973           2017             7     15007    14619\n",
       "3    6478           2017            11     23075    22687\n",
       "4    8638           1969            20     40268    39880"
      ]
     },
     "execution_count": 22,
     "metadata": {},
     "output_type": "execute_result"
    }
   ],
   "source": [
    "df['product'] = df['year_of_birth'] * df['birth_number'] +500\n",
    "df.head()"
   ]
  },
  {
   "cell_type": "code",
   "execution_count": 23,
   "metadata": {},
   "outputs": [
    {
     "name": "stdout",
     "output_type": "stream",
     "text": [
      "Weights: [1.]\n",
      "Bias: 388.0\n",
      "Error: 0.0\n"
     ]
    }
   ],
   "source": [
    "#оставим  один\n",
    "X = df[['product']]\n",
    "y = df['sum_year']\n",
    "reg = LinearRegression().fit(X, y)\n",
    "print('Weights: {}'.format(reg.coef_))\n",
    "print('Bias: {}'.format(reg.intercept_))\n",
    "\n",
    "pred_values = reg.predict(df[['product']])\n",
    "print('Error: {}'.format(mean_absolute_error(pred_values, y)))"
   ]
  },
  {
   "cell_type": "code",
   "execution_count": 24,
   "metadata": {},
   "outputs": [
    {
     "data": {
      "text/html": [
       "<div>\n",
       "<style scoped>\n",
       "    .dataframe tbody tr th:only-of-type {\n",
       "        vertical-align: middle;\n",
       "    }\n",
       "\n",
       "    .dataframe tbody tr th {\n",
       "        vertical-align: top;\n",
       "    }\n",
       "\n",
       "    .dataframe thead th {\n",
       "        text-align: right;\n",
       "    }\n",
       "</style>\n",
       "<table border=\"1\" class=\"dataframe\">\n",
       "  <thead>\n",
       "    <tr style=\"text-align: right;\">\n",
       "      <th></th>\n",
       "      <th>visits</th>\n",
       "      <th>year_of_birth</th>\n",
       "      <th>birth_number</th>\n",
       "      <th>sum_year</th>\n",
       "      <th>product</th>\n",
       "    </tr>\n",
       "  </thead>\n",
       "  <tbody>\n",
       "    <tr>\n",
       "      <th>0</th>\n",
       "      <td>6564</td>\n",
       "      <td>1987</td>\n",
       "      <td>14</td>\n",
       "      <td>28706</td>\n",
       "      <td>28706</td>\n",
       "    </tr>\n",
       "    <tr>\n",
       "      <th>1</th>\n",
       "      <td>3798</td>\n",
       "      <td>1969</td>\n",
       "      <td>29</td>\n",
       "      <td>57989</td>\n",
       "      <td>57989</td>\n",
       "    </tr>\n",
       "    <tr>\n",
       "      <th>2</th>\n",
       "      <td>7973</td>\n",
       "      <td>2017</td>\n",
       "      <td>7</td>\n",
       "      <td>15007</td>\n",
       "      <td>15007</td>\n",
       "    </tr>\n",
       "    <tr>\n",
       "      <th>3</th>\n",
       "      <td>6478</td>\n",
       "      <td>2017</td>\n",
       "      <td>11</td>\n",
       "      <td>23075</td>\n",
       "      <td>23075</td>\n",
       "    </tr>\n",
       "    <tr>\n",
       "      <th>4</th>\n",
       "      <td>8638</td>\n",
       "      <td>1969</td>\n",
       "      <td>20</td>\n",
       "      <td>40268</td>\n",
       "      <td>40268</td>\n",
       "    </tr>\n",
       "  </tbody>\n",
       "</table>\n",
       "</div>"
      ],
      "text/plain": [
       "   visits  year_of_birth  birth_number  sum_year  product\n",
       "0    6564           1987            14     28706    28706\n",
       "1    3798           1969            29     57989    57989\n",
       "2    7973           2017             7     15007    15007\n",
       "3    6478           2017            11     23075    23075\n",
       "4    8638           1969            20     40268    40268"
      ]
     },
     "execution_count": 24,
     "metadata": {},
     "output_type": "execute_result"
    }
   ],
   "source": [
    "df['product'] = df['year_of_birth'] * df['birth_number'] + 888\n",
    "df.head()"
   ]
  },
  {
   "cell_type": "markdown",
   "metadata": {},
   "source": [
    "Прибавив цифру 888,  отклонение 0"
   ]
  },
  {
   "cell_type": "code",
   "execution_count": 26,
   "metadata": {},
   "outputs": [
    {
     "name": "stdout",
     "output_type": "stream",
     "text": [
      "Weights: [1.]\n",
      "Bias: 0.0\n",
      "Error: 0.0\n"
     ]
    }
   ],
   "source": [
    "#оставим  один\n",
    "X = df[['product']]\n",
    "y = df['sum_year']\n",
    "reg = LinearRegression().fit(X, y)\n",
    "print('Weights: {}'.format(reg.coef_))\n",
    "print('Bias: {}'.format(reg.intercept_))\n",
    "\n",
    "pred_values = reg.predict(df[['product']])\n",
    "print('Error: {}'.format(mean_absolute_error(pred_values, y)))"
   ]
  },
  {
   "cell_type": "code",
   "execution_count": 27,
   "metadata": {},
   "outputs": [
    {
     "data": {
      "text/html": [
       "<div>\n",
       "<style scoped>\n",
       "    .dataframe tbody tr th:only-of-type {\n",
       "        vertical-align: middle;\n",
       "    }\n",
       "\n",
       "    .dataframe tbody tr th {\n",
       "        vertical-align: top;\n",
       "    }\n",
       "\n",
       "    .dataframe thead th {\n",
       "        text-align: right;\n",
       "    }\n",
       "</style>\n",
       "<table border=\"1\" class=\"dataframe\">\n",
       "  <thead>\n",
       "    <tr style=\"text-align: right;\">\n",
       "      <th></th>\n",
       "      <th>visits</th>\n",
       "      <th>year_of_birth</th>\n",
       "      <th>birth_number</th>\n",
       "      <th>sum_year</th>\n",
       "      <th>product</th>\n",
       "    </tr>\n",
       "  </thead>\n",
       "  <tbody>\n",
       "    <tr>\n",
       "      <th>0</th>\n",
       "      <td>6564</td>\n",
       "      <td>1987</td>\n",
       "      <td>14</td>\n",
       "      <td>28706</td>\n",
       "      <td>28713</td>\n",
       "    </tr>\n",
       "    <tr>\n",
       "      <th>1</th>\n",
       "      <td>3798</td>\n",
       "      <td>1969</td>\n",
       "      <td>29</td>\n",
       "      <td>57989</td>\n",
       "      <td>57996</td>\n",
       "    </tr>\n",
       "    <tr>\n",
       "      <th>2</th>\n",
       "      <td>7973</td>\n",
       "      <td>2017</td>\n",
       "      <td>7</td>\n",
       "      <td>15007</td>\n",
       "      <td>15014</td>\n",
       "    </tr>\n",
       "    <tr>\n",
       "      <th>3</th>\n",
       "      <td>6478</td>\n",
       "      <td>2017</td>\n",
       "      <td>11</td>\n",
       "      <td>23075</td>\n",
       "      <td>23082</td>\n",
       "    </tr>\n",
       "    <tr>\n",
       "      <th>4</th>\n",
       "      <td>8638</td>\n",
       "      <td>1969</td>\n",
       "      <td>20</td>\n",
       "      <td>40268</td>\n",
       "      <td>40275</td>\n",
       "    </tr>\n",
       "  </tbody>\n",
       "</table>\n",
       "</div>"
      ],
      "text/plain": [
       "   visits  year_of_birth  birth_number  sum_year  product\n",
       "0    6564           1987            14     28706    28713\n",
       "1    3798           1969            29     57989    57996\n",
       "2    7973           2017             7     15007    15014\n",
       "3    6478           2017            11     23075    23082\n",
       "4    8638           1969            20     40268    40275"
      ]
     },
     "execution_count": 27,
     "metadata": {},
     "output_type": "execute_result"
    }
   ],
   "source": [
    "df['product'] = df['year_of_birth'] * df['birth_number'] + 895\n",
    "df.head()"
   ]
  },
  {
   "cell_type": "markdown",
   "metadata": {},
   "source": [
    "А если добавим 7, то отклонение изменилось ровно на 7"
   ]
  },
  {
   "cell_type": "code",
   "execution_count": 29,
   "metadata": {},
   "outputs": [
    {
     "name": "stdout",
     "output_type": "stream",
     "text": [
      "Weights: [1.]\n",
      "Bias: -7.0\n",
      "Error: 0.0\n"
     ]
    }
   ],
   "source": [
    "#оставим  один\n",
    "X = df[['product']]\n",
    "y = df['sum_year']\n",
    "reg = LinearRegression().fit(X, y)\n",
    "print('Weights: {}'.format(reg.coef_))\n",
    "print('Bias: {}'.format(reg.intercept_))\n",
    "\n",
    "pred_values = reg.predict(df[['product']])\n",
    "print('Error: {}'.format(mean_absolute_error(pred_values, y)))"
   ]
  },
  {
   "cell_type": "markdown",
   "metadata": {},
   "source": [
    "## Задание 2\n",
    "Попробуем другой датасет, Возраст сотрудника, оклад, стаж, надбавка за год. Вычислим зарплату"
   ]
  },
  {
   "cell_type": "code",
   "execution_count": 32,
   "metadata": {},
   "outputs": [
    {
     "data": {
      "text/html": [
       "<div>\n",
       "<style scoped>\n",
       "    .dataframe tbody tr th:only-of-type {\n",
       "        vertical-align: middle;\n",
       "    }\n",
       "\n",
       "    .dataframe tbody tr th {\n",
       "        vertical-align: top;\n",
       "    }\n",
       "\n",
       "    .dataframe thead th {\n",
       "        text-align: right;\n",
       "    }\n",
       "</style>\n",
       "<table border=\"1\" class=\"dataframe\">\n",
       "  <thead>\n",
       "    <tr style=\"text-align: right;\">\n",
       "      <th></th>\n",
       "      <th>age</th>\n",
       "      <th>experience</th>\n",
       "      <th>premium</th>\n",
       "      <th>salary</th>\n",
       "      <th>res_salary</th>\n",
       "    </tr>\n",
       "  </thead>\n",
       "  <tbody>\n",
       "    <tr>\n",
       "      <th>0</th>\n",
       "      <td>27</td>\n",
       "      <td>14</td>\n",
       "      <td>4000</td>\n",
       "      <td>130000</td>\n",
       "      <td>186000</td>\n",
       "    </tr>\n",
       "    <tr>\n",
       "      <th>1</th>\n",
       "      <td>24</td>\n",
       "      <td>4</td>\n",
       "      <td>4000</td>\n",
       "      <td>110000</td>\n",
       "      <td>126000</td>\n",
       "    </tr>\n",
       "    <tr>\n",
       "      <th>2</th>\n",
       "      <td>22</td>\n",
       "      <td>2</td>\n",
       "      <td>2000</td>\n",
       "      <td>135000</td>\n",
       "      <td>139000</td>\n",
       "    </tr>\n",
       "    <tr>\n",
       "      <th>3</th>\n",
       "      <td>50</td>\n",
       "      <td>12</td>\n",
       "      <td>3500</td>\n",
       "      <td>85000</td>\n",
       "      <td>127000</td>\n",
       "    </tr>\n",
       "    <tr>\n",
       "      <th>4</th>\n",
       "      <td>34</td>\n",
       "      <td>12</td>\n",
       "      <td>4000</td>\n",
       "      <td>110000</td>\n",
       "      <td>158000</td>\n",
       "    </tr>\n",
       "  </tbody>\n",
       "</table>\n",
       "</div>"
      ],
      "text/plain": [
       "   age  experience  premium  salary  res_salary\n",
       "0   27          14     4000  130000      186000\n",
       "1   24           4     4000  110000      126000\n",
       "2   22           2     2000  135000      139000\n",
       "3   50          12     3500   85000      127000\n",
       "4   34          12     4000  110000      158000"
      ]
     },
     "execution_count": 32,
     "metadata": {},
     "output_type": "execute_result"
    }
   ],
   "source": [
    "# Создаём датасет число визитов, год рождения и дата рождения\n",
    "n_samples = 500\n",
    "population = range(0,15,1)\n",
    "age = np.random.choice(range(18,65,1), n_samples)\n",
    "experience = np.random.choice(population,n_samples)\n",
    "premium = np.random.choice(range(1000,5000,500), n_samples)\n",
    "salary =  np.random.choice(range(50000,150000,5000), n_samples)\n",
    "res_salary = experience * premium + salary\n",
    "\n",
    "df = pd.DataFrame({'age': age, 'experience': experience, 'premium': premium, 'salary':salary,'res_salary': res_salary})\n",
    "df.head(5)"
   ]
  },
  {
   "cell_type": "code",
   "execution_count": 33,
   "metadata": {},
   "outputs": [
    {
     "name": "stdout",
     "output_type": "stream",
     "text": [
      "Weights: [2.37622865e+01 2.72574170e+03 7.12188714e+00 9.92675870e-01]\n",
      "Bias: -19513.842044734483\n",
      "Error: 3685.3426169392164\n"
     ]
    }
   ],
   "source": [
    "#оставим  все\n",
    "X = df[['age', 'experience' , 'premium', 'salary']]\n",
    "y = df['res_salary']\n",
    "reg = LinearRegression().fit(X, y)\n",
    "print('Weights: {}'.format(reg.coef_))\n",
    "print('Bias: {}'.format(reg.intercept_))\n",
    "\n",
    "pred_values = reg.predict(df[['age', 'experience' , 'premium', 'salary']])\n",
    "print('Error: {}'.format(mean_absolute_error(pred_values, y)))"
   ]
  },
  {
   "cell_type": "code",
   "execution_count": 34,
   "metadata": {},
   "outputs": [
    {
     "name": "stdout",
     "output_type": "stream",
     "text": [
      "Weights: [2.72690926e+03 7.11567948e+00 9.92374601e-01]\n",
      "Bias: -18493.28490348498\n",
      "Error: 3678.9110643341587\n"
     ]
    }
   ],
   "source": [
    "#оставим  от которых зависит\n",
    "X = df[['experience' , 'premium', 'salary']]\n",
    "y = df['res_salary']\n",
    "reg = LinearRegression().fit(X, y)\n",
    "print('Weights: {}'.format(reg.coef_))\n",
    "print('Bias: {}'.format(reg.intercept_))\n",
    "\n",
    "pred_values = reg.predict(df[['experience' , 'premium', 'salary']])\n",
    "print('Error: {}'.format(mean_absolute_error(pred_values, y)))"
   ]
  },
  {
   "cell_type": "markdown",
   "metadata": {},
   "source": [
    "Вывод: с помощью этой функции подбираешь линейную зависимость, формулу"
   ]
  },
  {
   "cell_type": "code",
   "execution_count": null,
   "metadata": {},
   "outputs": [],
   "source": []
  }
 ],
 "metadata": {
  "kernelspec": {
   "display_name": "Python 3",
   "language": "python",
   "name": "python3"
  },
  "language_info": {
   "codemirror_mode": {
    "name": "ipython",
    "version": 3
   },
   "file_extension": ".py",
   "mimetype": "text/x-python",
   "name": "python",
   "nbconvert_exporter": "python",
   "pygments_lexer": "ipython3",
   "version": "3.7.6"
  }
 },
 "nbformat": 4,
 "nbformat_minor": 2
}
